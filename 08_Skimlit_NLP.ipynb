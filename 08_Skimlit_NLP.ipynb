{
  "nbformat": 4,
  "nbformat_minor": 0,
  "metadata": {
    "colab": {
      "name": "08_Skimlit_NLP.ipynb",
      "provenance": [],
      "authorship_tag": "ABX9TyNAP0TP9QSbL2fxp3gHcs8J",
      "include_colab_link": true
    },
    "kernelspec": {
      "name": "python3",
      "display_name": "Python 3"
    },
    "language_info": {
      "name": "python"
    },
    "gpuClass": "standard",
    "accelerator": "GPU"
  },
  "cells": [
    {
      "cell_type": "markdown",
      "metadata": {
        "id": "view-in-github",
        "colab_type": "text"
      },
      "source": [
        "<a href=\"https://colab.research.google.com/github/rishicarter/Tensorflow_fundamentals/blob/main/08_Skimlit_NLP.ipynb\" target=\"_parent\"><img src=\"https://colab.research.google.com/assets/colab-badge.svg\" alt=\"Open In Colab\"/></a>"
      ]
    },
    {
      "cell_type": "code",
      "execution_count": 1,
      "metadata": {
        "colab": {
          "base_uri": "https://localhost:8080/"
        },
        "id": "w1XpGIosdDki",
        "outputId": "e495fa44-1c63-4f3b-844a-b00767a3d8d6"
      },
      "outputs": [
        {
          "output_type": "stream",
          "name": "stdout",
          "text": [
            "GPU 0: Tesla T4 (UUID: GPU-8f90b03a-6491-132c-ef39-0ff5b1e244c4)\n"
          ]
        }
      ],
      "source": [
        "!nvidia-smi -L"
      ]
    },
    {
      "cell_type": "markdown",
      "source": [
        "# Get data"
      ],
      "metadata": {
        "id": "yhRELj6ffLCg"
      }
    },
    {
      "cell_type": "code",
      "source": [
        "!git clone https://github.com/Franck-Dernoncourt/pubmed-rct.git\n",
        "!ls pubmed-rct"
      ],
      "metadata": {
        "colab": {
          "base_uri": "https://localhost:8080/"
        },
        "id": "QBNOhoP3fQRK",
        "outputId": "32a75e19-3125-4b23-c853-4c4496d04f83"
      },
      "execution_count": 2,
      "outputs": [
        {
          "output_type": "stream",
          "name": "stdout",
          "text": [
            "Cloning into 'pubmed-rct'...\n",
            "remote: Enumerating objects: 33, done.\u001b[K\n",
            "remote: Counting objects: 100% (8/8), done.\u001b[K\n",
            "remote: Compressing objects: 100% (3/3), done.\u001b[K\n",
            "remote: Total 33 (delta 5), reused 5 (delta 5), pack-reused 25\u001b[K\n",
            "Unpacking objects: 100% (33/33), done.\n",
            "Checking out files: 100% (13/13), done.\n",
            "PubMed_200k_RCT\n",
            "PubMed_200k_RCT_numbers_replaced_with_at_sign\n",
            "PubMed_20k_RCT\n",
            "PubMed_20k_RCT_numbers_replaced_with_at_sign\n",
            "README.md\n"
          ]
        }
      ]
    },
    {
      "cell_type": "code",
      "source": [
        "data_dir = '/content/pubmed-rct/PubMed_20k_RCT_numbers_replaced_with_at_sign'"
      ],
      "metadata": {
        "id": "XgfUViq1gRMF"
      },
      "execution_count": 3,
      "outputs": []
    },
    {
      "cell_type": "code",
      "source": [
        "import os\n",
        "filenames = [data_dir + filename for filename in os.listdir(data_dir)]\n",
        "\n",
        "filenames"
      ],
      "metadata": {
        "colab": {
          "base_uri": "https://localhost:8080/"
        },
        "id": "iPQbPcvMfQdb",
        "outputId": "4e815b89-4833-4f75-8bff-55d73fc8ae25"
      },
      "execution_count": 4,
      "outputs": [
        {
          "output_type": "execute_result",
          "data": {
            "text/plain": [
              "['/content/pubmed-rct/PubMed_20k_RCT_numbers_replaced_with_at_signtest.txt',\n",
              " '/content/pubmed-rct/PubMed_20k_RCT_numbers_replaced_with_at_signdev.txt',\n",
              " '/content/pubmed-rct/PubMed_20k_RCT_numbers_replaced_with_at_signtrain.txt']"
            ]
          },
          "metadata": {},
          "execution_count": 4
        }
      ]
    },
    {
      "cell_type": "markdown",
      "source": [
        "# Imports and functions"
      ],
      "metadata": {
        "id": "hq_Tj6BufQhq"
      }
    },
    {
      "cell_type": "code",
      "source": [
        "!wget https://raw.githubusercontent.com/mrdbourke/tensorflow-deep-learning/main/extras/helper_functions.py"
      ],
      "metadata": {
        "colab": {
          "base_uri": "https://localhost:8080/"
        },
        "id": "bWRlPwmCoyFt",
        "outputId": "c63f0371-789b-41e8-9d03-748def431db5"
      },
      "execution_count": 5,
      "outputs": [
        {
          "output_type": "stream",
          "name": "stdout",
          "text": [
            "--2022-08-02 15:53:09--  https://raw.githubusercontent.com/mrdbourke/tensorflow-deep-learning/main/extras/helper_functions.py\n",
            "Resolving raw.githubusercontent.com (raw.githubusercontent.com)... 185.199.108.133, 185.199.109.133, 185.199.110.133, ...\n",
            "Connecting to raw.githubusercontent.com (raw.githubusercontent.com)|185.199.108.133|:443... connected.\n",
            "HTTP request sent, awaiting response... 200 OK\n",
            "Length: 10246 (10K) [text/plain]\n",
            "Saving to: ‘helper_functions.py’\n",
            "\n",
            "\rhelper_functions.py   0%[                    ]       0  --.-KB/s               \rhelper_functions.py 100%[===================>]  10.01K  --.-KB/s    in 0s      \n",
            "\n",
            "2022-08-02 15:53:09 (86.5 MB/s) - ‘helper_functions.py’ saved [10246/10246]\n",
            "\n"
          ]
        }
      ]
    },
    {
      "cell_type": "code",
      "source": [
        "import pandas as pd\n",
        "import numpy as np\n",
        "import matplotlib.pyplot as plt\n",
        "import tensorflow as tf\n",
        "from helper_functions import calculate_results\n",
        "import random\n",
        "\n",
        "\n",
        "from tensorflow.keras import layers\n",
        "from tensorflow.keras.layers.experimental.preprocessing import TextVectorization\n",
        "from tensorflow.keras.layers import Embedding\n"
      ],
      "metadata": {
        "id": "seFMLk5hfQlg"
      },
      "execution_count": 6,
      "outputs": []
    },
    {
      "cell_type": "code",
      "source": [
        "#Functions\n",
        "def get_lines(filename):\n",
        "\n",
        "  with open(filename,mode='r') as f:\n",
        "    return f.readlines()\n",
        "\n",
        "def preprocess_text_with_linenums(filename):\n",
        "  input_lines = get_lines(filename)\n",
        "  abstract_lines = \"\"\n",
        "  abstract_samples = []\n",
        "\n",
        "  for line in input_lines:\n",
        "    if line.startswith('###'):\n",
        "      abstract_id=line\n",
        "      abstract_lines=\"\"\n",
        "    elif line.isspace():\n",
        "      abstract_line_split = abstract_lines.splitlines()\n",
        "\n",
        "      for abstract_line_number, abstract_line in enumerate(abstract_line_split):\n",
        "        line_data={}\n",
        "        target_text_split=abstract_line.split('\\t')\n",
        "        line_data['target']=target_text_split[0]\n",
        "        line_data['text']=target_text_split[1].lower()\n",
        "        line_data['line_number']=abstract_line_number\n",
        "        line_data['total_lines']=len(abstract_line_split)-1\n",
        "        abstract_samples.append(line_data)\n",
        "    else:\n",
        "      abstract_lines+=line\n",
        "  return abstract_samples\n",
        "\n",
        "def split_chars(text):\n",
        "  return \" \".join(list(text))"
      ],
      "metadata": {
        "id": "dMPCdtNSgu5u"
      },
      "execution_count": 7,
      "outputs": []
    },
    {
      "cell_type": "markdown",
      "source": [
        "#Preprocess"
      ],
      "metadata": {
        "id": "Yyb9ZYc2fQpt"
      }
    },
    {
      "cell_type": "code",
      "source": [
        "train_lines = get_lines(data_dir+'/train.txt')\n",
        "train_lines[:10]"
      ],
      "metadata": {
        "colab": {
          "base_uri": "https://localhost:8080/"
        },
        "id": "-_pylA0Fgjpg",
        "outputId": "7af70be1-4263-4ca3-83ba-444a8bb0cf74"
      },
      "execution_count": 8,
      "outputs": [
        {
          "output_type": "execute_result",
          "data": {
            "text/plain": [
              "['###24293578\\n',\n",
              " 'OBJECTIVE\\tTo investigate the efficacy of @ weeks of daily low-dose oral prednisolone in improving pain , mobility , and systemic low-grade inflammation in the short term and whether the effect would be sustained at @ weeks in older adults with moderate to severe knee osteoarthritis ( OA ) .\\n',\n",
              " 'METHODS\\tA total of @ patients with primary knee OA were randomized @:@ ; @ received @ mg/day of prednisolone and @ received placebo for @ weeks .\\n',\n",
              " 'METHODS\\tOutcome measures included pain reduction and improvement in function scores and systemic inflammation markers .\\n',\n",
              " 'METHODS\\tPain was assessed using the visual analog pain scale ( @-@ mm ) .\\n',\n",
              " 'METHODS\\tSecondary outcome measures included the Western Ontario and McMaster Universities Osteoarthritis Index scores , patient global assessment ( PGA ) of the severity of knee OA , and @-min walk distance ( @MWD ) .\\n',\n",
              " 'METHODS\\tSerum levels of interleukin @ ( IL-@ ) , IL-@ , tumor necrosis factor ( TNF ) - , and high-sensitivity C-reactive protein ( hsCRP ) were measured .\\n',\n",
              " 'RESULTS\\tThere was a clinically relevant reduction in the intervention group compared to the placebo group for knee pain , physical function , PGA , and @MWD at @ weeks .\\n',\n",
              " 'RESULTS\\tThe mean difference between treatment arms ( @ % CI ) was @ ( @-@ @ ) , p < @ ; @ ( @-@ @ ) , p < @ ; @ ( @-@ @ ) , p < @ ; and @ ( @-@ @ ) , p < @ , respectively .\\n',\n",
              " 'RESULTS\\tFurther , there was a clinically relevant reduction in the serum levels of IL-@ , IL-@ , TNF - , and hsCRP at @ weeks in the intervention group when compared to the placebo group .\\n']"
            ]
          },
          "metadata": {},
          "execution_count": 8
        }
      ]
    },
    {
      "cell_type": "code",
      "source": [
        "%%time\n",
        "train_samples = preprocess_text_with_linenums(data_dir+'/train.txt')\n",
        "val_samples = preprocess_text_with_linenums(data_dir+'/dev.txt')\n",
        "test_samples = preprocess_text_with_linenums(data_dir+'/test.txt')"
      ],
      "metadata": {
        "colab": {
          "base_uri": "https://localhost:8080/"
        },
        "id": "SZ8aCHEIgs5G",
        "outputId": "4b78e232-4327-48f3-9da9-a6b6d4490a97"
      },
      "execution_count": 9,
      "outputs": [
        {
          "output_type": "stream",
          "name": "stdout",
          "text": [
            "CPU times: user 695 ms, sys: 111 ms, total: 806 ms\n",
            "Wall time: 1.16 s\n"
          ]
        }
      ]
    },
    {
      "cell_type": "code",
      "source": [
        "train_df = pd.DataFrame(train_samples)\n",
        "val_df = pd.DataFrame(val_samples)\n",
        "test_df = pd.DataFrame(test_samples)"
      ],
      "metadata": {
        "id": "CqfTMfRogs-8"
      },
      "execution_count": 10,
      "outputs": []
    },
    {
      "cell_type": "code",
      "source": [
        "train_df.head()"
      ],
      "metadata": {
        "colab": {
          "base_uri": "https://localhost:8080/",
          "height": 0
        },
        "id": "kM0yDDzngtC0",
        "outputId": "14fefac7-3bdd-4cd0-d0bf-516bd0b883e5"
      },
      "execution_count": 11,
      "outputs": [
        {
          "output_type": "execute_result",
          "data": {
            "text/plain": [
              "      target                                               text  line_number  \\\n",
              "0  OBJECTIVE  to investigate the efficacy of @ weeks of dail...            0   \n",
              "1    METHODS  a total of @ patients with primary knee oa wer...            1   \n",
              "2    METHODS  outcome measures included pain reduction and i...            2   \n",
              "3    METHODS  pain was assessed using the visual analog pain...            3   \n",
              "4    METHODS  secondary outcome measures included the wester...            4   \n",
              "\n",
              "   total_lines  \n",
              "0           11  \n",
              "1           11  \n",
              "2           11  \n",
              "3           11  \n",
              "4           11  "
            ],
            "text/html": [
              "\n",
              "  <div id=\"df-bf5fbdeb-e90c-43b8-bd1a-1ceede34212a\">\n",
              "    <div class=\"colab-df-container\">\n",
              "      <div>\n",
              "<style scoped>\n",
              "    .dataframe tbody tr th:only-of-type {\n",
              "        vertical-align: middle;\n",
              "    }\n",
              "\n",
              "    .dataframe tbody tr th {\n",
              "        vertical-align: top;\n",
              "    }\n",
              "\n",
              "    .dataframe thead th {\n",
              "        text-align: right;\n",
              "    }\n",
              "</style>\n",
              "<table border=\"1\" class=\"dataframe\">\n",
              "  <thead>\n",
              "    <tr style=\"text-align: right;\">\n",
              "      <th></th>\n",
              "      <th>target</th>\n",
              "      <th>text</th>\n",
              "      <th>line_number</th>\n",
              "      <th>total_lines</th>\n",
              "    </tr>\n",
              "  </thead>\n",
              "  <tbody>\n",
              "    <tr>\n",
              "      <th>0</th>\n",
              "      <td>OBJECTIVE</td>\n",
              "      <td>to investigate the efficacy of @ weeks of dail...</td>\n",
              "      <td>0</td>\n",
              "      <td>11</td>\n",
              "    </tr>\n",
              "    <tr>\n",
              "      <th>1</th>\n",
              "      <td>METHODS</td>\n",
              "      <td>a total of @ patients with primary knee oa wer...</td>\n",
              "      <td>1</td>\n",
              "      <td>11</td>\n",
              "    </tr>\n",
              "    <tr>\n",
              "      <th>2</th>\n",
              "      <td>METHODS</td>\n",
              "      <td>outcome measures included pain reduction and i...</td>\n",
              "      <td>2</td>\n",
              "      <td>11</td>\n",
              "    </tr>\n",
              "    <tr>\n",
              "      <th>3</th>\n",
              "      <td>METHODS</td>\n",
              "      <td>pain was assessed using the visual analog pain...</td>\n",
              "      <td>3</td>\n",
              "      <td>11</td>\n",
              "    </tr>\n",
              "    <tr>\n",
              "      <th>4</th>\n",
              "      <td>METHODS</td>\n",
              "      <td>secondary outcome measures included the wester...</td>\n",
              "      <td>4</td>\n",
              "      <td>11</td>\n",
              "    </tr>\n",
              "  </tbody>\n",
              "</table>\n",
              "</div>\n",
              "      <button class=\"colab-df-convert\" onclick=\"convertToInteractive('df-bf5fbdeb-e90c-43b8-bd1a-1ceede34212a')\"\n",
              "              title=\"Convert this dataframe to an interactive table.\"\n",
              "              style=\"display:none;\">\n",
              "        \n",
              "  <svg xmlns=\"http://www.w3.org/2000/svg\" height=\"24px\"viewBox=\"0 0 24 24\"\n",
              "       width=\"24px\">\n",
              "    <path d=\"M0 0h24v24H0V0z\" fill=\"none\"/>\n",
              "    <path d=\"M18.56 5.44l.94 2.06.94-2.06 2.06-.94-2.06-.94-.94-2.06-.94 2.06-2.06.94zm-11 1L8.5 8.5l.94-2.06 2.06-.94-2.06-.94L8.5 2.5l-.94 2.06-2.06.94zm10 10l.94 2.06.94-2.06 2.06-.94-2.06-.94-.94-2.06-.94 2.06-2.06.94z\"/><path d=\"M17.41 7.96l-1.37-1.37c-.4-.4-.92-.59-1.43-.59-.52 0-1.04.2-1.43.59L10.3 9.45l-7.72 7.72c-.78.78-.78 2.05 0 2.83L4 21.41c.39.39.9.59 1.41.59.51 0 1.02-.2 1.41-.59l7.78-7.78 2.81-2.81c.8-.78.8-2.07 0-2.86zM5.41 20L4 18.59l7.72-7.72 1.47 1.35L5.41 20z\"/>\n",
              "  </svg>\n",
              "      </button>\n",
              "      \n",
              "  <style>\n",
              "    .colab-df-container {\n",
              "      display:flex;\n",
              "      flex-wrap:wrap;\n",
              "      gap: 12px;\n",
              "    }\n",
              "\n",
              "    .colab-df-convert {\n",
              "      background-color: #E8F0FE;\n",
              "      border: none;\n",
              "      border-radius: 50%;\n",
              "      cursor: pointer;\n",
              "      display: none;\n",
              "      fill: #1967D2;\n",
              "      height: 32px;\n",
              "      padding: 0 0 0 0;\n",
              "      width: 32px;\n",
              "    }\n",
              "\n",
              "    .colab-df-convert:hover {\n",
              "      background-color: #E2EBFA;\n",
              "      box-shadow: 0px 1px 2px rgba(60, 64, 67, 0.3), 0px 1px 3px 1px rgba(60, 64, 67, 0.15);\n",
              "      fill: #174EA6;\n",
              "    }\n",
              "\n",
              "    [theme=dark] .colab-df-convert {\n",
              "      background-color: #3B4455;\n",
              "      fill: #D2E3FC;\n",
              "    }\n",
              "\n",
              "    [theme=dark] .colab-df-convert:hover {\n",
              "      background-color: #434B5C;\n",
              "      box-shadow: 0px 1px 3px 1px rgba(0, 0, 0, 0.15);\n",
              "      filter: drop-shadow(0px 1px 2px rgba(0, 0, 0, 0.3));\n",
              "      fill: #FFFFFF;\n",
              "    }\n",
              "  </style>\n",
              "\n",
              "      <script>\n",
              "        const buttonEl =\n",
              "          document.querySelector('#df-bf5fbdeb-e90c-43b8-bd1a-1ceede34212a button.colab-df-convert');\n",
              "        buttonEl.style.display =\n",
              "          google.colab.kernel.accessAllowed ? 'block' : 'none';\n",
              "\n",
              "        async function convertToInteractive(key) {\n",
              "          const element = document.querySelector('#df-bf5fbdeb-e90c-43b8-bd1a-1ceede34212a');\n",
              "          const dataTable =\n",
              "            await google.colab.kernel.invokeFunction('convertToInteractive',\n",
              "                                                     [key], {});\n",
              "          if (!dataTable) return;\n",
              "\n",
              "          const docLinkHtml = 'Like what you see? Visit the ' +\n",
              "            '<a target=\"_blank\" href=https://colab.research.google.com/notebooks/data_table.ipynb>data table notebook</a>'\n",
              "            + ' to learn more about interactive tables.';\n",
              "          element.innerHTML = '';\n",
              "          dataTable['output_type'] = 'display_data';\n",
              "          await google.colab.output.renderOutput(dataTable, element);\n",
              "          const docLink = document.createElement('div');\n",
              "          docLink.innerHTML = docLinkHtml;\n",
              "          element.appendChild(docLink);\n",
              "        }\n",
              "      </script>\n",
              "    </div>\n",
              "  </div>\n",
              "  "
            ]
          },
          "metadata": {},
          "execution_count": 11
        }
      ]
    },
    {
      "cell_type": "code",
      "source": [
        "train_df.target.value_counts()"
      ],
      "metadata": {
        "colab": {
          "base_uri": "https://localhost:8080/"
        },
        "id": "eZ_sYedNgtGp",
        "outputId": "7f59adf4-1509-44fb-cac3-b68ba46f2220"
      },
      "execution_count": 12,
      "outputs": [
        {
          "output_type": "execute_result",
          "data": {
            "text/plain": [
              "METHODS        59353\n",
              "RESULTS        57953\n",
              "CONCLUSIONS    27168\n",
              "BACKGROUND     21727\n",
              "OBJECTIVE      13839\n",
              "Name: target, dtype: int64"
            ]
          },
          "metadata": {},
          "execution_count": 12
        }
      ]
    },
    {
      "cell_type": "code",
      "source": [
        "train_sentences = train_df['text'].tolist()\n",
        "val_sentences = val_df['text'].tolist()\n",
        "test_sentences = test_df['text'].tolist()"
      ],
      "metadata": {
        "id": "nEE9QiB3kv8D"
      },
      "execution_count": 13,
      "outputs": []
    },
    {
      "cell_type": "markdown",
      "source": [
        "# Numeric Labels"
      ],
      "metadata": {
        "id": "CY-rsSxGlMUB"
      }
    },
    {
      "cell_type": "code",
      "source": [
        "from sklearn.preprocessing import OneHotEncoder\n",
        "one_hot = OneHotEncoder(sparse=False)\n",
        "train_labels_one_hot = one_hot.fit_transform(train_df['target'].to_numpy().reshape(-1,1))\n",
        "val_labels_one_hot = one_hot.transform(val_df['target'].to_numpy().reshape(-1,1))\n",
        "test_labels_one_hot = one_hot.transform(test_df['target'].to_numpy().reshape(-1,1))"
      ],
      "metadata": {
        "id": "OtE4Mvr8lwBo"
      },
      "execution_count": 14,
      "outputs": []
    },
    {
      "cell_type": "code",
      "source": [
        "from sklearn.preprocessing import LabelEncoder\n",
        "label_encoder = LabelEncoder()\n",
        "train_labels_encoded = label_encoder.fit_transform(train_df['target'].to_numpy())\n",
        "val_labels_encoded = label_encoder.transform(val_df['target'].to_numpy())\n",
        "test_labels_encoded = label_encoder.transform(test_df['target'].to_numpy())"
      ],
      "metadata": {
        "id": "OnHWOCpdlwOu"
      },
      "execution_count": 15,
      "outputs": []
    },
    {
      "cell_type": "code",
      "source": [
        "num_classes = len(label_encoder.classes_)\n",
        "class_names = label_encoder.classes_"
      ],
      "metadata": {
        "id": "zMm_aaaJlwSJ"
      },
      "execution_count": 16,
      "outputs": []
    },
    {
      "cell_type": "markdown",
      "source": [
        "# Model 0: baseline"
      ],
      "metadata": {
        "id": "k2Z70_W6lwVN"
      }
    },
    {
      "cell_type": "code",
      "source": [
        "from sklearn.feature_extraction.text import TfidfVectorizer\n",
        "from sklearn.naive_bayes import MultinomialNB\n",
        "from sklearn.pipeline import Pipeline\n",
        "\n",
        "model_0 = Pipeline([\n",
        "    ('tf-idf', TfidfVectorizer()),\n",
        "    ('clf', MultinomialNB())\n",
        "])\n",
        "\n",
        "model_0.fit(X=train_sentences,\n",
        "            y=train_labels_encoded)"
      ],
      "metadata": {
        "colab": {
          "base_uri": "https://localhost:8080/"
        },
        "id": "lhAqWrHslwYl",
        "outputId": "2136224f-f4d0-496a-b9d6-d9d613b31d60"
      },
      "execution_count": 36,
      "outputs": [
        {
          "output_type": "execute_result",
          "data": {
            "text/plain": [
              "Pipeline(steps=[('tf-idf', TfidfVectorizer()), ('clf', MultinomialNB())])"
            ]
          },
          "metadata": {},
          "execution_count": 36
        }
      ]
    },
    {
      "cell_type": "code",
      "source": [
        "model_0.score(val_sentences, val_labels_encoded)"
      ],
      "metadata": {
        "colab": {
          "base_uri": "https://localhost:8080/"
        },
        "id": "RPMK7l0MlwcG",
        "outputId": "87471f7f-3946-4b36-ed0c-461ac9a9329d"
      },
      "execution_count": 37,
      "outputs": [
        {
          "output_type": "execute_result",
          "data": {
            "text/plain": [
              "0.7218323844829869"
            ]
          },
          "metadata": {},
          "execution_count": 37
        }
      ]
    },
    {
      "cell_type": "code",
      "source": [
        "baseline_results=model_0.predict(val_sentences)"
      ],
      "metadata": {
        "id": "NABJiw1oosMU"
      },
      "execution_count": 38,
      "outputs": []
    },
    {
      "cell_type": "code",
      "source": [
        "calculate_results(val_labels_encoded,\n",
        "                  baseline_results)"
      ],
      "metadata": {
        "colab": {
          "base_uri": "https://localhost:8080/"
        },
        "id": "ep206mtzpK13",
        "outputId": "0d18fcf9-e398-4535-d5e3-247946700528"
      },
      "execution_count": 39,
      "outputs": [
        {
          "output_type": "execute_result",
          "data": {
            "text/plain": [
              "{'accuracy': 72.1832384482987,\n",
              " 'f1': 0.6989250353450294,\n",
              " 'precision': 0.7186466952323352,\n",
              " 'recall': 0.7218323844829869}"
            ]
          },
          "metadata": {},
          "execution_count": 39
        }
      ]
    },
    {
      "cell_type": "markdown",
      "source": [
        "# Preprocess for tensor batches"
      ],
      "metadata": {
        "id": "5eJGLxO_pqNt"
      }
    },
    {
      "cell_type": "code",
      "source": [
        "# sentence length\n",
        "sent_lens = [len(sent.split()) for sent in train_sentences]\n",
        "avg_slen = np.mean(sent_lens)\n",
        "avg_slen"
      ],
      "metadata": {
        "colab": {
          "base_uri": "https://localhost:8080/"
        },
        "id": "jS_qZwZZpqRm",
        "outputId": "eb5bb127-f67e-4a66-ecce-93a79943ab1d"
      },
      "execution_count": 17,
      "outputs": [
        {
          "output_type": "execute_result",
          "data": {
            "text/plain": [
              "26.338269273494777"
            ]
          },
          "metadata": {},
          "execution_count": 17
        }
      ]
    },
    {
      "cell_type": "code",
      "source": [
        "plt.hist(sent_lens, bins=20);"
      ],
      "metadata": {
        "colab": {
          "base_uri": "https://localhost:8080/",
          "height": 0
        },
        "id": "nbb1SY6upqVc",
        "outputId": "ad1e3688-1c82-4218-cf34-888f5aaf87f7"
      },
      "execution_count": 18,
      "outputs": [
        {
          "output_type": "display_data",
          "data": {
            "text/plain": [
              "<Figure size 432x288 with 1 Axes>"
            ],
            "image/png": "[encoded data removed]"
          },
          "metadata": {
            "needs_background": "light"
          }
        }
      ]
    },
    {
      "cell_type": "code",
      "source": [
        "output_seq_len = int(np.percentile(sent_lens, 95))\n",
        "output_seq_len"
      ],
      "metadata": {
        "colab": {
          "base_uri": "https://localhost:8080/"
        },
        "id": "kXAMZtK4pqZQ",
        "outputId": "2f811372-3240-43fb-b128-fbf56143cc2f"
      },
      "execution_count": 19,
      "outputs": [
        {
          "output_type": "execute_result",
          "data": {
            "text/plain": [
              "55"
            ]
          },
          "metadata": {},
          "execution_count": 19
        }
      ]
    },
    {
      "cell_type": "code",
      "source": [
        "max_tokens = 68000\n",
        "text_vectorizer = TextVectorization(max_tokens=max_tokens,\n",
        "                                    output_sequence_length = output_seq_len)"
      ],
      "metadata": {
        "id": "P-RkjwI3pqdJ"
      },
      "execution_count": 20,
      "outputs": []
    },
    {
      "cell_type": "code",
      "source": [
        "text_vectorizer.adapt(train_sentences)"
      ],
      "metadata": {
        "id": "GNf4JG6Yv5xJ"
      },
      "execution_count": 21,
      "outputs": []
    },
    {
      "cell_type": "code",
      "source": [
        "vocab=text_vectorizer.get_vocabulary()"
      ],
      "metadata": {
        "id": "EvzHyjuzxJJJ"
      },
      "execution_count": 22,
      "outputs": []
    },
    {
      "cell_type": "code",
      "source": [
        "token_embed = layers.Embedding(input_dim=len(vocab),\n",
        "                               output_dim=128,\n",
        "                               mask_zero=True,\n",
        "                               name='token_embedding')"
      ],
      "metadata": {
        "id": "OPGztyQfwEYm"
      },
      "execution_count": 23,
      "outputs": []
    },
    {
      "cell_type": "code",
      "source": [
        "train_dataset = tf.data.Dataset.from_tensor_slices((train_sentences, train_labels_one_hot))\n",
        "val_dataset = tf.data.Dataset.from_tensor_slices((val_sentences, val_labels_one_hot))\n",
        "test_dataset = tf.data.Dataset.from_tensor_slices((test_sentences, test_labels_one_hot))"
      ],
      "metadata": {
        "id": "H9GGJbGowEcZ"
      },
      "execution_count": 24,
      "outputs": []
    },
    {
      "cell_type": "code",
      "source": [
        "train_dataset = train_dataset.batch(32).prefetch(tf.data.AUTOTUNE)\n",
        "val_dataset = val_dataset.batch(32).prefetch(tf.data.AUTOTUNE)\n",
        "test_dataset = test_dataset.batch(32).prefetch(tf.data.AUTOTUNE)"
      ],
      "metadata": {
        "id": "dFCNX76kwEgP"
      },
      "execution_count": 25,
      "outputs": []
    },
    {
      "cell_type": "markdown",
      "source": [
        "# Model 1 : Conv1d"
      ],
      "metadata": {
        "id": "2gh0fP3KwEkF"
      }
    },
    {
      "cell_type": "code",
      "source": [
        "# Create 1D convolutional model to process sequences\n",
        "inputs = layers.Input(shape=(1,), dtype=tf.string)\n",
        "text_vectors = text_vectorizer(inputs) # vectorize text inputs\n",
        "token_embeddings = token_embed(text_vectors) # create embedding\n",
        "x = layers.Conv1D(64, kernel_size=5, padding=\"same\", activation=\"relu\")(token_embeddings)\n",
        "x = layers.GlobalAveragePooling1D()(x) # condense the output of our feature vector\n",
        "outputs = layers.Dense(num_classes, activation=\"softmax\")(x)\n",
        "model_1 = tf.keras.Model(inputs, outputs)\n",
        "\n",
        "# Compile\n",
        "model_1.compile(loss=\"categorical_crossentropy\", # if your labels are integer form (not one hot) use sparse_categorical_crossentropy\n",
        "                optimizer=tf.keras.optimizers.Adam(),\n",
        "                metrics=[\"accuracy\"])\n",
        "# Get summary of Conv1D model\n",
        "model_1.summary()"
      ],
      "metadata": {
        "colab": {
          "base_uri": "https://localhost:8080/"
        },
        "id": "4xSkRo6BwEn2",
        "outputId": "aa2d51b2-cec6-4f53-a968-cc2fb4548b2f"
      },
      "execution_count": 27,
      "outputs": [
        {
          "output_type": "stream",
          "name": "stdout",
          "text": [
            "Model: \"model\"\n",
            "_________________________________________________________________\n",
            " Layer (type)                Output Shape              Param #   \n",
            "=================================================================\n",
            " input_1 (InputLayer)        [(None, 1)]               0         \n",
            "                                                                 \n",
            " text_vectorization (TextVec  (None, 55)               0         \n",
            " torization)                                                     \n",
            "                                                                 \n",
            " token_embedding (Embedding)  (None, 55, 128)          8299648   \n",
            "                                                                 \n",
            " conv1d (Conv1D)             (None, 55, 64)            41024     \n",
            "                                                                 \n",
            " global_average_pooling1d (G  (None, 64)               0         \n",
            " lobalAveragePooling1D)                                          \n",
            "                                                                 \n",
            " dense (Dense)               (None, 5)                 325       \n",
            "                                                                 \n",
            "=================================================================\n",
            "Total params: 8,340,997\n",
            "Trainable params: 8,340,997\n",
            "Non-trainable params: 0\n",
            "_________________________________________________________________\n"
          ]
        }
      ]
    },
    {
      "cell_type": "code",
      "source": [
        "hist_1 = model_1.fit(train_dataset,\n",
        "                     steps_per_epoch=int(0.1*len(train_dataset)),\n",
        "                     epochs=3,\n",
        "                     validation_data=val_dataset,\n",
        "                     validation_steps=int(0.1*len(val_dataset)))"
      ],
      "metadata": {
        "colab": {
          "base_uri": "https://localhost:8080/"
        },
        "id": "D3Z7r00o1gkd",
        "outputId": "b9099d35-1a64-48ec-be21-2b1ab30cc8f6"
      },
      "execution_count": 28,
      "outputs": [
        {
          "output_type": "stream",
          "name": "stdout",
          "text": [
            "Epoch 1/3\n",
            "562/562 [==============================] - 17s 9ms/step - loss: 0.9231 - accuracy: 0.6342 - val_loss: 0.6861 - val_accuracy: 0.7424\n",
            "Epoch 2/3\n",
            "562/562 [==============================] - 5s 9ms/step - loss: 0.6532 - accuracy: 0.7618 - val_loss: 0.6228 - val_accuracy: 0.7723\n",
            "Epoch 3/3\n",
            "562/562 [==============================] - 5s 10ms/step - loss: 0.6142 - accuracy: 0.7781 - val_loss: 0.5922 - val_accuracy: 0.7842\n"
          ]
        }
      ]
    },
    {
      "cell_type": "code",
      "source": [
        "model_1.evaluate(val_dataset)"
      ],
      "metadata": {
        "colab": {
          "base_uri": "https://localhost:8080/"
        },
        "id": "jScFtbLN1gnf",
        "outputId": "78508346-b4db-4aea-e52f-29bba2842727"
      },
      "execution_count": 29,
      "outputs": [
        {
          "output_type": "stream",
          "name": "stdout",
          "text": [
            "945/945 [==============================] - 5s 6ms/step - loss: 0.5934 - accuracy: 0.7864\n"
          ]
        },
        {
          "output_type": "execute_result",
          "data": {
            "text/plain": [
              "[0.5934426784515381, 0.7864424586296082]"
            ]
          },
          "metadata": {},
          "execution_count": 29
        }
      ]
    },
    {
      "cell_type": "code",
      "source": [
        "model_1_predprobs = model_1.predict(val_dataset)\n",
        "model_1_preds=tf.argmax(model_1_predprobs, axis=1)\n",
        "mode_1_results=calculate_results(val_labels_encoded,model_1_preds)\n",
        "mode_1_results"
      ],
      "metadata": {
        "colab": {
          "base_uri": "https://localhost:8080/"
        },
        "id": "M-kemZNe1gq_",
        "outputId": "46632988-bce8-43c0-cc94-aa320bbfc93b"
      },
      "execution_count": 32,
      "outputs": [
        {
          "output_type": "execute_result",
          "data": {
            "text/plain": [
              "{'accuracy': 78.64424731894611,\n",
              " 'f1': 0.783976193795473,\n",
              " 'precision': 0.7831827052389839,\n",
              " 'recall': 0.7864424731894611}"
            ]
          },
          "metadata": {},
          "execution_count": 32
        }
      ]
    },
    {
      "cell_type": "markdown",
      "source": [
        "#Model_1: feature extraction using token embeddings\n",
        "\n",
        "\n",
        "https://tfhub.dev/google/universal-sentence-encoder/4"
      ],
      "metadata": {
        "id": "Z4hqTUkb5HR1"
      }
    },
    {
      "cell_type": "code",
      "source": [
        "import tensorflow_hub as hub\n",
        "embedding_layer = hub.KerasLayer('https://tfhub.dev/google/universal-sentence-encoder/4',\n",
        "                                 trainable=False,\n",
        "                                 name='universal_sentence_encoder')"
      ],
      "metadata": {
        "id": "1gDmCF1Y5zIr"
      },
      "execution_count": 33,
      "outputs": []
    },
    {
      "cell_type": "code",
      "source": [
        "inputs = layers.Input(shape=[], dtype=tf.string)\n",
        "pretrained_embedding=embedding_layer(inputs)\n",
        "x=layers.Dense(128, activation='relu')(pretrained_embedding)\n",
        "outputs=layers.Dense(num_classes,activation='softmax')(x)\n",
        "model_2=tf.keras.Model(inputs,outputs)\n",
        "\n",
        "model_2.compile(loss='categorical_crossentropy',\n",
        "                optimizer=tf.keras.optimizers.Adam(),\n",
        "                metrics=['accuracy'])\n",
        "model_2.summary()"
      ],
      "metadata": {
        "colab": {
          "base_uri": "https://localhost:8080/"
        },
        "id": "qIntL4XQ5zM6",
        "outputId": "5d15b6a3-319d-4f1f-9a98-655abed0124b"
      },
      "execution_count": 34,
      "outputs": [
        {
          "output_type": "stream",
          "name": "stdout",
          "text": [
            "Model: \"model\"\n",
            "_________________________________________________________________\n",
            " Layer (type)                Output Shape              Param #   \n",
            "=================================================================\n",
            " input_1 (InputLayer)        [(None,)]                 0         \n",
            "                                                                 \n",
            " universal_sentence_encoder   (None, 512)              256797824 \n",
            " (KerasLayer)                                                    \n",
            "                                                                 \n",
            " dense (Dense)               (None, 128)               65664     \n",
            "                                                                 \n",
            " dense_1 (Dense)             (None, 5)                 645       \n",
            "                                                                 \n",
            "=================================================================\n",
            "Total params: 256,864,133\n",
            "Trainable params: 66,309\n",
            "Non-trainable params: 256,797,824\n",
            "_________________________________________________________________\n"
          ]
        }
      ]
    },
    {
      "cell_type": "code",
      "source": [
        "hist_2=model_2.fit(train_dataset,\n",
        "                   epochs=3,\n",
        "                   steps_per_epoch=int(0.1*len(train_dataset)),\n",
        "                   validation_data=val_dataset,\n",
        "                   validation_steps=int(0.1*len(val_dataset)))"
      ],
      "metadata": {
        "colab": {
          "base_uri": "https://localhost:8080/"
        },
        "id": "_3xYe_KB5zQV",
        "outputId": "1b624074-d300-41f6-cf4c-68323ecbf5e9"
      },
      "execution_count": 35,
      "outputs": [
        {
          "output_type": "stream",
          "name": "stdout",
          "text": [
            "Epoch 1/3\n",
            "562/562 [==============================] - 19s 21ms/step - loss: 0.9158 - accuracy: 0.6524 - val_loss: 0.7927 - val_accuracy: 0.6895\n",
            "Epoch 2/3\n",
            "562/562 [==============================] - 9s 17ms/step - loss: 0.7657 - accuracy: 0.7025 - val_loss: 0.7506 - val_accuracy: 0.7021\n",
            "Epoch 3/3\n",
            "562/562 [==============================] - 11s 19ms/step - loss: 0.7498 - accuracy: 0.7132 - val_loss: 0.7359 - val_accuracy: 0.7128\n"
          ]
        }
      ]
    },
    {
      "cell_type": "code",
      "source": [
        "model_2.evaluate(val_dataset)"
      ],
      "metadata": {
        "colab": {
          "base_uri": "https://localhost:8080/"
        },
        "id": "yN2DMxqm5zTb",
        "outputId": "9255b485-48e1-45f6-80aa-2552ace5aef4"
      },
      "execution_count": 36,
      "outputs": [
        {
          "output_type": "stream",
          "name": "stdout",
          "text": [
            "945/945 [==============================] - 17s 18ms/step - loss: 0.7399 - accuracy: 0.7144\n"
          ]
        },
        {
          "output_type": "execute_result",
          "data": {
            "text/plain": [
              "[0.7398782968521118, 0.7143518924713135]"
            ]
          },
          "metadata": {},
          "execution_count": 36
        }
      ]
    },
    {
      "cell_type": "code",
      "source": [
        "model_2_preds = np.argmax(model_2.predict(val_dataset),axis=1)\n",
        "model_2_results = calculate_results(val_labels_encoded,model_2_preds)\n",
        "model_2_results"
      ],
      "metadata": {
        "colab": {
          "base_uri": "https://localhost:8080/"
        },
        "id": "lbYBbJXQ5zWZ",
        "outputId": "73d14996-cc27-424b-c51c-9aa68f32e4f5"
      },
      "execution_count": 37,
      "outputs": [
        {
          "output_type": "execute_result",
          "data": {
            "text/plain": [
              "{'accuracy': 71.43519131470939,\n",
              " 'f1': 0.7114088463962585,\n",
              " 'precision': 0.7141860709709087,\n",
              " 'recall': 0.7143519131470939}"
            ]
          },
          "metadata": {},
          "execution_count": 37
        }
      ]
    },
    {
      "cell_type": "markdown",
      "source": [
        "# Preprocess for character embedding layer"
      ],
      "metadata": {
        "id": "UdoVeFye5zZ5"
      }
    },
    {
      "cell_type": "code",
      "source": [
        "train_chars=[split_chars(sent) for sent in train_sentences]\n",
        "val_chars=[split_chars(sent) for sent in val_sentences]\n",
        "test_chars=[split_chars(sent) for sent in test_sentences]"
      ],
      "metadata": {
        "id": "2-FfJ4N05zd2"
      },
      "execution_count": 26,
      "outputs": []
    },
    {
      "cell_type": "code",
      "source": [
        "# What's the average character length?\n",
        "char_lens = [len(sentence) for sentence in train_sentences]\n",
        "mean_char_len = np.mean(char_lens)\n",
        "# Find what character length covers 95% of sequences\n",
        "output_seq_char_len = int(np.percentile(char_lens, 95))\n",
        "output_seq_char_len"
      ],
      "metadata": {
        "colab": {
          "base_uri": "https://localhost:8080/"
        },
        "id": "m-YHt5WZ-6_z",
        "outputId": "a5f94d86-f715-4bad-cca3-6eff255a9ac0"
      },
      "execution_count": 27,
      "outputs": [
        {
          "output_type": "execute_result",
          "data": {
            "text/plain": [
              "290"
            ]
          },
          "metadata": {},
          "execution_count": 27
        }
      ]
    },
    {
      "cell_type": "code",
      "source": [
        "import string\n",
        "alphabet = string.ascii_lowercase + string.digits + string.punctuation"
      ],
      "metadata": {
        "id": "M4T9Indx5zhM"
      },
      "execution_count": 28,
      "outputs": []
    },
    {
      "cell_type": "code",
      "source": [
        "NUM_CHAR_TOKENS = len(alphabet)+2\n",
        "char_vectorizer=TextVectorization(max_tokens=NUM_CHAR_TOKENS,\n",
        "                                  output_sequence_length=output_seq_char_len,\n",
        "                                  name='char_vectorizer')\n",
        "char_vectorizer.adapt(train_chars)"
      ],
      "metadata": {
        "id": "rWrVVv3M-YuN"
      },
      "execution_count": 29,
      "outputs": []
    },
    {
      "cell_type": "code",
      "source": [
        "char_vocab = char_vectorizer.get_vocabulary()"
      ],
      "metadata": {
        "id": "1GDdi4PX_Fdw"
      },
      "execution_count": 30,
      "outputs": []
    },
    {
      "cell_type": "code",
      "source": [
        "char_embedding_layer = Embedding(input_dim=len(char_vocab),\n",
        "                                 output_dim=25,\n",
        "                                 mask_zero=True,\n",
        "                                 name='embed_char')"
      ],
      "metadata": {
        "id": "sMNptjfe_uPN"
      },
      "execution_count": 31,
      "outputs": []
    },
    {
      "cell_type": "code",
      "source": [
        "train_dataset2 = tf.data.Dataset.from_tensor_slices((train_chars, train_labels_one_hot))\n",
        "val_dataset2 = tf.data.Dataset.from_tensor_slices((val_chars, val_labels_one_hot))\n",
        "test_dataset2 = tf.data.Dataset.from_tensor_slices((test_chars, test_labels_one_hot))\n",
        "\n",
        "train_dataset2 = train_dataset2.batch(32).prefetch(tf.data.AUTOTUNE)\n",
        "val_dataset2 = val_dataset2.batch(32).prefetch(tf.data.AUTOTUNE)\n",
        "test_dataset2 = test_dataset2.batch(32).prefetch(tf.data.AUTOTUNE)"
      ],
      "metadata": {
        "id": "ZfYdhVspBeFZ"
      },
      "execution_count": 32,
      "outputs": []
    },
    {
      "cell_type": "markdown",
      "source": [
        "# Model 3 : Character embedding"
      ],
      "metadata": {
        "id": "gItle9G8Qscn"
      }
    },
    {
      "cell_type": "code",
      "source": [
        "inputs = layers.Input(shape=(1,), dtype=tf.string)\n",
        "charvector= char_vectorizer(inputs)\n",
        "char_embedding = char_embedding_layer(charvector)\n",
        "x=layers.Conv1D(64, kernel_size=5, padding='same', activation='relu')(char_embedding)\n",
        "x=layers.GlobalMaxPooling1D()(x)\n",
        "outputs=layers.Dense(num_classes, activation='softmax')(x)\n",
        "model_3=tf.keras.Model(inputs,outputs)\n",
        "\n",
        "model_3.compile(loss='categorical_crossentropy',\n",
        "                optimizer=tf.keras.optimizers.Adam(),\n",
        "                metrics=['accuracy'])\n",
        "model_3.summary()\n"
      ],
      "metadata": {
        "colab": {
          "base_uri": "https://localhost:8080/"
        },
        "id": "7OjrkjCAAPos",
        "outputId": "0c0d2a59-23d0-4841-de2d-6dd109cf9814"
      },
      "execution_count": 50,
      "outputs": [
        {
          "output_type": "stream",
          "name": "stdout",
          "text": [
            "Model: \"model_3\"\n",
            "_________________________________________________________________\n",
            " Layer (type)                Output Shape              Param #   \n",
            "=================================================================\n",
            " input_4 (InputLayer)        [(None, 1)]               0         \n",
            "                                                                 \n",
            " char_vectorizer (TextVector  (None, 290)              0         \n",
            " ization)                                                        \n",
            "                                                                 \n",
            " embed_char (Embedding)      (None, 290, 25)           700       \n",
            "                                                                 \n",
            " conv1d_2 (Conv1D)           (None, 290, 64)           8064      \n",
            "                                                                 \n",
            " global_max_pooling1d (Globa  (None, 64)               0         \n",
            " lMaxPooling1D)                                                  \n",
            "                                                                 \n",
            " dense_4 (Dense)             (None, 5)                 325       \n",
            "                                                                 \n",
            "=================================================================\n",
            "Total params: 9,089\n",
            "Trainable params: 9,089\n",
            "Non-trainable params: 0\n",
            "_________________________________________________________________\n"
          ]
        }
      ]
    },
    {
      "cell_type": "code",
      "source": [
        "hist_3=model_3.fit(train_dataset2,\n",
        "                   steps_per_epoch=int(0.1*len(train_dataset2)),\n",
        "                   epochs=3,\n",
        "                   validation_data = val_dataset2,\n",
        "                   validation_steps=int(0.1*len(val_dataset2)))"
      ],
      "metadata": {
        "colab": {
          "base_uri": "https://localhost:8080/"
        },
        "id": "R9Dq4QnrBWym",
        "outputId": "0699490a-20ab-4e7c-e38a-13dc73cb2a66"
      },
      "execution_count": 51,
      "outputs": [
        {
          "output_type": "stream",
          "name": "stdout",
          "text": [
            "Epoch 1/3\n",
            "562/562 [==============================] - 6s 9ms/step - loss: 1.2590 - accuracy: 0.4801 - val_loss: 1.1136 - val_accuracy: 0.5552\n",
            "Epoch 2/3\n",
            "562/562 [==============================] - 5s 9ms/step - loss: 1.0830 - accuracy: 0.5546 - val_loss: 1.0147 - val_accuracy: 0.5871\n",
            "Epoch 3/3\n",
            "562/562 [==============================] - 5s 10ms/step - loss: 0.9941 - accuracy: 0.6040 - val_loss: 0.9383 - val_accuracy: 0.6346\n"
          ]
        }
      ]
    },
    {
      "cell_type": "code",
      "source": [
        "model_3.evaluate(val_dataset2)"
      ],
      "metadata": {
        "colab": {
          "base_uri": "https://localhost:8080/"
        },
        "id": "vMUoNssRCSSM",
        "outputId": "86666b07-3fd9-4421-a1ba-92cee18782f9"
      },
      "execution_count": 52,
      "outputs": [
        {
          "output_type": "stream",
          "name": "stdout",
          "text": [
            "945/945 [==============================] - 5s 5ms/step - loss: 0.9588 - accuracy: 0.6235\n"
          ]
        },
        {
          "output_type": "execute_result",
          "data": {
            "text/plain": [
              "[0.958838939666748, 0.6235270500183105]"
            ]
          },
          "metadata": {},
          "execution_count": 52
        }
      ]
    },
    {
      "cell_type": "code",
      "source": [
        "model_3_preds = np.argmax(model_3.predict(val_dataset2),axis=1)"
      ],
      "metadata": {
        "id": "qgvoO2buCZzQ"
      },
      "execution_count": 53,
      "outputs": []
    },
    {
      "cell_type": "code",
      "source": [
        "model_3_results=calculate_results(val_labels_encoded,model_3_preds)\n",
        "model_3_results"
      ],
      "metadata": {
        "colab": {
          "base_uri": "https://localhost:8080/"
        },
        "id": "jiTIp_kLCr6y",
        "outputId": "ba5d9754-afa1-4b01-c8c9-c088deffade2"
      },
      "execution_count": 55,
      "outputs": [
        {
          "output_type": "execute_result",
          "data": {
            "text/plain": [
              "{'accuracy': 62.35270753343043,\n",
              " 'f1': 0.6150103460576405,\n",
              " 'precision': 0.6296230343102777,\n",
              " 'recall': 0.6235270753343043}"
            ]
          },
          "metadata": {},
          "execution_count": 55
        }
      ]
    },
    {
      "cell_type": "markdown",
      "source": [
        "# Model4: Combining pretrained token embeddings + character embeddings"
      ],
      "metadata": {
        "id": "HobtGJdQC--X"
      }
    },
    {
      "cell_type": "code",
      "source": [
        "token_inputs = layers.Input(shape=[], dtype=tf.string)\n",
        "token_embeddings = embedding_layer(token_inputs)\n",
        "token_output = layers.Dense(128,activation='relu')(token_embeddings)\n",
        "token_model = tf.keras.Model(inputs=token_inputs,outputs=token_output)\n",
        "\n",
        "char_inputs = layers.Input(shape=(1,), dtype=tf.string)\n",
        "char_vector=char_vectorizer(char_inputs)\n",
        "char_embedding=char_embedding_layer(char_vector)\n",
        "char_bilstm = layers.Bidirectional(layers.LSTM(24))(char_embedding)\n",
        "char_model = tf.keras.Model(inputs=char_inputs,\n",
        "                            outputs=char_bilstm)\n",
        "\n",
        "token_char_concat = layers.Concatenate(name='hybrid')([token_model.output,\n",
        "                                                       char_model.output])\n",
        "\n",
        "combined_dropout = layers.Dropout(0.5)(token_char_concat)\n",
        "combined_dense = layers.Dense(128, activation='relu')(combined_dropout)\n",
        "final_dropout = layers.Dropout(0.5)(combined_dense)\n",
        "output_layer = layers.Dense(num_classes, activation='relu')(final_dropout)\n",
        "\n",
        "model_4 = tf.keras.Model(inputs = [token_model.inputs, char_model.inputs],\n",
        "                         outputs=output_layer)\n",
        "\n",
        "model_4.compile(loss='categorical_crossentropy',\n",
        "                optimizer=tf.keras.optimizers.Adam(),\n",
        "                metrics=['accuracy'])\n",
        "model_4.summary()"
      ],
      "metadata": {
        "colab": {
          "base_uri": "https://localhost:8080/"
        },
        "id": "4EihKCr_DMn7",
        "outputId": "f4c6c48a-8af3-4544-fa68-a26bbc055c04"
      },
      "execution_count": 42,
      "outputs": [
        {
          "output_type": "stream",
          "name": "stdout",
          "text": [
            "Model: \"model_12\"\n",
            "__________________________________________________________________________________________________\n",
            " Layer (type)                   Output Shape         Param #     Connected to                     \n",
            "==================================================================================================\n",
            " input_9 (InputLayer)           [(None, 1)]          0           []                               \n",
            "                                                                                                  \n",
            " input_8 (InputLayer)           [(None,)]            0           []                               \n",
            "                                                                                                  \n",
            " char_vectorizer (TextVectoriza  (None, 290)         0           ['input_9[0][0]']                \n",
            " tion)                                                                                            \n",
            "                                                                                                  \n",
            " universal_sentence_encoder (Ke  (None, 512)         256797824   ['input_8[0][0]']                \n",
            " rasLayer)                                                                                        \n",
            "                                                                                                  \n",
            " embed_char (Embedding)         (None, 290, 25)      700         ['char_vectorizer[3][0]']        \n",
            "                                                                                                  \n",
            " dense_11 (Dense)               (None, 128)          65664       ['universal_sentence_encoder[4][0\n",
            "                                                                 ]']                              \n",
            "                                                                                                  \n",
            " bidirectional_3 (Bidirectional  (None, 48)          9600        ['embed_char[3][0]']             \n",
            " )                                                                                                \n",
            "                                                                                                  \n",
            " hybrid (Concatenate)           (None, 176)          0           ['dense_11[0][0]',               \n",
            "                                                                  'bidirectional_3[0][0]']        \n",
            "                                                                                                  \n",
            " dropout_6 (Dropout)            (None, 176)          0           ['hybrid[0][0]']                 \n",
            "                                                                                                  \n",
            " dense_12 (Dense)               (None, 128)          22656       ['dropout_6[0][0]']              \n",
            "                                                                                                  \n",
            " dropout_7 (Dropout)            (None, 128)          0           ['dense_12[0][0]']               \n",
            "                                                                                                  \n",
            " dense_13 (Dense)               (None, 5)            645         ['dropout_7[0][0]']              \n",
            "                                                                                                  \n",
            "==================================================================================================\n",
            "Total params: 256,897,089\n",
            "Trainable params: 99,265\n",
            "Non-trainable params: 256,797,824\n",
            "__________________________________________________________________________________________________\n"
          ]
        }
      ]
    },
    {
      "cell_type": "code",
      "source": [
        "tf.keras.utils.plot_model(model_4,show_shapes=True)"
      ],
      "metadata": {
        "colab": {
          "base_uri": "https://localhost:8080/",
          "height": 976
        },
        "id": "cZZmotL1Tgj0",
        "outputId": "c4dbae71-3061-4349-8ee7-42719e551ad0"
      },
      "execution_count": 43,
      "outputs": [
        {
          "output_type": "execute_result",
          "data": {
            "text/plain": [
              "<IPython.core.display.Image object>"
            ],
            "image/png": "[encoded data removed]"
          },
          "metadata": {},
          "execution_count": 43
        }
      ]
    },
    {
      "cell_type": "code",
      "source": [
        "hybrid_train_data = tf.data.Dataset.from_tensor_slices((train_sentences,train_chars))\n",
        "hybrid_train_labels = tf.data.Dataset.from_tensor_slices(train_labels_one_hot)\n",
        "hybrid_train_dataset = tf.data.Dataset.zip((hybrid_train_data,hybrid_train_labels))\n",
        "hybrid_train_dataset = hybrid_train_dataset.batch(32).prefetch(tf.data.AUTOTUNE)\n",
        "\n",
        "hybrid_val_data = tf.data.Dataset.from_tensor_slices((val_sentences,val_chars))\n",
        "hybrid_val_labels = tf.data.Dataset.from_tensor_slices(val_labels_one_hot)\n",
        "hybrid_val_dataset = tf.data.Dataset.zip((hybrid_val_data,hybrid_val_labels))\n",
        "hybrid_val_dataset = hybrid_val_dataset.batch(32).prefetch(tf.data.AUTOTUNE)\n",
        "\n",
        "hybrid_test_data = tf.data.Dataset.from_tensor_slices((test_sentences,test_chars))\n",
        "hybrid_test_labels = tf.data.Dataset.from_tensor_slices(test_labels_one_hot)\n",
        "hybrid_test_dataset = tf.data.Dataset.zip((hybrid_test_data,hybrid_test_labels))\n",
        "hybrid_test_dataset=hybrid_test_dataset.batch(32).prefetch(tf.data.AUTOTUNE)"
      ],
      "metadata": {
        "id": "FlXkW4DmVAQg"
      },
      "execution_count": 44,
      "outputs": []
    },
    {
      "cell_type": "code",
      "source": [
        "hist_4 = model_4.fit(hybrid_train_dataset,steps_per_epoch=int(0.1*len(hybrid_train_dataset)),\n",
        "                     epochs=3,\n",
        "                     validation_data=hybrid_val_dataset,\n",
        "                     validation_steps=int(0.1*len(hybrid_val_dataset)))"
      ],
      "metadata": {
        "colab": {
          "base_uri": "https://localhost:8080/"
        },
        "id": "VUeGDQFFUOdK",
        "outputId": "b95717e0-6d86-4abd-c8c4-a409fa135bed"
      },
      "execution_count": 45,
      "outputs": [
        {
          "output_type": "stream",
          "name": "stdout",
          "text": [
            "Epoch 1/3\n",
            "562/562 [==============================] - 65s 84ms/step - loss: 1.5660 - accuracy: 0.4727 - val_loss: 1.0357 - val_accuracy: 0.6097\n",
            "Epoch 2/3\n",
            "562/562 [==============================] - 44s 78ms/step - loss: 1.2208 - accuracy: 0.5654 - val_loss: 0.9673 - val_accuracy: 0.6230\n",
            "Epoch 3/3\n",
            "562/562 [==============================] - 36s 65ms/step - loss: 1.2166 - accuracy: 0.5802 - val_loss: 0.9465 - val_accuracy: 0.6237\n"
          ]
        }
      ]
    },
    {
      "cell_type": "code",
      "source": [
        "model_4_preds=tf.argmax(model_4.predict(hybrid_val_dataset),axis=1)\n",
        "model_4_results = calculate_results(val_labels_encoded,model_4_preds)\n",
        "model_4_results"
      ],
      "metadata": {
        "colab": {
          "base_uri": "https://localhost:8080/"
        },
        "id": "qzAIjzRMUzgI",
        "outputId": "17c5ea9c-195a-4fef-aa97-9c006180e526"
      },
      "execution_count": 47,
      "outputs": [
        {
          "output_type": "execute_result",
          "data": {
            "text/plain": [
              "{'accuracy': 63.41188931550378,\n",
              " 'f1': 0.5924572124693547,\n",
              " 'precision': 0.683095392970885,\n",
              " 'recall': 0.6341188931550378}"
            ]
          },
          "metadata": {},
          "execution_count": 47
        }
      ]
    },
    {
      "cell_type": "markdown",
      "source": [
        "# Positional embeddings"
      ],
      "metadata": {
        "id": "4PGHj5Q6X4uC"
      }
    },
    {
      "cell_type": "code",
      "source": [
        "train_df.line_number.plot.hist()"
      ],
      "metadata": {
        "colab": {
          "base_uri": "https://localhost:8080/",
          "height": 282
        },
        "id": "ZRTWMag9X4yT",
        "outputId": "41d9cccc-a17c-4aaf-ac38-283fddd48dd0"
      },
      "execution_count": 51,
      "outputs": [
        {
          "output_type": "execute_result",
          "data": {
            "text/plain": [
              "<matplotlib.axes._subplots.AxesSubplot at 0x7fed482fcb50>"
            ]
          },
          "metadata": {},
          "execution_count": 51
        },
        {
          "output_type": "display_data",
          "data": {
            "text/plain": [
              "<Figure size 432x288 with 1 Axes>"
            ],
            "image/png": "[encoded data removed]"
          },
          "metadata": {
            "needs_background": "light"
          }
        }
      ]
    },
    {
      "cell_type": "code",
      "source": [
        "train_line_numbers = tf.one_hot(train_df['line_number'].to_numpy(),depth=15)\n",
        "val_line_numbers=tf.one_hot(val_df['line_number'].to_numpy(),depth=15)\n",
        "test_line_numbers=tf.one_hot(test_df['line_number'].to_numpy(),depth=15)"
      ],
      "metadata": {
        "id": "NneoZEc1X42f"
      },
      "execution_count": 52,
      "outputs": []
    },
    {
      "cell_type": "code",
      "source": [
        "train_df.total_lines.value_counts()"
      ],
      "metadata": {
        "id": "mkfPrGTDX46U"
      },
      "execution_count": null,
      "outputs": []
    },
    {
      "cell_type": "code",
      "source": [
        "train_lines = tf.one_hot(train_df['total_lines'].to_numpy(),depth=20)\n",
        "val_lines = tf.one_hot(val_df['total_lines'].to_numpy(),depth=20)\n",
        "test_lines = tf.one_hot(test_df['total_lines'].to_numpy(),depth=20)"
      ],
      "metadata": {
        "id": "JYMblSjbX4--"
      },
      "execution_count": 54,
      "outputs": []
    },
    {
      "cell_type": "markdown",
      "source": [
        "# Model 5: text+char+positional embedding"
      ],
      "metadata": {
        "id": "zigSWbyRUzj8"
      }
    },
    {
      "cell_type": "code",
      "source": [
        "token_input = layers.Input(shape=[], dtype=tf.string)\n",
        "token_embed = embedding_layer(token_input)\n",
        "token_output=layers.Dense(128,activation='relu')(token_embed)\n",
        "token_model = tf.keras.Model(token_input,\n",
        "                             token_output)\n",
        "\n",
        "char_input=layers.Input(shape=(1,), dtype=tf.string)\n",
        "char_vector=char_vectorizer(char_input)\n",
        "char_embed=char_embedding_layer(char_vector)\n",
        "char_bilstm=layers.Bidirectional(layers.LSTM(24))(char_embed)\n",
        "# char_output = layers.Dense(128,activation='relu')(char_bilstm)\n",
        "char_model = tf.keras.Model(inputs=char_input,\n",
        "                            outputs=char_bilstm)\n",
        "\n",
        "linenum_input = layers.Input(shape=(15,),dtype=tf.float32)\n",
        "x=layers.Dense(32,activation='relu')(linenum_input)\n",
        "linenum_model = tf.keras.Model(linenum_input,x)\n",
        "\n",
        "totlines_input = layers.Input(shape=(20), dtype=tf.float32)\n",
        "y=layers.Dense(32,activation='relu')(totlines_input)\n",
        "totallines_model=tf.keras.Model(totlines_input,y)\n",
        "\n",
        "combined_embedding = layers.Concatenate()([token_model.output,char_model.output])\n",
        "z=layers.Dense(256,activation='relu')(combined_embedding)\n",
        "z=layers.Dropout(0.5)(z)\n",
        "\n",
        "tribrid_embedding = layers.Concatenate()([linenum_model.output,\n",
        "                                          totallines_model.output,z])\n",
        "\n",
        "output_layer = layers.Dense(num_classes,activation='softmax')(tribrid_embedding)\n",
        "\n",
        "model_5 = tf.keras.Model(inputs = [linenum_model.input,\n",
        "                                   totallines_model.input,\n",
        "                                   token_model.input,\n",
        "                                   char_model.input],\n",
        "                         outputs=output_layer)\n",
        "\n",
        "model_5.summary()"
      ],
      "metadata": {
        "colab": {
          "base_uri": "https://localhost:8080/"
        },
        "id": "tkUNkPHQUznb",
        "outputId": "f8a635a4-489d-4e58-e6a2-7038aaff98f1"
      },
      "execution_count": 57,
      "outputs": [
        {
          "output_type": "stream",
          "name": "stdout",
          "text": [
            "Model: \"model_25\"\n",
            "__________________________________________________________________________________________________\n",
            " Layer (type)                   Output Shape         Param #     Connected to                     \n",
            "==================================================================================================\n",
            " input_19 (InputLayer)          [(None, 1)]          0           []                               \n",
            "                                                                                                  \n",
            " input_18 (InputLayer)          [(None,)]            0           []                               \n",
            "                                                                                                  \n",
            " char_vectorizer (TextVectoriza  (None, 290)         0           ['input_19[0][0]']               \n",
            " tion)                                                                                            \n",
            "                                                                                                  \n",
            " universal_sentence_encoder (Ke  (None, 512)         256797824   ['input_18[0][0]']               \n",
            " rasLayer)                                                                                        \n",
            "                                                                                                  \n",
            " embed_char (Embedding)         (None, 290, 25)      700         ['char_vectorizer[6][0]']        \n",
            "                                                                                                  \n",
            " dense_24 (Dense)               (None, 128)          65664       ['universal_sentence_encoder[7][0\n",
            "                                                                 ]']                              \n",
            "                                                                                                  \n",
            " bidirectional_6 (Bidirectional  (None, 48)          9600        ['embed_char[6][0]']             \n",
            " )                                                                                                \n",
            "                                                                                                  \n",
            " concatenate_4 (Concatenate)    (None, 176)          0           ['dense_24[0][0]',               \n",
            "                                                                  'bidirectional_6[0][0]']        \n",
            "                                                                                                  \n",
            " input_20 (InputLayer)          [(None, 15)]         0           []                               \n",
            "                                                                                                  \n",
            " input_21 (InputLayer)          [(None, 20)]         0           []                               \n",
            "                                                                                                  \n",
            " dense_27 (Dense)               (None, 256)          45312       ['concatenate_4[0][0]']          \n",
            "                                                                                                  \n",
            " dense_25 (Dense)               (None, 32)           512         ['input_20[0][0]']               \n",
            "                                                                                                  \n",
            " dense_26 (Dense)               (None, 32)           672         ['input_21[0][0]']               \n",
            "                                                                                                  \n",
            " dropout_10 (Dropout)           (None, 256)          0           ['dense_27[0][0]']               \n",
            "                                                                                                  \n",
            " concatenate_5 (Concatenate)    (None, 320)          0           ['dense_25[0][0]',               \n",
            "                                                                  'dense_26[0][0]',               \n",
            "                                                                  'dropout_10[0][0]']             \n",
            "                                                                                                  \n",
            " dense_28 (Dense)               (None, 5)            1605        ['concatenate_5[0][0]']          \n",
            "                                                                                                  \n",
            "==================================================================================================\n",
            "Total params: 256,921,889\n",
            "Trainable params: 124,065\n",
            "Non-trainable params: 256,797,824\n",
            "__________________________________________________________________________________________________\n"
          ]
        }
      ]
    },
    {
      "cell_type": "code",
      "source": [
        "tf.keras.utils.plot_model(model_5, show_shapes=True)"
      ],
      "metadata": {
        "colab": {
          "base_uri": "https://localhost:8080/",
          "height": 774
        },
        "id": "NQQccNKIUzqz",
        "outputId": "afafbdfd-5fe3-4b10-9d5c-f3bf727e28e7"
      },
      "execution_count": 58,
      "outputs": [
        {
          "output_type": "execute_result",
          "data": {
            "text/plain": [
              "<IPython.core.display.Image object>"
            ],
            "image/png": "[encoded data removed]"
          },
          "metadata": {},
          "execution_count": 58
        }
      ]
    },
    {
      "cell_type": "code",
      "source": [
        "model_5.compile(loss=tf.keras.losses.CategoricalCrossentropy(label_smoothing=0.2),\n",
        "                optimizer=tf.keras.optimizers.Adam(),\n",
        "                metrics=['accuracy'])"
      ],
      "metadata": {
        "id": "rgRujUQofub4"
      },
      "execution_count": 59,
      "outputs": []
    },
    {
      "cell_type": "code",
      "source": [
        "tribrid_train_data = tf.data.Dataset.from_tensor_slices((train_line_numbers,\n",
        "                                                         train_lines,\n",
        "                                                         train_sentences,train_chars))\n",
        "tribrid_train_labels = tf.data.Dataset.from_tensor_slices(train_labels_one_hot)\n",
        "tribrid_train_dataset = tf.data.Dataset.zip((tribrid_train_data,tribrid_train_labels))\n",
        "tribrid_train_dataset = tribrid_train_dataset.batch(32).prefetch(tf.data.AUTOTUNE)\n",
        "\n",
        "tribrid_val_data = tf.data.Dataset.from_tensor_slices((val_line_numbers,\n",
        "                                                      val_lines,\n",
        "                                                      val_sentences,val_chars))\n",
        "tribrid_val_labels = tf.data.Dataset.from_tensor_slices(val_labels_one_hot)\n",
        "tribrid_val_dataset = tf.data.Dataset.zip((tribrid_val_data,tribrid_val_labels))\n",
        "tribrid_val_dataset = tribrid_val_dataset.batch(32).prefetch(tf.data.AUTOTUNE)\n",
        "\n",
        "tribrid_test_data = tf.data.Dataset.from_tensor_slices((test_line_numbers,\n",
        "                                                      test_lines,\n",
        "                                                      test_sentences,test_chars))\n",
        "tribrid_test_labels = tf.data.Dataset.from_tensor_slices(test_labels_one_hot)\n",
        "tribrid_test_dataset = tf.data.Dataset.zip((tribrid_test_data,tribrid_test_labels))\n",
        "tribrid_test_dataset=tribrid_test_dataset.batch(32).prefetch(tf.data.AUTOTUNE)"
      ],
      "metadata": {
        "id": "0Kq2dunxgxDA"
      },
      "execution_count": 60,
      "outputs": []
    },
    {
      "cell_type": "code",
      "source": [
        "model_5.fit(tribrid_train_dataset,\n",
        "            epochs=3,\n",
        "            steps_per_epoch=int(0.1*len(tribrid_train_dataset)),\n",
        "            validation_data=tribrid_val_dataset,\n",
        "            validation_steps=int(0.1*len(tribrid_val_dataset)))"
      ],
      "metadata": {
        "colab": {
          "base_uri": "https://localhost:8080/"
        },
        "id": "QoNq8a-2h9dZ",
        "outputId": "5de3f7a2-6d12-42ea-8d10-b874e53ab2c2"
      },
      "execution_count": 61,
      "outputs": [
        {
          "output_type": "stream",
          "name": "stdout",
          "text": [
            "Epoch 1/3\n",
            "562/562 [==============================] - 62s 87ms/step - loss: 1.0995 - accuracy: 0.7198 - val_loss: 0.9855 - val_accuracy: 0.8012\n",
            "Epoch 2/3\n",
            "562/562 [==============================] - 45s 79ms/step - loss: 0.9705 - accuracy: 0.8129 - val_loss: 0.9502 - val_accuracy: 0.8255\n",
            "Epoch 3/3\n",
            "562/562 [==============================] - 40s 71ms/step - loss: 0.9514 - accuracy: 0.8227 - val_loss: 0.9389 - val_accuracy: 0.8305\n"
          ]
        },
        {
          "output_type": "execute_result",
          "data": {
            "text/plain": [
              "<keras.callbacks.History at 0x7fedd607cf90>"
            ]
          },
          "metadata": {},
          "execution_count": 61
        }
      ]
    },
    {
      "cell_type": "code",
      "source": [
        "model_5_preds = tf.argmax(model_5.predict(tribrid_val_dataset),axis=1)\n",
        "model_5_results = calculate_results(val_labels_encoded, model_5_preds)\n",
        "model_5_results"
      ],
      "metadata": {
        "colab": {
          "base_uri": "https://localhost:8080/"
        },
        "id": "MU0oJq1eh9hM",
        "outputId": "50449c3d-2228-4cb2-c5e3-5199ffe35574"
      },
      "execution_count": 62,
      "outputs": [
        {
          "output_type": "execute_result",
          "data": {
            "text/plain": [
              "{'accuracy': 83.42711505362108,\n",
              " 'f1': 0.8328584363584152,\n",
              " 'precision': 0.8334464143538759,\n",
              " 'recall': 0.8342711505362108}"
            ]
          },
          "metadata": {},
          "execution_count": 62
        }
      ]
    },
    {
      "cell_type": "code",
      "source": [
        ""
      ],
      "metadata": {
        "id": "1Qk-Wli2h9lH"
      },
      "execution_count": null,
      "outputs": []
    },
    {
      "cell_type": "code",
      "source": [
        ""
      ],
      "metadata": {
        "id": "K-2EQcVth9pV"
      },
      "execution_count": null,
      "outputs": []
    },
    {
      "cell_type": "code",
      "source": [
        ""
      ],
      "metadata": {
        "id": "P7d3JJV6h9tK"
      },
      "execution_count": null,
      "outputs": []
    },
    {
      "cell_type": "code",
      "source": [
        ""
      ],
      "metadata": {
        "id": "Xt0qtSlNh9xY"
      },
      "execution_count": null,
      "outputs": []
    }
  ]
}