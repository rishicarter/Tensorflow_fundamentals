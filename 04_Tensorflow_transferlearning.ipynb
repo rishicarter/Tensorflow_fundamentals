{
  "nbformat": 4,
  "nbformat_minor": 0,
  "metadata": {
    "colab": {
      "name": "04_Tensorflow_transferlearning.ipynb",
      "provenance": [],
      "authorship_tag": "ABX9TyNQAe4Jd10tlDSqRGbUlOGX",
      "include_colab_link": true
    },
    "kernelspec": {
      "name": "python3",
      "display_name": "Python 3"
    },
    "language_info": {
      "name": "python"
    }
  },
  "cells": [
    {
      "cell_type": "markdown",
      "metadata": {
        "id": "view-in-github",
        "colab_type": "text"
      },
      "source": [
        "<a href=\"https://colab.research.google.com/github/rishicarter/Tensorflow_fundamentals/blob/main/04_Tensorflow_transferlearning.ipynb\" target=\"_parent\"><img src=\"https://colab.research.google.com/assets/colab-badge.svg\" alt=\"Open In Colab\"/></a>"
      ]
    },
    {
      "cell_type": "code",
      "source": [
        "import tensorflow as tf\n",
        "print(tf.__version__)"
      ],
      "metadata": {
        "colab": {
          "base_uri": "https://localhost:8080/"
        },
        "id": "0yupU_RIlJHj",
        "outputId": "2f1e9fba-d415-4905-f9ae-57f74ef4ccff"
      },
      "execution_count": null,
      "outputs": [
        {
          "output_type": "stream",
          "name": "stdout",
          "text": [
            "2.8.0\n"
          ]
        }
      ]
    },
    {
      "cell_type": "code",
      "execution_count": null,
      "metadata": {
        "colab": {
          "base_uri": "https://localhost:8080/"
        },
        "id": "jp0junvdYOci",
        "outputId": "e8910def-99e3-46d7-8813-27266a312c9d"
      },
      "outputs": [
        {
          "output_type": "stream",
          "name": "stdout",
          "text": [
            "--2022-04-22 19:04:45--  https://storage.googleapis.com/ztm_tf_course/food_vision/10_food_classes_10_percent.zip\n",
            "Resolving storage.googleapis.com (storage.googleapis.com)... 172.217.194.128, 74.125.68.128, 74.125.24.128, ...\n",
            "Connecting to storage.googleapis.com (storage.googleapis.com)|172.217.194.128|:443... connected.\n",
            "HTTP request sent, awaiting response... 200 OK\n",
            "Length: 168546183 (161M) [application/zip]\n",
            "Saving to: ‘10_food_classes_10_percent.zip’\n",
            "\n",
            "10_food_classes_10_ 100%[===================>] 160.74M  54.8MB/s    in 2.9s    \n",
            "\n",
            "2022-04-22 19:04:48 (54.8 MB/s) - ‘10_food_classes_10_percent.zip’ saved [168546183/168546183]\n",
            "\n"
          ]
        }
      ],
      "source": [
        "import zipfile\n",
        "!wget https://storage.googleapis.com/ztm_tf_course/food_vision/10_food_classes_10_percent.zip\n",
        "zipf = zipfile.ZipFile('10_food_classes_10_percent.zip')\n",
        "zipf.extractall()\n",
        "zipf.close()"
      ]
    },
    {
      "cell_type": "code",
      "source": [
        "import os\n",
        "for root,dirnames,filenames in os.walk('10_food_classes_10_percent'):\n",
        "  print(f'There are {len(dirnames)} directories and {len(filenames)} images in {root}')"
      ],
      "metadata": {
        "colab": {
          "base_uri": "https://localhost:8080/"
        },
        "id": "Webbt4h5iHR5",
        "outputId": "fad1bc81-8283-4c20-f70b-c227f36c6b69"
      },
      "execution_count": null,
      "outputs": [
        {
          "output_type": "stream",
          "name": "stdout",
          "text": [
            "There are 2 directories and 0 images in 10_food_classes_10_percent\n",
            "There are 10 directories and 0 images in 10_food_classes_10_percent/test\n",
            "There are 0 directories and 250 images in 10_food_classes_10_percent/test/grilled_salmon\n",
            "There are 0 directories and 250 images in 10_food_classes_10_percent/test/steak\n",
            "There are 0 directories and 250 images in 10_food_classes_10_percent/test/hamburger\n",
            "There are 0 directories and 250 images in 10_food_classes_10_percent/test/sushi\n",
            "There are 0 directories and 250 images in 10_food_classes_10_percent/test/chicken_wings\n",
            "There are 0 directories and 250 images in 10_food_classes_10_percent/test/pizza\n",
            "There are 0 directories and 250 images in 10_food_classes_10_percent/test/ice_cream\n",
            "There are 0 directories and 250 images in 10_food_classes_10_percent/test/fried_rice\n",
            "There are 0 directories and 250 images in 10_food_classes_10_percent/test/ramen\n",
            "There are 0 directories and 250 images in 10_food_classes_10_percent/test/chicken_curry\n",
            "There are 10 directories and 0 images in 10_food_classes_10_percent/train\n",
            "There are 0 directories and 75 images in 10_food_classes_10_percent/train/grilled_salmon\n",
            "There are 0 directories and 75 images in 10_food_classes_10_percent/train/steak\n",
            "There are 0 directories and 75 images in 10_food_classes_10_percent/train/hamburger\n",
            "There are 0 directories and 75 images in 10_food_classes_10_percent/train/sushi\n",
            "There are 0 directories and 75 images in 10_food_classes_10_percent/train/chicken_wings\n",
            "There are 0 directories and 75 images in 10_food_classes_10_percent/train/pizza\n",
            "There are 0 directories and 75 images in 10_food_classes_10_percent/train/ice_cream\n",
            "There are 0 directories and 75 images in 10_food_classes_10_percent/train/fried_rice\n",
            "There are 0 directories and 75 images in 10_food_classes_10_percent/train/ramen\n",
            "There are 0 directories and 75 images in 10_food_classes_10_percent/train/chicken_curry\n"
          ]
        }
      ]
    },
    {
      "cell_type": "code",
      "source": [
        "from tensorflow.keras.preprocessing.image import ImageDataGenerator\n",
        "\n",
        "IMAGE_SHAPE=(224,224)\n",
        "BATCH_SIZE=32\n",
        "EPOCHS=5\n",
        " \n",
        "train_dir='10_food_classes_10_percent/train/'\n",
        "test_dir='10_food_classes_10_percent/test/'\n",
        "\n",
        "train_datagen=ImageDataGenerator(rescale=1/255.)\n",
        "test_datagen=ImageDataGenerator(rescale=1/255.)\n",
        "\n",
        "train_data = train_datagen.flow_from_directory(train_dir,target_size=IMAGE_SHAPE,\n",
        "                                                 batch_size=BATCH_SIZE,class_mode='categorical',\n",
        "                                                 seed=42)\n",
        "test_data=test_datagen.flow_from_directory(test_dir,target_size=IMAGE_SHAPE,\n",
        "                                             seed=42,class_mode='categorical')"
      ],
      "metadata": {
        "colab": {
          "base_uri": "https://localhost:8080/"
        },
        "id": "ot7GY_PRilFN",
        "outputId": "b3dc8fdb-b6ba-415b-d099-681cd8bec2c0"
      },
      "execution_count": null,
      "outputs": [
        {
          "output_type": "stream",
          "name": "stdout",
          "text": [
            "Found 750 images belonging to 10 classes.\n",
            "Found 2500 images belonging to 10 classes.\n"
          ]
        }
      ]
    },
    {
      "cell_type": "code",
      "source": [
        "import datetime\n",
        "\n",
        "def create_tensorboard_callback(dirname,experiment_name):\n",
        "  log_dir=dirname+'/'+experiment_name+'/'+datetime.datetime.now().strftime('%Y%m%d-%H%M%S')\n",
        "  tensorboard_callback=tf.keras.callbacks.TensorBoard(log_dir=log_dir)\n",
        "  print(f'SAving log files to: {log_dir}')\n",
        "  return tensorboard_callback"
      ],
      "metadata": {
        "id": "j69FCW-hjjP3"
      },
      "execution_count": null,
      "outputs": []
    },
    {
      "cell_type": "code",
      "source": [
        "resnet_url = \"https://tfhub.dev/google/imagenet/resnet_v2_50/feature_vector/5\"\n",
        "effecientnet_url = \"https://tfhub.dev/tensorflow/efficientnet/b0/feature-vector/1\""
      ],
      "metadata": {
        "id": "CP4UKF4ylP2G"
      },
      "execution_count": null,
      "outputs": []
    },
    {
      "cell_type": "code",
      "source": [
        "import tensorflow_hub as hub\n",
        "from tensorflow.keras import layers"
      ],
      "metadata": {
        "id": "UYGgB6vOoObN"
      },
      "execution_count": null,
      "outputs": []
    },
    {
      "cell_type": "code",
      "source": [
        "def create_model(model_url,num_classes=10):\n",
        "  feature_extractor_layer=hub.KerasLayer(model_url,\n",
        "                                         trainable=False,\n",
        "                                         name='feature_extraction_layer',\n",
        "                                         input_shape=IMAGE_SHAPE+(3,))\n",
        "  \n",
        "  model=tf.keras.Sequential([\n",
        "    feature_extractor_layer,\n",
        "    layers.Dense(num_classes,activation='softmax',name='output_layer')\n",
        "  ])\n",
        "  return model"
      ],
      "metadata": {
        "id": "ogjizWHtohiY"
      },
      "execution_count": null,
      "outputs": []
    },
    {
      "cell_type": "code",
      "source": [
        "resenet_model=create_model(resnet_url,num_classes=train_data.num_classes)"
      ],
      "metadata": {
        "id": "Z8Imw383piSq"
      },
      "execution_count": null,
      "outputs": []
    },
    {
      "cell_type": "code",
      "source": [
        "resenet_model.compile(loss='categorical_crossentropy',\n",
        "                      optimizer=tf.keras.optimizers.Adam(),\n",
        "                      metrics=['accuracy'])\n",
        "resenet_model.summary()"
      ],
      "metadata": {
        "colab": {
          "base_uri": "https://localhost:8080/"
        },
        "id": "q4WWuTiip0Sr",
        "outputId": "c926fb73-9f54-4097-9e86-bcdaae72a52a"
      },
      "execution_count": null,
      "outputs": [
        {
          "output_type": "stream",
          "name": "stdout",
          "text": [
            "Model: \"sequential\"\n",
            "_________________________________________________________________\n",
            " Layer (type)                Output Shape              Param #   \n",
            "=================================================================\n",
            " feature_extraction_layer (K  (None, 2048)             23564800  \n",
            " erasLayer)                                                      \n",
            "                                                                 \n",
            " output_layer (Dense)        (None, 10)                20490     \n",
            "                                                                 \n",
            "=================================================================\n",
            "Total params: 23,585,290\n",
            "Trainable params: 20,490\n",
            "Non-trainable params: 23,564,800\n",
            "_________________________________________________________________\n"
          ]
        }
      ]
    },
    {
      "cell_type": "code",
      "source": [
        "resenet_hist=resenet_model.fit(train_data,epochs=5,\n",
        "                  steps_per_epoch=len(train_data),\n",
        "                  callbacks=[create_tensorboard_callback(dirname='tfhub',\n",
        "                                                         experiment_name='resenet50v2')],\n",
        "                  validation_data=test_data,\n",
        "                  validation_steps=len(test_data))"
      ],
      "metadata": {
        "colab": {
          "base_uri": "https://localhost:8080/"
        },
        "id": "pMG_vePBqNER",
        "outputId": "468f0317-8a40-4fd4-ecfa-8f9069866f4c"
      },
      "execution_count": null,
      "outputs": [
        {
          "output_type": "stream",
          "name": "stdout",
          "text": [
            "SAving log files to: tfhub/resenet50v2/20220422-191101\n",
            "Epoch 1/5\n",
            "24/24 [==============================] - 17s 710ms/step - loss: 0.2654 - accuracy: 0.9573 - val_loss: 0.6240 - val_accuracy: 0.7928\n",
            "Epoch 2/5\n",
            "24/24 [==============================] - 16s 691ms/step - loss: 0.2230 - accuracy: 0.9707 - val_loss: 0.6163 - val_accuracy: 0.7896\n",
            "Epoch 3/5\n",
            "24/24 [==============================] - 16s 696ms/step - loss: 0.1923 - accuracy: 0.9827 - val_loss: 0.6062 - val_accuracy: 0.7964\n",
            "Epoch 4/5\n",
            "24/24 [==============================] - 16s 692ms/step - loss: 0.1638 - accuracy: 0.9880 - val_loss: 0.6002 - val_accuracy: 0.8016\n",
            "Epoch 5/5\n",
            "24/24 [==============================] - 16s 698ms/step - loss: 0.1428 - accuracy: 0.9907 - val_loss: 0.6035 - val_accuracy: 0.7964\n"
          ]
        }
      ]
    },
    {
      "cell_type": "code",
      "source": [
        "import matplotlib.pyplot as plt\n",
        "def loss_curve(hist):\n",
        "  loss,valloss=hist.history['loss'],hist.history['val_loss']\n",
        "  accuracy,val_accuracy=hist.history['accuracy'],hist.history['val_accuracy']\n",
        "  epochs=range(len(hist.history['loss']))\n",
        "\n",
        "  plt.plot(epochs,loss,label='training loss')\n",
        "  plt.plot(epochs,valloss,label='val loss')\n",
        "  plt.legend()\n",
        "\n",
        "  plt.figure()\n",
        "  plt.plot(epochs,accuracy,label='training accuracy')\n",
        "  plt.plot(epochs,val_accuracy,label='val accuarcy')\n",
        "  plt.legend()"
      ],
      "metadata": {
        "id": "WAFBmwPAqk4g"
      },
      "execution_count": null,
      "outputs": []
    },
    {
      "cell_type": "code",
      "source": [
        "loss_curve(resenet_hist)"
      ],
      "metadata": {
        "colab": {
          "base_uri": "https://localhost:8080/",
          "height": 517
        },
        "id": "Jl9eCMkOsl1S",
        "outputId": "5afc59e1-5e80-4eff-f657-8f012631b24e"
      },
      "execution_count": null,
      "outputs": [
        {
          "output_type": "display_data",
          "data": {
            "text/plain": [
              "<Figure size 432x288 with 1 Axes>"
            ],
            "image/png": "[encoded data removed]"
          },
          "metadata": {
            "needs_background": "light"
          }
        },
        {
          "output_type": "display_data",
          "data": {
            "text/plain": [
              "<Figure size 432x288 with 1 Axes>"
            ],
            "image/png": "[encoded data removed]"
          },
          "metadata": {
            "needs_background": "light"
          }
        }
      ]
    },
    {
      "cell_type": "code",
      "source": [
        "effnet_model=create_model(effecientnet_url,num_classes=train_data.num_classes)"
      ],
      "metadata": {
        "id": "iPwfLID_sqGi"
      },
      "execution_count": null,
      "outputs": []
    },
    {
      "cell_type": "code",
      "source": [
        "effnet_model.compile(loss='categorical_crossentropy',\n",
        "                     optimizer=tf.keras.optimizers.Adam(),\n",
        "                     metrics=['accuracy'])\n",
        "effnet_model.summary()"
      ],
      "metadata": {
        "colab": {
          "base_uri": "https://localhost:8080/"
        },
        "id": "Wa22XBT7tAMw",
        "outputId": "02d5bedc-0cd1-475e-b1de-1232880206dc"
      },
      "execution_count": null,
      "outputs": [
        {
          "output_type": "stream",
          "name": "stdout",
          "text": [
            "Model: \"sequential_1\"\n",
            "_________________________________________________________________\n",
            " Layer (type)                Output Shape              Param #   \n",
            "=================================================================\n",
            " feature_extraction_layer (K  (None, 1280)             4049564   \n",
            " erasLayer)                                                      \n",
            "                                                                 \n",
            " output_layer (Dense)        (None, 10)                12810     \n",
            "                                                                 \n",
            "=================================================================\n",
            "Total params: 4,062,374\n",
            "Trainable params: 12,810\n",
            "Non-trainable params: 4,049,564\n",
            "_________________________________________________________________\n"
          ]
        }
      ]
    },
    {
      "cell_type": "code",
      "source": [
        "effnet_hist=effnet_model.fit(train_data,epochs=5,\n",
        "                             steps_per_epoch=len(train_data),\n",
        "                             callbacks=create_tensorboard_callback(dirname='tfhub',\n",
        "                                                                   experiment_name='efficientNet'),\n",
        "                             validation_data=test_data,\n",
        "                             validation_steps=len(test_data))"
      ],
      "metadata": {
        "colab": {
          "base_uri": "https://localhost:8080/"
        },
        "id": "ZqvOhxqRtAQA",
        "outputId": "eebe9d31-d9c9-4c2e-cae1-105636ae3d46"
      },
      "execution_count": null,
      "outputs": [
        {
          "output_type": "stream",
          "name": "stdout",
          "text": [
            "SAving log files to: tfhub/efficientNet/20220422-192040\n",
            "Epoch 1/5\n",
            "24/24 [==============================] - 26s 713ms/step - loss: 1.8476 - accuracy: 0.4413 - val_loss: 1.2909 - val_accuracy: 0.7500\n",
            "Epoch 2/5\n",
            "24/24 [==============================] - 15s 659ms/step - loss: 1.0460 - accuracy: 0.7733 - val_loss: 0.8602 - val_accuracy: 0.8244\n",
            "Epoch 3/5\n",
            "24/24 [==============================] - 25s 1s/step - loss: 0.7447 - accuracy: 0.8453 - val_loss: 0.6938 - val_accuracy: 0.8496\n",
            "Epoch 4/5\n",
            "24/24 [==============================] - 15s 642ms/step - loss: 0.5973 - accuracy: 0.8787 - val_loss: 0.6082 - val_accuracy: 0.8564\n",
            "Epoch 5/5\n",
            "24/24 [==============================] - 15s 642ms/step - loss: 0.5046 - accuracy: 0.8973 - val_loss: 0.5554 - val_accuracy: 0.8620\n"
          ]
        }
      ]
    },
    {
      "cell_type": "code",
      "source": [
        "loss_curve(effnet_hist)"
      ],
      "metadata": {
        "colab": {
          "base_uri": "https://localhost:8080/",
          "height": 513
        },
        "id": "Mr4QraB8tATI",
        "outputId": "af8aacfc-bb05-4ff8-f985-a95d230c70f6"
      },
      "execution_count": null,
      "outputs": [
        {
          "output_type": "display_data",
          "data": {
            "text/plain": [
              "<Figure size 432x288 with 1 Axes>"
            ],
            "image/png": "[encoded data removed]"
          },
          "metadata": {
            "needs_background": "light"
          }
        },
        {
          "output_type": "display_data",
          "data": {
            "text/plain": [
              "<Figure size 432x288 with 1 Axes>"
            ],
            "image/png": "[encoded data removed]"
          },
          "metadata": {
            "needs_background": "light"
          }
        }
      ]
    },
    {
      "cell_type": "code",
      "source": [
        "!tensorboard dev upload --logdir ./tfhub/ \\\n",
        "--name \"Effnet vs Resnet\" \\\n",
        "--description \"Comparing 2 different TF models\" \\\n",
        "--one_shot"
      ],
      "metadata": {
        "colab": {
          "base_uri": "https://localhost:8080/"
        },
        "id": "krQevivItAVj",
        "outputId": "36b4a2b1-829e-499e-f0de-54c4e61b3a72"
      },
      "execution_count": null,
      "outputs": [
        {
          "output_type": "stream",
          "name": "stdout",
          "text": [
            "\n",
            "New experiment created. View your TensorBoard at: https://tensorboard.dev/experiment/HwjSqUWdR6W27VMcXGW74Q/\n",
            "\n",
            "\u001b[1m[2022-04-22T19:36:54]\u001b[0m Started scanning logdir.\n",
            "\u001b[1m[2022-04-22T19:37:01]\u001b[0m Total uploaded: 90 scalars, 0 tensors, 3 binary objects (7.2 MB)\n",
            "\u001b[1m[2022-04-22T19:37:01]\u001b[0m Done scanning logdir.\n",
            "\n",
            "\n",
            "Done. View your TensorBoard at https://tensorboard.dev/experiment/HwjSqUWdR6W27VMcXGW74Q/\n"
          ]
        }
      ]
    },
    {
      "cell_type": "code",
      "source": [
        "\n",
        " "
      ],
      "metadata": {
        "id": "dJ9UwQa0wwaE"
      },
      "execution_count": null,
      "outputs": []
    },
    {
      "cell_type": "code",
      "source": [
        ""
      ],
      "metadata": {
        "id": "dksZ9fKAwweY"
      },
      "execution_count": null,
      "outputs": []
    },
    {
      "cell_type": "code",
      "source": [
        ""
      ],
      "metadata": {
        "id": "FFR6rUrawwia"
      },
      "execution_count": null,
      "outputs": []
    },
    {
      "cell_type": "code",
      "source": [
        ""
      ],
      "metadata": {
        "id": "92FlCT3gwwmT"
      },
      "execution_count": null,
      "outputs": []
    },
    {
      "cell_type": "code",
      "source": [
        ""
      ],
      "metadata": {
        "id": "5uAKbo6Ewwrc"
      },
      "execution_count": null,
      "outputs": []
    },
    {
      "cell_type": "code",
      "source": [
        ""
      ],
      "metadata": {
        "id": "OsR-0Qc-wwvD"
      },
      "execution_count": null,
      "outputs": []
    },
    {
      "cell_type": "code",
      "source": [
        ""
      ],
      "metadata": {
        "id": "G-wH1AKHwwyh"
      },
      "execution_count": null,
      "outputs": []
    },
    {
      "cell_type": "code",
      "source": [
        ""
      ],
      "metadata": {
        "id": "tkLeYISaww1z"
      },
      "execution_count": null,
      "outputs": []
    },
    {
      "cell_type": "code",
      "source": [
        ""
      ],
      "metadata": {
        "id": "MOrMvnfpww5W"
      },
      "execution_count": null,
      "outputs": []
    },
    {
      "cell_type": "code",
      "source": [
        ""
      ],
      "metadata": {
        "id": "h_bCeKFdww8f"
      },
      "execution_count": null,
      "outputs": []
    }
  ]
}