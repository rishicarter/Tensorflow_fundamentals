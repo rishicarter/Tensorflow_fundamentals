{
  "nbformat": 4,
  "nbformat_minor": 0,
  "metadata": {
    "colab": {
      "name": "01_Tensorflow_Regression.ipynb",
      "provenance": [],
      "authorship_tag": "ABX9TyNVLwr9AU8B6eukPvZAIjDq",
      "include_colab_link": true
    },
    "kernelspec": {
      "name": "python3",
      "display_name": "Python 3"
    },
    "language_info": {
      "name": "python"
    }
  },
  "cells": [
    {
      "cell_type": "markdown",
      "metadata": {
        "id": "view-in-github",
        "colab_type": "text"
      },
      "source": [
        "<a href=\"https://colab.research.google.com/github/rishicarter/Tensorflow_fundamentals/blob/main/01_Tensorflow_Regression.ipynb\" target=\"_parent\"><img src=\"https://colab.research.google.com/assets/colab-badge.svg\" alt=\"Open In Colab\"/></a>"
      ]
    },
    {
      "cell_type": "code",
      "execution_count": null,
      "metadata": {
        "colab": {
          "base_uri": "https://localhost:8080/"
        },
        "id": "wU_bgx7_Bb3x",
        "outputId": "9511c8de-364f-46b0-df07-1bc2d2eddcbc"
      },
      "outputs": [
        {
          "output_type": "stream",
          "name": "stdout",
          "text": [
            "2.8.0\n"
          ]
        }
      ],
      "source": [
        "# Importing Tensorflow\n",
        "import tensorflow as tf\n",
        "print(tf.__version__)"
      ]
    },
    {
      "cell_type": "code",
      "source": [
        "# Create data to view and fit\n",
        "import numpy as np\n",
        "import matplotlib.pyplot as plt"
      ],
      "metadata": {
        "id": "KkzIV9PsBjpB"
      },
      "execution_count": null,
      "outputs": []
    },
    {
      "cell_type": "code",
      "source": [
        "X = np.array([-7.,-4.,-1.,2.,5.,8.,11.,14.])\n",
        "y = np.array([3.,6.,9.,12.,15.,18.,21.,24.])\n",
        "plt.scatter(X,y);"
      ],
      "metadata": {
        "colab": {
          "base_uri": "https://localhost:8080/",
          "height": 269
        },
        "id": "TRnQS94RE6nn",
        "outputId": "6edaf476-cb83-4a40-f1ea-b6233a30e6e1"
      },
      "execution_count": null,
      "outputs": [
        {
          "output_type": "display_data",
          "data": {
            "text/plain": [
              "<Figure size 432x288 with 1 Axes>"
            ],
            "image/png": "[encoded data removed]"
          },
          "metadata": {
            "needs_background": "light"
          }
        }
      ]
    },
    {
      "cell_type": "code",
      "source": [
        "house_info = tf.constant(['bedroom','bathroom','garage'])\n",
        "house_price= tf.constant([99999])\n",
        "house_info,house_price"
      ],
      "metadata": {
        "colab": {
          "base_uri": "https://localhost:8080/"
        },
        "id": "X5jirtG-FRoW",
        "outputId": "bb73c695-dbad-44eb-cf0c-d2f14d1cea69"
      },
      "execution_count": null,
      "outputs": [
        {
          "output_type": "execute_result",
          "data": {
            "text/plain": [
              "(<tf.Tensor: shape=(3,), dtype=string, numpy=array([b'bedroom', b'bathroom', b'garage'], dtype=object)>,\n",
              " <tf.Tensor: shape=(1,), dtype=int32, numpy=array([99999], dtype=int32)>)"
            ]
          },
          "metadata": {},
          "execution_count": 4
        }
      ]
    },
    {
      "cell_type": "code",
      "source": [
        "X = tf.constant(X)\n",
        "y= tf.constant(y)"
      ],
      "metadata": {
        "id": "kZF0_rxkF5Gs"
      },
      "execution_count": null,
      "outputs": []
    },
    {
      "cell_type": "code",
      "source": [
        "X,y"
      ],
      "metadata": {
        "colab": {
          "base_uri": "https://localhost:8080/"
        },
        "id": "PXYHIyQlG1ZZ",
        "outputId": "b0d20322-1a41-4088-9ce4-10a3765acca6"
      },
      "execution_count": null,
      "outputs": [
        {
          "output_type": "execute_result",
          "data": {
            "text/plain": [
              "(<tf.Tensor: shape=(8,), dtype=float64, numpy=array([-7., -4., -1.,  2.,  5.,  8., 11., 14.])>,\n",
              " <tf.Tensor: shape=(8,), dtype=float64, numpy=array([ 3.,  6.,  9., 12., 15., 18., 21., 24.])>)"
            ]
          },
          "metadata": {},
          "execution_count": 6
        }
      ]
    },
    {
      "cell_type": "code",
      "source": [
        "## Steps of model\n",
        "# Set seed\n",
        "tf.random.set_seed(42)\n",
        "# Create model\n",
        "model = tf.keras.Sequential([\n",
        "  tf.keras.layers.Dense(1)\n",
        "])\n",
        "# Compile model\n",
        "model.compile(loss=tf.keras.losses.MAE,\n",
        "              optimizer=tf.keras.optimizers.SGD(),\n",
        "              metrics=['mae'])\n",
        "# Fit model\n",
        "model.fit(tf.expand_dims(X,axis=-1),y,epochs=5)"
      ],
      "metadata": {
        "colab": {
          "base_uri": "https://localhost:8080/"
        },
        "id": "lmISzteMG2io",
        "outputId": "22602e3a-a5bc-48de-dd29-23f3ebfe9ca5"
      },
      "execution_count": null,
      "outputs": [
        {
          "output_type": "stream",
          "name": "stdout",
          "text": [
            "Epoch 1/5\n",
            "1/1 [==============================] - 1s 780ms/step - loss: 11.5048 - mae: 11.5048\n",
            "Epoch 2/5\n",
            "1/1 [==============================] - 0s 10ms/step - loss: 11.3723 - mae: 11.3723\n",
            "Epoch 3/5\n",
            "1/1 [==============================] - 0s 15ms/step - loss: 11.2398 - mae: 11.2398\n",
            "Epoch 4/5\n",
            "1/1 [==============================] - 0s 12ms/step - loss: 11.1073 - mae: 11.1073\n",
            "Epoch 5/5\n",
            "1/1 [==============================] - 0s 10ms/step - loss: 10.9748 - mae: 10.9748\n"
          ]
        },
        {
          "output_type": "execute_result",
          "data": {
            "text/plain": [
              "<keras.callbacks.History at 0x7fae7a9efe50>"
            ]
          },
          "metadata": {},
          "execution_count": 7
        }
      ]
    },
    {
      "cell_type": "code",
      "source": [
        "y_pred = model.predict([17.0])\n",
        "y_pred"
      ],
      "metadata": {
        "id": "2P0HDVPRI-qa",
        "colab": {
          "base_uri": "https://localhost:8080/"
        },
        "outputId": "c852ee1c-3f80-4d2c-e3c1-ddcce442b0c4"
      },
      "execution_count": null,
      "outputs": [
        {
          "output_type": "execute_result",
          "data": {
            "text/plain": [
              "array([[12.716021]], dtype=float32)"
            ]
          },
          "metadata": {},
          "execution_count": 8
        }
      ]
    },
    {
      "cell_type": "code",
      "source": [
        "# Set seed\n",
        "tf.random.set_seed(42)\n",
        "# Create model\n",
        "model = tf.keras.Sequential([\n",
        "  tf.keras.layers.Dense(1)\n",
        "])\n",
        "# Compile model\n",
        "model.compile(loss=tf.keras.losses.MAE,\n",
        "              optimizer=tf.keras.optimizers.SGD(),\n",
        "              metrics=['mae'])\n",
        "# Fit model\n",
        "model.fit(tf.expand_dims(X,axis=-1),y,epochs=5)"
      ],
      "metadata": {
        "colab": {
          "base_uri": "https://localhost:8080/"
        },
        "id": "GKRd1GK8IGo3",
        "outputId": "1a1d7dc0-32e7-45fa-ce8a-e66527fe4698"
      },
      "execution_count": null,
      "outputs": [
        {
          "output_type": "stream",
          "name": "stdout",
          "text": [
            "Epoch 1/5\n",
            "1/1 [==============================] - 1s 520ms/step - loss: 11.5048 - mae: 11.5048\n",
            "Epoch 2/5\n",
            "1/1 [==============================] - 0s 10ms/step - loss: 11.3723 - mae: 11.3723\n",
            "Epoch 3/5\n",
            "1/1 [==============================] - 0s 7ms/step - loss: 11.2398 - mae: 11.2398\n",
            "Epoch 4/5\n",
            "1/1 [==============================] - 0s 9ms/step - loss: 11.1073 - mae: 11.1073\n",
            "Epoch 5/5\n",
            "1/1 [==============================] - 0s 10ms/step - loss: 10.9748 - mae: 10.9748\n"
          ]
        },
        {
          "output_type": "execute_result",
          "data": {
            "text/plain": [
              "<keras.callbacks.History at 0x7fae7a87c9d0>"
            ]
          },
          "metadata": {},
          "execution_count": 9
        }
      ]
    },
    {
      "cell_type": "code",
      "source": [
        "from sklearn.datasets import fetch_california_housing\n",
        "bostonX,bostony = fetch_california_housing(return_X_y=True,as_frame=True)"
      ],
      "metadata": {
        "id": "Pco3EdobIX3y"
      },
      "execution_count": null,
      "outputs": []
    },
    {
      "cell_type": "code",
      "source": [
        "bostonX.head()"
      ],
      "metadata": {
        "colab": {
          "base_uri": "https://localhost:8080/",
          "height": 206
        },
        "id": "qOjMBEdqIX6k",
        "outputId": "d4c1aba1-c9f1-40c0-ece2-3042aead0cee"
      },
      "execution_count": null,
      "outputs": [
        {
          "output_type": "execute_result",
          "data": {
            "text/plain": [
              "   MedInc  HouseAge  AveRooms  AveBedrms  Population  AveOccup  Latitude  \\\n",
              "0  8.3252      41.0  6.984127   1.023810       322.0  2.555556     37.88   \n",
              "1  8.3014      21.0  6.238137   0.971880      2401.0  2.109842     37.86   \n",
              "2  7.2574      52.0  8.288136   1.073446       496.0  2.802260     37.85   \n",
              "3  5.6431      52.0  5.817352   1.073059       558.0  2.547945     37.85   \n",
              "4  3.8462      52.0  6.281853   1.081081       565.0  2.181467     37.85   \n",
              "\n",
              "   Longitude  \n",
              "0    -122.23  \n",
              "1    -122.22  \n",
              "2    -122.24  \n",
              "3    -122.25  \n",
              "4    -122.25  "
            ],
            "text/html": [
              "\n",
              "  <div id=\"df-a2d72cac-62af-43cf-b531-c890cb5ecc36\">\n",
              "    <div class=\"colab-df-container\">\n",
              "      <div>\n",
              "<style scoped>\n",
              "    .dataframe tbody tr th:only-of-type {\n",
              "        vertical-align: middle;\n",
              "    }\n",
              "\n",
              "    .dataframe tbody tr th {\n",
              "        vertical-align: top;\n",
              "    }\n",
              "\n",
              "    .dataframe thead th {\n",
              "        text-align: right;\n",
              "    }\n",
              "</style>\n",
              "<table border=\"1\" class=\"dataframe\">\n",
              "  <thead>\n",
              "    <tr style=\"text-align: right;\">\n",
              "      <th></th>\n",
              "      <th>MedInc</th>\n",
              "      <th>HouseAge</th>\n",
              "      <th>AveRooms</th>\n",
              "      <th>AveBedrms</th>\n",
              "      <th>Population</th>\n",
              "      <th>AveOccup</th>\n",
              "      <th>Latitude</th>\n",
              "      <th>Longitude</th>\n",
              "    </tr>\n",
              "  </thead>\n",
              "  <tbody>\n",
              "    <tr>\n",
              "      <th>0</th>\n",
              "      <td>8.3252</td>\n",
              "      <td>41.0</td>\n",
              "      <td>6.984127</td>\n",
              "      <td>1.023810</td>\n",
              "      <td>322.0</td>\n",
              "      <td>2.555556</td>\n",
              "      <td>37.88</td>\n",
              "      <td>-122.23</td>\n",
              "    </tr>\n",
              "    <tr>\n",
              "      <th>1</th>\n",
              "      <td>8.3014</td>\n",
              "      <td>21.0</td>\n",
              "      <td>6.238137</td>\n",
              "      <td>0.971880</td>\n",
              "      <td>2401.0</td>\n",
              "      <td>2.109842</td>\n",
              "      <td>37.86</td>\n",
              "      <td>-122.22</td>\n",
              "    </tr>\n",
              "    <tr>\n",
              "      <th>2</th>\n",
              "      <td>7.2574</td>\n",
              "      <td>52.0</td>\n",
              "      <td>8.288136</td>\n",
              "      <td>1.073446</td>\n",
              "      <td>496.0</td>\n",
              "      <td>2.802260</td>\n",
              "      <td>37.85</td>\n",
              "      <td>-122.24</td>\n",
              "    </tr>\n",
              "    <tr>\n",
              "      <th>3</th>\n",
              "      <td>5.6431</td>\n",
              "      <td>52.0</td>\n",
              "      <td>5.817352</td>\n",
              "      <td>1.073059</td>\n",
              "      <td>558.0</td>\n",
              "      <td>2.547945</td>\n",
              "      <td>37.85</td>\n",
              "      <td>-122.25</td>\n",
              "    </tr>\n",
              "    <tr>\n",
              "      <th>4</th>\n",
              "      <td>3.8462</td>\n",
              "      <td>52.0</td>\n",
              "      <td>6.281853</td>\n",
              "      <td>1.081081</td>\n",
              "      <td>565.0</td>\n",
              "      <td>2.181467</td>\n",
              "      <td>37.85</td>\n",
              "      <td>-122.25</td>\n",
              "    </tr>\n",
              "  </tbody>\n",
              "</table>\n",
              "</div>\n",
              "      <button class=\"colab-df-convert\" onclick=\"convertToInteractive('df-a2d72cac-62af-43cf-b531-c890cb5ecc36')\"\n",
              "              title=\"Convert this dataframe to an interactive table.\"\n",
              "              style=\"display:none;\">\n",
              "        \n",
              "  <svg xmlns=\"http://www.w3.org/2000/svg\" height=\"24px\"viewBox=\"0 0 24 24\"\n",
              "       width=\"24px\">\n",
              "    <path d=\"M0 0h24v24H0V0z\" fill=\"none\"/>\n",
              "    <path d=\"M18.56 5.44l.94 2.06.94-2.06 2.06-.94-2.06-.94-.94-2.06-.94 2.06-2.06.94zm-11 1L8.5 8.5l.94-2.06 2.06-.94-2.06-.94L8.5 2.5l-.94 2.06-2.06.94zm10 10l.94 2.06.94-2.06 2.06-.94-2.06-.94-.94-2.06-.94 2.06-2.06.94z\"/><path d=\"M17.41 7.96l-1.37-1.37c-.4-.4-.92-.59-1.43-.59-.52 0-1.04.2-1.43.59L10.3 9.45l-7.72 7.72c-.78.78-.78 2.05 0 2.83L4 21.41c.39.39.9.59 1.41.59.51 0 1.02-.2 1.41-.59l7.78-7.78 2.81-2.81c.8-.78.8-2.07 0-2.86zM5.41 20L4 18.59l7.72-7.72 1.47 1.35L5.41 20z\"/>\n",
              "  </svg>\n",
              "      </button>\n",
              "      \n",
              "  <style>\n",
              "    .colab-df-container {\n",
              "      display:flex;\n",
              "      flex-wrap:wrap;\n",
              "      gap: 12px;\n",
              "    }\n",
              "\n",
              "    .colab-df-convert {\n",
              "      background-color: #E8F0FE;\n",
              "      border: none;\n",
              "      border-radius: 50%;\n",
              "      cursor: pointer;\n",
              "      display: none;\n",
              "      fill: #1967D2;\n",
              "      height: 32px;\n",
              "      padding: 0 0 0 0;\n",
              "      width: 32px;\n",
              "    }\n",
              "\n",
              "    .colab-df-convert:hover {\n",
              "      background-color: #E2EBFA;\n",
              "      box-shadow: 0px 1px 2px rgba(60, 64, 67, 0.3), 0px 1px 3px 1px rgba(60, 64, 67, 0.15);\n",
              "      fill: #174EA6;\n",
              "    }\n",
              "\n",
              "    [theme=dark] .colab-df-convert {\n",
              "      background-color: #3B4455;\n",
              "      fill: #D2E3FC;\n",
              "    }\n",
              "\n",
              "    [theme=dark] .colab-df-convert:hover {\n",
              "      background-color: #434B5C;\n",
              "      box-shadow: 0px 1px 3px 1px rgba(0, 0, 0, 0.15);\n",
              "      filter: drop-shadow(0px 1px 2px rgba(0, 0, 0, 0.3));\n",
              "      fill: #FFFFFF;\n",
              "    }\n",
              "  </style>\n",
              "\n",
              "      <script>\n",
              "        const buttonEl =\n",
              "          document.querySelector('#df-a2d72cac-62af-43cf-b531-c890cb5ecc36 button.colab-df-convert');\n",
              "        buttonEl.style.display =\n",
              "          google.colab.kernel.accessAllowed ? 'block' : 'none';\n",
              "\n",
              "        async function convertToInteractive(key) {\n",
              "          const element = document.querySelector('#df-a2d72cac-62af-43cf-b531-c890cb5ecc36');\n",
              "          const dataTable =\n",
              "            await google.colab.kernel.invokeFunction('convertToInteractive',\n",
              "                                                     [key], {});\n",
              "          if (!dataTable) return;\n",
              "\n",
              "          const docLinkHtml = 'Like what you see? Visit the ' +\n",
              "            '<a target=\"_blank\" href=https://colab.research.google.com/notebooks/data_table.ipynb>data table notebook</a>'\n",
              "            + ' to learn more about interactive tables.';\n",
              "          element.innerHTML = '';\n",
              "          dataTable['output_type'] = 'display_data';\n",
              "          await google.colab.output.renderOutput(dataTable, element);\n",
              "          const docLink = document.createElement('div');\n",
              "          docLink.innerHTML = docLinkHtml;\n",
              "          element.appendChild(docLink);\n",
              "        }\n",
              "      </script>\n",
              "    </div>\n",
              "  </div>\n",
              "  "
            ]
          },
          "metadata": {},
          "execution_count": 11
        }
      ]
    },
    {
      "cell_type": "code",
      "source": [
        "type(bostonX)"
      ],
      "metadata": {
        "colab": {
          "base_uri": "https://localhost:8080/"
        },
        "id": "IrpB9SyDIZV6",
        "outputId": "687ccb47-7942-46d4-d91b-71686463a801"
      },
      "execution_count": null,
      "outputs": [
        {
          "output_type": "execute_result",
          "data": {
            "text/plain": [
              "pandas.core.frame.DataFrame"
            ]
          },
          "metadata": {},
          "execution_count": 12
        }
      ]
    },
    {
      "cell_type": "code",
      "source": [
        "# Seed\n",
        "tf.random.set_seed(42)\n",
        "# Create model\n",
        "model = tf.keras.Sequential([\n",
        "    tf.keras.layers.Dense(1)\n",
        "])\n",
        "#Compile model\n",
        "model.compile(optimizer=tf.keras.optimizers.SGD(),\n",
        "              loss=tf.keras.losses.MAE,\n",
        "              metrics=['mae'])\n",
        "#Fit\n",
        "model.fit(tf.expand_dims(X,axis=-1),y,epochs=100)"
      ],
      "metadata": {
        "colab": {
          "base_uri": "https://localhost:8080/"
        },
        "id": "AHFkiK1wIZZs",
        "outputId": "9574b8ad-98c3-4a6d-dad6-496a83ecef8f"
      },
      "execution_count": null,
      "outputs": [
        {
          "output_type": "stream",
          "name": "stdout",
          "text": [
            "Epoch 1/100\n",
            "1/1 [==============================] - 1s 562ms/step - loss: 11.5048 - mae: 11.5048\n",
            "Epoch 2/100\n",
            "1/1 [==============================] - 0s 16ms/step - loss: 11.3723 - mae: 11.3723\n",
            "Epoch 3/100\n",
            "1/1 [==============================] - 0s 11ms/step - loss: 11.2398 - mae: 11.2398\n",
            "Epoch 4/100\n",
            "1/1 [==============================] - 0s 9ms/step - loss: 11.1073 - mae: 11.1073\n",
            "Epoch 5/100\n",
            "1/1 [==============================] - 0s 18ms/step - loss: 10.9748 - mae: 10.9748\n",
            "Epoch 6/100\n",
            "1/1 [==============================] - 0s 9ms/step - loss: 10.8423 - mae: 10.8423\n",
            "Epoch 7/100\n",
            "1/1 [==============================] - 0s 10ms/step - loss: 10.7098 - mae: 10.7098\n",
            "Epoch 8/100\n",
            "1/1 [==============================] - 0s 11ms/step - loss: 10.5773 - mae: 10.5773\n",
            "Epoch 9/100\n",
            "1/1 [==============================] - 0s 10ms/step - loss: 10.4448 - mae: 10.4448\n",
            "Epoch 10/100\n",
            "1/1 [==============================] - 0s 11ms/step - loss: 10.3123 - mae: 10.3123\n",
            "Epoch 11/100\n",
            "1/1 [==============================] - 0s 16ms/step - loss: 10.1798 - mae: 10.1798\n",
            "Epoch 12/100\n",
            "1/1 [==============================] - 0s 15ms/step - loss: 10.0473 - mae: 10.0473\n",
            "Epoch 13/100\n",
            "1/1 [==============================] - 0s 9ms/step - loss: 9.9148 - mae: 9.9148\n",
            "Epoch 14/100\n",
            "1/1 [==============================] - 0s 13ms/step - loss: 9.7823 - mae: 9.7823\n",
            "Epoch 15/100\n",
            "1/1 [==============================] - 0s 12ms/step - loss: 9.6498 - mae: 9.6498\n",
            "Epoch 16/100\n",
            "1/1 [==============================] - 0s 15ms/step - loss: 9.5173 - mae: 9.5173\n",
            "Epoch 17/100\n",
            "1/1 [==============================] - 0s 20ms/step - loss: 9.3848 - mae: 9.3848\n",
            "Epoch 18/100\n",
            "1/1 [==============================] - 0s 11ms/step - loss: 9.2523 - mae: 9.2523\n",
            "Epoch 19/100\n",
            "1/1 [==============================] - 0s 11ms/step - loss: 9.1198 - mae: 9.1198\n",
            "Epoch 20/100\n",
            "1/1 [==============================] - 0s 11ms/step - loss: 8.9873 - mae: 8.9873\n",
            "Epoch 21/100\n",
            "1/1 [==============================] - 0s 11ms/step - loss: 8.8548 - mae: 8.8548\n",
            "Epoch 22/100\n",
            "1/1 [==============================] - 0s 16ms/step - loss: 8.7223 - mae: 8.7223\n",
            "Epoch 23/100\n",
            "1/1 [==============================] - 0s 8ms/step - loss: 8.5898 - mae: 8.5898\n",
            "Epoch 24/100\n",
            "1/1 [==============================] - 0s 15ms/step - loss: 8.4573 - mae: 8.4573\n",
            "Epoch 25/100\n",
            "1/1 [==============================] - 0s 19ms/step - loss: 8.3248 - mae: 8.3248\n",
            "Epoch 26/100\n",
            "1/1 [==============================] - 0s 11ms/step - loss: 8.1923 - mae: 8.1923\n",
            "Epoch 27/100\n",
            "1/1 [==============================] - 0s 21ms/step - loss: 8.0598 - mae: 8.0598\n",
            "Epoch 28/100\n",
            "1/1 [==============================] - 0s 19ms/step - loss: 7.9273 - mae: 7.9273\n",
            "Epoch 29/100\n",
            "1/1 [==============================] - 0s 13ms/step - loss: 7.7948 - mae: 7.7948\n",
            "Epoch 30/100\n",
            "1/1 [==============================] - 0s 12ms/step - loss: 7.6623 - mae: 7.6623\n",
            "Epoch 31/100\n",
            "1/1 [==============================] - 0s 11ms/step - loss: 7.5298 - mae: 7.5298\n",
            "Epoch 32/100\n",
            "1/1 [==============================] - 0s 15ms/step - loss: 7.3973 - mae: 7.3973\n",
            "Epoch 33/100\n",
            "1/1 [==============================] - 0s 15ms/step - loss: 7.2648 - mae: 7.2648\n",
            "Epoch 34/100\n",
            "1/1 [==============================] - 0s 16ms/step - loss: 7.2525 - mae: 7.2525\n",
            "Epoch 35/100\n",
            "1/1 [==============================] - 0s 15ms/step - loss: 7.2469 - mae: 7.2469\n",
            "Epoch 36/100\n",
            "1/1 [==============================] - 0s 12ms/step - loss: 7.2413 - mae: 7.2413\n",
            "Epoch 37/100\n",
            "1/1 [==============================] - 0s 15ms/step - loss: 7.2356 - mae: 7.2356\n",
            "Epoch 38/100\n",
            "1/1 [==============================] - 0s 14ms/step - loss: 7.2300 - mae: 7.2300\n",
            "Epoch 39/100\n",
            "1/1 [==============================] - 0s 12ms/step - loss: 7.2244 - mae: 7.2244\n",
            "Epoch 40/100\n",
            "1/1 [==============================] - 0s 32ms/step - loss: 7.2188 - mae: 7.2188\n",
            "Epoch 41/100\n",
            "1/1 [==============================] - 0s 7ms/step - loss: 7.2131 - mae: 7.2131\n",
            "Epoch 42/100\n",
            "1/1 [==============================] - 0s 8ms/step - loss: 7.2075 - mae: 7.2075\n",
            "Epoch 43/100\n",
            "1/1 [==============================] - 0s 10ms/step - loss: 7.2019 - mae: 7.2019\n",
            "Epoch 44/100\n",
            "1/1 [==============================] - 0s 10ms/step - loss: 7.1963 - mae: 7.1963\n",
            "Epoch 45/100\n",
            "1/1 [==============================] - 0s 11ms/step - loss: 7.1906 - mae: 7.1906\n",
            "Epoch 46/100\n",
            "1/1 [==============================] - 0s 9ms/step - loss: 7.1850 - mae: 7.1850\n",
            "Epoch 47/100\n",
            "1/1 [==============================] - 0s 11ms/step - loss: 7.1794 - mae: 7.1794\n",
            "Epoch 48/100\n",
            "1/1 [==============================] - 0s 9ms/step - loss: 7.1738 - mae: 7.1738\n",
            "Epoch 49/100\n",
            "1/1 [==============================] - 0s 12ms/step - loss: 7.1681 - mae: 7.1681\n",
            "Epoch 50/100\n",
            "1/1 [==============================] - 0s 11ms/step - loss: 7.1625 - mae: 7.1625\n",
            "Epoch 51/100\n",
            "1/1 [==============================] - 0s 11ms/step - loss: 7.1569 - mae: 7.1569\n",
            "Epoch 52/100\n",
            "1/1 [==============================] - 0s 10ms/step - loss: 7.1512 - mae: 7.1512\n",
            "Epoch 53/100\n",
            "1/1 [==============================] - 0s 38ms/step - loss: 7.1456 - mae: 7.1456\n",
            "Epoch 54/100\n",
            "1/1 [==============================] - 0s 19ms/step - loss: 7.1400 - mae: 7.1400\n",
            "Epoch 55/100\n",
            "1/1 [==============================] - 0s 16ms/step - loss: 7.1344 - mae: 7.1344\n",
            "Epoch 56/100\n",
            "1/1 [==============================] - 0s 17ms/step - loss: 7.1287 - mae: 7.1287\n",
            "Epoch 57/100\n",
            "1/1 [==============================] - 0s 9ms/step - loss: 7.1231 - mae: 7.1231\n",
            "Epoch 58/100\n",
            "1/1 [==============================] - 0s 10ms/step - loss: 7.1175 - mae: 7.1175\n",
            "Epoch 59/100\n",
            "1/1 [==============================] - 0s 12ms/step - loss: 7.1119 - mae: 7.1119\n",
            "Epoch 60/100\n",
            "1/1 [==============================] - 0s 31ms/step - loss: 7.1063 - mae: 7.1063\n",
            "Epoch 61/100\n",
            "1/1 [==============================] - 0s 11ms/step - loss: 7.1006 - mae: 7.1006\n",
            "Epoch 62/100\n",
            "1/1 [==============================] - 0s 13ms/step - loss: 7.0950 - mae: 7.0950\n",
            "Epoch 63/100\n",
            "1/1 [==============================] - 0s 17ms/step - loss: 7.0894 - mae: 7.0894\n",
            "Epoch 64/100\n",
            "1/1 [==============================] - 0s 13ms/step - loss: 7.0838 - mae: 7.0838\n",
            "Epoch 65/100\n",
            "1/1 [==============================] - 0s 11ms/step - loss: 7.0781 - mae: 7.0781\n",
            "Epoch 66/100\n",
            "1/1 [==============================] - 0s 10ms/step - loss: 7.0725 - mae: 7.0725\n",
            "Epoch 67/100\n",
            "1/1 [==============================] - 0s 21ms/step - loss: 7.0669 - mae: 7.0669\n",
            "Epoch 68/100\n",
            "1/1 [==============================] - 0s 36ms/step - loss: 7.0613 - mae: 7.0613\n",
            "Epoch 69/100\n",
            "1/1 [==============================] - 0s 15ms/step - loss: 7.0556 - mae: 7.0556\n",
            "Epoch 70/100\n",
            "1/1 [==============================] - 0s 11ms/step - loss: 7.0500 - mae: 7.0500\n",
            "Epoch 71/100\n",
            "1/1 [==============================] - 0s 14ms/step - loss: 7.0444 - mae: 7.0444\n",
            "Epoch 72/100\n",
            "1/1 [==============================] - 0s 8ms/step - loss: 7.0388 - mae: 7.0388\n",
            "Epoch 73/100\n",
            "1/1 [==============================] - 0s 14ms/step - loss: 7.0331 - mae: 7.0331\n",
            "Epoch 74/100\n",
            "1/1 [==============================] - 0s 16ms/step - loss: 7.0275 - mae: 7.0275\n",
            "Epoch 75/100\n",
            "1/1 [==============================] - 0s 11ms/step - loss: 7.0219 - mae: 7.0219\n",
            "Epoch 76/100\n",
            "1/1 [==============================] - 0s 9ms/step - loss: 7.0163 - mae: 7.0163\n",
            "Epoch 77/100\n",
            "1/1 [==============================] - 0s 13ms/step - loss: 7.0106 - mae: 7.0106\n",
            "Epoch 78/100\n",
            "1/1 [==============================] - 0s 18ms/step - loss: 7.0050 - mae: 7.0050\n",
            "Epoch 79/100\n",
            "1/1 [==============================] - 0s 12ms/step - loss: 6.9994 - mae: 6.9994\n",
            "Epoch 80/100\n",
            "1/1 [==============================] - 0s 12ms/step - loss: 6.9938 - mae: 6.9938\n",
            "Epoch 81/100\n",
            "1/1 [==============================] - 0s 22ms/step - loss: 6.9881 - mae: 6.9881\n",
            "Epoch 82/100\n",
            "1/1 [==============================] - 0s 15ms/step - loss: 6.9825 - mae: 6.9825\n",
            "Epoch 83/100\n",
            "1/1 [==============================] - 0s 13ms/step - loss: 6.9769 - mae: 6.9769\n",
            "Epoch 84/100\n",
            "1/1 [==============================] - 0s 13ms/step - loss: 6.9713 - mae: 6.9713\n",
            "Epoch 85/100\n",
            "1/1 [==============================] - 0s 13ms/step - loss: 6.9656 - mae: 6.9656\n",
            "Epoch 86/100\n",
            "1/1 [==============================] - 0s 15ms/step - loss: 6.9600 - mae: 6.9600\n",
            "Epoch 87/100\n",
            "1/1 [==============================] - 0s 18ms/step - loss: 6.9544 - mae: 6.9544\n",
            "Epoch 88/100\n",
            "1/1 [==============================] - 0s 17ms/step - loss: 6.9488 - mae: 6.9488\n",
            "Epoch 89/100\n",
            "1/1 [==============================] - 0s 13ms/step - loss: 6.9431 - mae: 6.9431\n",
            "Epoch 90/100\n",
            "1/1 [==============================] - 0s 9ms/step - loss: 6.9375 - mae: 6.9375\n",
            "Epoch 91/100\n",
            "1/1 [==============================] - 0s 10ms/step - loss: 6.9319 - mae: 6.9319\n",
            "Epoch 92/100\n",
            "1/1 [==============================] - 0s 9ms/step - loss: 6.9263 - mae: 6.9263\n",
            "Epoch 93/100\n",
            "1/1 [==============================] - 0s 6ms/step - loss: 6.9206 - mae: 6.9206\n",
            "Epoch 94/100\n",
            "1/1 [==============================] - 0s 8ms/step - loss: 6.9150 - mae: 6.9150\n",
            "Epoch 95/100\n",
            "1/1 [==============================] - 0s 17ms/step - loss: 6.9094 - mae: 6.9094\n",
            "Epoch 96/100\n",
            "1/1 [==============================] - 0s 10ms/step - loss: 6.9038 - mae: 6.9038\n",
            "Epoch 97/100\n",
            "1/1 [==============================] - 0s 14ms/step - loss: 6.8981 - mae: 6.8981\n",
            "Epoch 98/100\n",
            "1/1 [==============================] - 0s 19ms/step - loss: 6.8925 - mae: 6.8925\n",
            "Epoch 99/100\n",
            "1/1 [==============================] - 0s 19ms/step - loss: 6.8869 - mae: 6.8869\n",
            "Epoch 100/100\n",
            "1/1 [==============================] - 0s 24ms/step - loss: 6.8813 - mae: 6.8813\n"
          ]
        },
        {
          "output_type": "execute_result",
          "data": {
            "text/plain": [
              "<keras.callbacks.History at 0x7fae77f0afd0>"
            ]
          },
          "metadata": {},
          "execution_count": 13
        }
      ]
    },
    {
      "cell_type": "code",
      "source": [
        "y_pred = model.predict([17.0])\n",
        "y_pred"
      ],
      "metadata": {
        "colab": {
          "base_uri": "https://localhost:8080/"
        },
        "id": "J0L-_BcjIZdq",
        "outputId": "92527a2f-fa0f-4c15-fc01-2f8ff12cd76f"
      },
      "execution_count": null,
      "outputs": [
        {
          "output_type": "execute_result",
          "data": {
            "text/plain": [
              "array([[30.158512]], dtype=float32)"
            ]
          },
          "metadata": {},
          "execution_count": 14
        }
      ]
    },
    {
      "cell_type": "code",
      "source": [
        "# Seed\n",
        "tf.random.set_seed(42)\n",
        "# Create model\n",
        "model = tf.keras.Sequential([\n",
        "    tf.keras.layers.Dense(1)\n",
        "])\n",
        "#Compile model\n",
        "model.compile(optimizer=tf.keras.optimizers.SGD(),\n",
        "              loss=tf.keras.losses.MAE,\n",
        "              metrics=['mae'])\n",
        "#Fit\n",
        "model.fit(bostonX,bostony,epochs=5)"
      ],
      "metadata": {
        "colab": {
          "base_uri": "https://localhost:8080/"
        },
        "id": "wv1MC_0zIZhb",
        "outputId": "d1cec711-ca60-4633-f9df-65a0b2c47f04"
      },
      "execution_count": null,
      "outputs": [
        {
          "output_type": "stream",
          "name": "stdout",
          "text": [
            "Epoch 1/5\n",
            "645/645 [==============================] - 3s 3ms/step - loss: 10399.1279 - mae: 10399.1279\n",
            "Epoch 2/5\n",
            "645/645 [==============================] - 2s 4ms/step - loss: 10388.7871 - mae: 10388.7871\n",
            "Epoch 3/5\n",
            "645/645 [==============================] - 2s 3ms/step - loss: 10352.8535 - mae: 10352.8535\n",
            "Epoch 4/5\n",
            "645/645 [==============================] - 2s 3ms/step - loss: 10418.2061 - mae: 10418.2061\n",
            "Epoch 5/5\n",
            "645/645 [==============================] - 2s 3ms/step - loss: 10397.5068 - mae: 10397.5068\n"
          ]
        },
        {
          "output_type": "execute_result",
          "data": {
            "text/plain": [
              "<keras.callbacks.History at 0x7fae7869a090>"
            ]
          },
          "metadata": {},
          "execution_count": 15
        }
      ]
    },
    {
      "cell_type": "code",
      "source": [
        "#Create model\n",
        "model = tf.keras.Sequential([\n",
        "    tf.keras.layers.Dense(50,activation=None),\n",
        "    tf.keras.layers.Dense(1)\n",
        "])\n",
        "#Compile\n",
        "model.compile(loss=tf.keras.losses.MAE,\n",
        "              optimizer=tf.keras.optimizers.Adam(lr=0.01),\n",
        "              metrics=['mae'])\n",
        "#Fit\n",
        "model.fit(tf.expand_dims(X,axis=-1),y,epochs=100)"
      ],
      "metadata": {
        "id": "5vaJJcEqIYBH"
      },
      "execution_count": null,
      "outputs": []
    },
    {
      "cell_type": "code",
      "source": [
        "y_pred = model.predict([17.0])\n",
        "y_pred"
      ],
      "metadata": {
        "colab": {
          "base_uri": "https://localhost:8080/"
        },
        "id": "TqeYcJFucfUv",
        "outputId": "d388643e-a04c-476f-c6d1-7d54fe9b542e"
      },
      "execution_count": null,
      "outputs": [
        {
          "output_type": "execute_result",
          "data": {
            "text/plain": [
              "array([[26.434414]], dtype=float32)"
            ]
          },
          "metadata": {},
          "execution_count": 17
        }
      ]
    },
    {
      "cell_type": "code",
      "source": [
        "#Create model\n",
        "model = tf.keras.Sequential([\n",
        "    tf.keras.layers.Dense(50,activation=None),\n",
        "    tf.keras.layers.Dense(1)\n",
        "])\n",
        "#Compile\n",
        "model.compile(loss=tf.keras.losses.MAE,\n",
        "              optimizer=tf.keras.optimizers.Adam(learning_rate=0.01),\n",
        "              metrics=['mae'])\n",
        "#Fit\n",
        "model.fit(bostonX,bostony,epochs=5)"
      ],
      "metadata": {
        "colab": {
          "base_uri": "https://localhost:8080/"
        },
        "id": "cpVKJuYXcmcF",
        "outputId": "1b9094f6-2710-4a1e-9d6e-e4a8704b8bdd"
      },
      "execution_count": null,
      "outputs": [
        {
          "output_type": "stream",
          "name": "stdout",
          "text": [
            "Epoch 1/5\n",
            "645/645 [==============================] - 1s 2ms/step - loss: 20.1462 - mae: 20.1462\n",
            "Epoch 2/5\n",
            "645/645 [==============================] - 1s 2ms/step - loss: 14.0438 - mae: 14.0438\n",
            "Epoch 3/5\n",
            "645/645 [==============================] - 1s 1ms/step - loss: 8.1881 - mae: 8.1881\n",
            "Epoch 4/5\n",
            "645/645 [==============================] - 1s 1ms/step - loss: 4.8252 - mae: 4.8252\n",
            "Epoch 5/5\n",
            "645/645 [==============================] - 1s 1ms/step - loss: 3.1481 - mae: 3.1481\n"
          ]
        },
        {
          "output_type": "execute_result",
          "data": {
            "text/plain": [
              "<keras.callbacks.History at 0x7fae7a139910>"
            ]
          },
          "metadata": {},
          "execution_count": 18
        }
      ]
    },
    {
      "cell_type": "code",
      "source": [
        "X = tf.range(-100,100,4)\n",
        "X"
      ],
      "metadata": {
        "colab": {
          "base_uri": "https://localhost:8080/"
        },
        "id": "eF_cl06-ddyy",
        "outputId": "d4df8dcc-38d6-4803-f5fe-8ff99577f199"
      },
      "execution_count": null,
      "outputs": [
        {
          "output_type": "execute_result",
          "data": {
            "text/plain": [
              "<tf.Tensor: shape=(50,), dtype=int32, numpy=\n",
              "array([-100,  -96,  -92,  -88,  -84,  -80,  -76,  -72,  -68,  -64,  -60,\n",
              "        -56,  -52,  -48,  -44,  -40,  -36,  -32,  -28,  -24,  -20,  -16,\n",
              "        -12,   -8,   -4,    0,    4,    8,   12,   16,   20,   24,   28,\n",
              "         32,   36,   40,   44,   48,   52,   56,   60,   64,   68,   72,\n",
              "         76,   80,   84,   88,   92,   96], dtype=int32)>"
            ]
          },
          "metadata": {},
          "execution_count": 19
        }
      ]
    },
    {
      "cell_type": "code",
      "source": [
        "y = X+10"
      ],
      "metadata": {
        "id": "UH4gtpBweIZ3"
      },
      "execution_count": null,
      "outputs": []
    },
    {
      "cell_type": "code",
      "source": [
        "y"
      ],
      "metadata": {
        "colab": {
          "base_uri": "https://localhost:8080/"
        },
        "id": "XrURVWb5eKvI",
        "outputId": "5056ea24-dcd9-446c-e029-d71d46b89c8c"
      },
      "execution_count": null,
      "outputs": [
        {
          "output_type": "execute_result",
          "data": {
            "text/plain": [
              "<tf.Tensor: shape=(50,), dtype=int32, numpy=\n",
              "array([-90, -86, -82, -78, -74, -70, -66, -62, -58, -54, -50, -46, -42,\n",
              "       -38, -34, -30, -26, -22, -18, -14, -10,  -6,  -2,   2,   6,  10,\n",
              "        14,  18,  22,  26,  30,  34,  38,  42,  46,  50,  54,  58,  62,\n",
              "        66,  70,  74,  78,  82,  86,  90,  94,  98, 102, 106], dtype=int32)>"
            ]
          },
          "metadata": {},
          "execution_count": 21
        }
      ]
    },
    {
      "cell_type": "code",
      "source": [
        "import matplotlib.pyplot as plt\n",
        "plt.scatter(X,y)"
      ],
      "metadata": {
        "colab": {
          "base_uri": "https://localhost:8080/",
          "height": 282
        },
        "id": "kgjiEtU3eLPK",
        "outputId": "aba33e33-c458-421e-b6f9-cb66e59eec13"
      },
      "execution_count": null,
      "outputs": [
        {
          "output_type": "execute_result",
          "data": {
            "text/plain": [
              "<matplotlib.collections.PathCollection at 0x7fae7a08ae10>"
            ]
          },
          "metadata": {},
          "execution_count": 22
        },
        {
          "output_type": "display_data",
          "data": {
            "text/plain": [
              "<Figure size 432x288 with 1 Axes>"
            ],
            "image/png": "[encoded data removed]"
          },
          "metadata": {
            "needs_background": "light"
          }
        }
      ]
    },
    {
      "cell_type": "code",
      "source": [
        "train_X,test_X = X[:40],X[40:]\n",
        "train_y,test_y=y[:40],y[40:]\n",
        "len(train_X),len(train_y)"
      ],
      "metadata": {
        "colab": {
          "base_uri": "https://localhost:8080/"
        },
        "id": "tqu7rrxneUtF",
        "outputId": "666f9781-ae3d-44a6-a965-15104d2d163a"
      },
      "execution_count": null,
      "outputs": [
        {
          "output_type": "execute_result",
          "data": {
            "text/plain": [
              "(40, 40)"
            ]
          },
          "metadata": {},
          "execution_count": 23
        }
      ]
    },
    {
      "cell_type": "code",
      "source": [
        "plt.figure(figsize=(10,7))\n",
        "plt.scatter(train_X, train_y, c='b', label='training_data')\n",
        "plt.scatter(test_X,test_y,c='g', label='testing_data')\n",
        "plt.legend()"
      ],
      "metadata": {
        "colab": {
          "base_uri": "https://localhost:8080/",
          "height": 446
        },
        "id": "4AkoYcRce6Yy",
        "outputId": "7dd9df83-b0f1-4482-8cef-20aac775dfde"
      },
      "execution_count": null,
      "outputs": [
        {
          "output_type": "execute_result",
          "data": {
            "text/plain": [
              "<matplotlib.legend.Legend at 0x7fae79fea790>"
            ]
          },
          "metadata": {},
          "execution_count": 24
        },
        {
          "output_type": "display_data",
          "data": {
            "text/plain": [
              "<Figure size 720x504 with 1 Axes>"
            ],
            "image/png": "[encoded data removed]"
          },
          "metadata": {
            "needs_background": "light"
          }
        }
      ]
    },
    {
      "cell_type": "code",
      "source": [
        "# Create model\n",
        "model= tf.keras.Sequential([\n",
        "    tf.keras.layers.Dense(10, input_shape=[1], name='input-layer'),\n",
        "    tf.keras.layers.Dense(1, name='output-layer')\n",
        "], name='Model1')\n",
        "#Compile\n",
        "model.compile(loss=tf.keras.losses.mae,\n",
        "              optimizer=tf.keras.optimizers.SGD(),\n",
        "              metrics='mae')\n",
        "# Fit\n",
        "model.summary()\n",
        "model.fit(train_X,train_y,epochs=100)"
      ],
      "metadata": {
        "id": "kg_E5VJje86p"
      },
      "execution_count": null,
      "outputs": []
    },
    {
      "cell_type": "code",
      "source": [
        "y_preds = model.predict(test_X)\n",
        "y_preds.T"
      ],
      "metadata": {
        "colab": {
          "base_uri": "https://localhost:8080/"
        },
        "id": "DCNObvTXgbq-",
        "outputId": "46738b76-3a53-41fb-fb3d-e3abe148d3e4"
      },
      "execution_count": null,
      "outputs": [
        {
          "output_type": "execute_result",
          "data": {
            "text/plain": [
              "array([[ 81.55673 ,  86.87887 ,  92.20101 ,  97.523155, 102.84529 ,\n",
              "        108.16743 , 113.489555, 118.81169 , 124.133835, 129.45598 ]],\n",
              "      dtype=float32)"
            ]
          },
          "metadata": {},
          "execution_count": 26
        }
      ]
    },
    {
      "cell_type": "code",
      "source": [
        "from tensorflow.keras.utils import plot_model\n",
        "plot_model(model=model, show_shapes=True)"
      ],
      "metadata": {
        "colab": {
          "base_uri": "https://localhost:8080/",
          "height": 312
        },
        "id": "u_VBUNQol6g6",
        "outputId": "af9f3ff8-42b9-4021-9930-bde46a9d9aa7"
      },
      "execution_count": null,
      "outputs": [
        {
          "output_type": "execute_result",
          "data": {
            "text/plain": [
              "<IPython.core.display.Image object>"
            ],
            "image/png": "[encoded data removed]"
          },
          "metadata": {},
          "execution_count": 27
        }
      ]
    },
    {
      "cell_type": "code",
      "source": [
        "def plot_preds(train_data = train_X,\n",
        "               train_labels = train_y,\n",
        "               test_data = test_X,\n",
        "               test_labels = test_y,\n",
        "               predictions = y_preds):\n",
        "  '''\n",
        "  Plot predictions\n",
        "  '''\n",
        "  plt.figure(figsize=(10,7))\n",
        "  plt.scatter(train_data,train_labels,c='b', label='training_Data')\n",
        "  plt.scatter(test_data,test_labels,c='g',label='testing data')\n",
        "  print(len(test_data),len(predictions))\n",
        "  plt.scatter(test_data,predictions,c='r',label='Predictions')\n",
        "  plt.legend()"
      ],
      "metadata": {
        "id": "t2kF4z-OmMPT"
      },
      "execution_count": null,
      "outputs": []
    },
    {
      "cell_type": "code",
      "source": [
        "plot_preds()"
      ],
      "metadata": {
        "colab": {
          "base_uri": "https://localhost:8080/",
          "height": 446
        },
        "id": "-fEnGPiFoGDn",
        "outputId": "f92144c6-a3cf-44b0-95a9-c2a60e155f5e"
      },
      "execution_count": null,
      "outputs": [
        {
          "output_type": "stream",
          "name": "stdout",
          "text": [
            "10 10\n"
          ]
        },
        {
          "output_type": "display_data",
          "data": {
            "text/plain": [
              "<Figure size 720x504 with 1 Axes>"
            ],
            "image/png": "[encoded data removed]"
          },
          "metadata": {
            "needs_background": "light"
          }
        }
      ]
    },
    {
      "cell_type": "code",
      "source": [
        "model.evaluate(test_X,test_y)"
      ],
      "metadata": {
        "colab": {
          "base_uri": "https://localhost:8080/"
        },
        "id": "Nj2L6bm-oQ2D",
        "outputId": "8424d084-8b4c-43d1-a2a6-79723c67412d"
      },
      "execution_count": null,
      "outputs": [
        {
          "output_type": "stream",
          "name": "stdout",
          "text": [
            "1/1 [==============================] - 0s 155ms/step - loss: 17.5064 - mae: 17.5064\n"
          ]
        },
        {
          "output_type": "execute_result",
          "data": {
            "text/plain": [
              "[17.506357192993164, 17.506357192993164]"
            ]
          },
          "metadata": {},
          "execution_count": 30
        }
      ]
    },
    {
      "cell_type": "code",
      "source": [
        "mae=tf.metrics.mean_absolute_error(y_true=test_y,y_pred = tf.constant(y_preds.squeeze()))"
      ],
      "metadata": {
        "id": "zDV8EFdNpcSV"
      },
      "execution_count": null,
      "outputs": []
    },
    {
      "cell_type": "code",
      "source": [
        "mae"
      ],
      "metadata": {
        "colab": {
          "base_uri": "https://localhost:8080/"
        },
        "id": "aMjoyaTOpycg",
        "outputId": "0a30cbc5-59fd-4be8-a2c8-adb67df9b761"
      },
      "execution_count": null,
      "outputs": [
        {
          "output_type": "execute_result",
          "data": {
            "text/plain": [
              "<tf.Tensor: shape=(), dtype=float32, numpy=17.506353>"
            ]
          },
          "metadata": {},
          "execution_count": 32
        }
      ]
    },
    {
      "cell_type": "code",
      "source": [
        "mse = tf.metrics.mean_squared_error(y_true=test_y,y_pred=tf.constant(y_preds.squeeze()))"
      ],
      "metadata": {
        "id": "u8RGcnpEqV1u"
      },
      "execution_count": null,
      "outputs": []
    },
    {
      "cell_type": "code",
      "source": [
        "mse"
      ],
      "metadata": {
        "colab": {
          "base_uri": "https://localhost:8080/"
        },
        "id": "YAuF9d1Wq0-M",
        "outputId": "b7fe3fd1-e13f-4524-ee90-0d81c9698b0a"
      },
      "execution_count": null,
      "outputs": [
        {
          "output_type": "execute_result",
          "data": {
            "text/plain": [
              "<tf.Tensor: shape=(), dtype=float32, numpy=320.89386>"
            ]
          },
          "metadata": {},
          "execution_count": 34
        }
      ]
    },
    {
      "cell_type": "code",
      "source": [
        "def mae_mse(y_true,y_pred,flag=0):\n",
        "  if flag==0:\n",
        "    return tf.metrics.mean_absolute_error(y_true=y_true,\n",
        "                                        y_pred=tf.squeeze(y_pred))\n",
        "  return tf.metrics.mean_squared_error(y_true=y_true,\n",
        "                                        y_pred=tf.squeeze(y_pred))"
      ],
      "metadata": {
        "id": "cV2iiLz6q3LR"
      },
      "execution_count": null,
      "outputs": []
    },
    {
      "cell_type": "code",
      "source": [
        "from sklearn.model_selection import train_test_split\n",
        "X_train, X_test, y_train, y_test = train_test_split(bostonX,bostony,train_size=0.2,\n",
        "                                                    test_size=0.05,shuffle=True,\n",
        "                                                    random_state=42)"
      ],
      "metadata": {
        "id": "Rf3BwIwttJTy"
      },
      "execution_count": null,
      "outputs": []
    },
    {
      "cell_type": "code",
      "source": [
        "X_train.shape,X_test.shape,y_train.shape,y_test.shape"
      ],
      "metadata": {
        "colab": {
          "base_uri": "https://localhost:8080/"
        },
        "id": "Rs0YyXEE0lrW",
        "outputId": "a54c562d-e110-4671-8750-44e3476201c6"
      },
      "execution_count": null,
      "outputs": [
        {
          "output_type": "execute_result",
          "data": {
            "text/plain": [
              "((4128, 8), (1032, 8), (4128,), (1032,))"
            ]
          },
          "metadata": {},
          "execution_count": 37
        }
      ]
    },
    {
      "cell_type": "code",
      "source": [
        "X_train.size,X_test.size,y_train.size,y_test.size"
      ],
      "metadata": {
        "colab": {
          "base_uri": "https://localhost:8080/"
        },
        "id": "Hsm94g8W4Wxx",
        "outputId": "b3f980d8-97b1-4d54-f22f-1349d053192f"
      },
      "execution_count": null,
      "outputs": [
        {
          "output_type": "execute_result",
          "data": {
            "text/plain": [
              "(33024, 8256, 4128, 1032)"
            ]
          },
          "metadata": {},
          "execution_count": 38
        }
      ]
    },
    {
      "cell_type": "code",
      "source": [
        "X_train,X_test,y_train,y_test = tf.convert_to_tensor(X_train),tf.convert_to_tensor(X_test),\\\n",
        "tf.convert_to_tensor(y_train),tf.convert_to_tensor(y_test)"
      ],
      "metadata": {
        "id": "o9odsjzFb41l"
      },
      "execution_count": null,
      "outputs": []
    },
    {
      "cell_type": "code",
      "source": [
        "type(X_train),type(y_train)"
      ],
      "metadata": {
        "colab": {
          "base_uri": "https://localhost:8080/"
        },
        "id": "olMmGY_9cX9R",
        "outputId": "8349a0ee-c06f-4e08-ed9b-a564dcfd12e6"
      },
      "execution_count": null,
      "outputs": [
        {
          "output_type": "execute_result",
          "data": {
            "text/plain": [
              "(tensorflow.python.framework.ops.EagerTensor,\n",
              " tensorflow.python.framework.ops.EagerTensor)"
            ]
          },
          "metadata": {},
          "execution_count": 40
        }
      ]
    },
    {
      "cell_type": "code",
      "source": [
        "# Set seed\n",
        "tf.random.set_seed(42)\n",
        "# model1\n",
        "model1 = tf.keras.Sequential([\n",
        "  tf.keras.layers.Dense(1)\n",
        "])\n",
        "# Compile\n",
        "model1.compile(loss=tf.keras.losses.mae,\n",
        "              optimizer=tf.keras.optimizers.SGD(),\n",
        "              metrics=['mae'])\n",
        "# fit\n",
        "model1.fit(X_train,y_train,epochs=100)"
      ],
      "metadata": {
        "id": "r_deRtgZrUdS",
        "colab": {
          "base_uri": "https://localhost:8080/",
          "height": 588
        },
        "outputId": "d4bb1814-8e77-4b6e-a0f5-b903fd55cf4d"
      },
      "execution_count": null,
      "outputs": [
        {
          "output_type": "stream",
          "name": "stdout",
          "text": [
            "Epoch 1/100\n",
            "129/129 [==============================] - 0s 1ms/step - loss: 10396.5420 - mae: 10396.5420\n",
            "Epoch 2/100\n",
            "129/129 [==============================] - 0s 2ms/step - loss: 10339.1934 - mae: 10339.1934\n",
            "Epoch 3/100\n",
            "129/129 [==============================] - 0s 1ms/step - loss: 10340.1299 - mae: 10340.1299\n",
            "Epoch 4/100\n",
            "129/129 [==============================] - 0s 1ms/step - loss: 10423.2139 - mae: 10423.2139\n",
            "Epoch 5/100\n",
            "129/129 [==============================] - 0s 1ms/step - loss: 10384.6328 - mae: 10384.6328\n",
            "Epoch 6/100\n",
            "129/129 [==============================] - 0s 1ms/step - loss: 10389.7334 - mae: 10389.7334\n",
            "Epoch 7/100\n",
            "  1/129 [..............................] - ETA: 0s - loss: 284.7289 - mae: 284.7289"
          ]
        },
        {
          "output_type": "error",
          "ename": "KeyboardInterrupt",
          "evalue": "ignored",
          "traceback": [
            "\u001b[0;31m---------------------------------------------------------------------------\u001b[0m",
            "\u001b[0;31mKeyboardInterrupt\u001b[0m                         Traceback (most recent call last)",
            "\u001b[0;32m<ipython-input-41-632612c78f04>\u001b[0m in \u001b[0;36m<module>\u001b[0;34m()\u001b[0m\n\u001b[1;32m     10\u001b[0m               metrics=['mae'])\n\u001b[1;32m     11\u001b[0m \u001b[0;31m# fit\u001b[0m\u001b[0;34m\u001b[0m\u001b[0;34m\u001b[0m\u001b[0;34m\u001b[0m\u001b[0m\n\u001b[0;32m---> 12\u001b[0;31m \u001b[0mmodel1\u001b[0m\u001b[0;34m.\u001b[0m\u001b[0mfit\u001b[0m\u001b[0;34m(\u001b[0m\u001b[0mX_train\u001b[0m\u001b[0;34m,\u001b[0m\u001b[0my_train\u001b[0m\u001b[0;34m,\u001b[0m\u001b[0mepochs\u001b[0m\u001b[0;34m=\u001b[0m\u001b[0;36m100\u001b[0m\u001b[0;34m)\u001b[0m\u001b[0;34m\u001b[0m\u001b[0;34m\u001b[0m\u001b[0m\n\u001b[0m",
            "\u001b[0;32m/usr/local/lib/python3.7/dist-packages/keras/utils/traceback_utils.py\u001b[0m in \u001b[0;36merror_handler\u001b[0;34m(*args, **kwargs)\u001b[0m\n\u001b[1;32m     62\u001b[0m     \u001b[0mfiltered_tb\u001b[0m \u001b[0;34m=\u001b[0m \u001b[0;32mNone\u001b[0m\u001b[0;34m\u001b[0m\u001b[0;34m\u001b[0m\u001b[0m\n\u001b[1;32m     63\u001b[0m     \u001b[0;32mtry\u001b[0m\u001b[0;34m:\u001b[0m\u001b[0;34m\u001b[0m\u001b[0;34m\u001b[0m\u001b[0m\n\u001b[0;32m---> 64\u001b[0;31m       \u001b[0;32mreturn\u001b[0m \u001b[0mfn\u001b[0m\u001b[0;34m(\u001b[0m\u001b[0;34m*\u001b[0m\u001b[0margs\u001b[0m\u001b[0;34m,\u001b[0m \u001b[0;34m**\u001b[0m\u001b[0mkwargs\u001b[0m\u001b[0;34m)\u001b[0m\u001b[0;34m\u001b[0m\u001b[0;34m\u001b[0m\u001b[0m\n\u001b[0m\u001b[1;32m     65\u001b[0m     \u001b[0;32mexcept\u001b[0m \u001b[0mException\u001b[0m \u001b[0;32mas\u001b[0m \u001b[0me\u001b[0m\u001b[0;34m:\u001b[0m  \u001b[0;31m# pylint: disable=broad-except\u001b[0m\u001b[0;34m\u001b[0m\u001b[0;34m\u001b[0m\u001b[0m\n\u001b[1;32m     66\u001b[0m       \u001b[0mfiltered_tb\u001b[0m \u001b[0;34m=\u001b[0m \u001b[0m_process_traceback_frames\u001b[0m\u001b[0;34m(\u001b[0m\u001b[0me\u001b[0m\u001b[0;34m.\u001b[0m\u001b[0m__traceback__\u001b[0m\u001b[0;34m)\u001b[0m\u001b[0;34m\u001b[0m\u001b[0;34m\u001b[0m\u001b[0m\n",
            "\u001b[0;32m/usr/local/lib/python3.7/dist-packages/keras/engine/training.py\u001b[0m in \u001b[0;36mfit\u001b[0;34m(self, x, y, batch_size, epochs, verbose, callbacks, validation_split, validation_data, shuffle, class_weight, sample_weight, initial_epoch, steps_per_epoch, validation_steps, validation_batch_size, validation_freq, max_queue_size, workers, use_multiprocessing)\u001b[0m\n\u001b[1;32m   1382\u001b[0m                 _r=1):\n\u001b[1;32m   1383\u001b[0m               \u001b[0mcallbacks\u001b[0m\u001b[0;34m.\u001b[0m\u001b[0mon_train_batch_begin\u001b[0m\u001b[0;34m(\u001b[0m\u001b[0mstep\u001b[0m\u001b[0;34m)\u001b[0m\u001b[0;34m\u001b[0m\u001b[0;34m\u001b[0m\u001b[0m\n\u001b[0;32m-> 1384\u001b[0;31m               \u001b[0mtmp_logs\u001b[0m \u001b[0;34m=\u001b[0m \u001b[0mself\u001b[0m\u001b[0;34m.\u001b[0m\u001b[0mtrain_function\u001b[0m\u001b[0;34m(\u001b[0m\u001b[0miterator\u001b[0m\u001b[0;34m)\u001b[0m\u001b[0;34m\u001b[0m\u001b[0;34m\u001b[0m\u001b[0m\n\u001b[0m\u001b[1;32m   1385\u001b[0m               \u001b[0;32mif\u001b[0m \u001b[0mdata_handler\u001b[0m\u001b[0;34m.\u001b[0m\u001b[0mshould_sync\u001b[0m\u001b[0;34m:\u001b[0m\u001b[0;34m\u001b[0m\u001b[0;34m\u001b[0m\u001b[0m\n\u001b[1;32m   1386\u001b[0m                 \u001b[0mcontext\u001b[0m\u001b[0;34m.\u001b[0m\u001b[0masync_wait\u001b[0m\u001b[0;34m(\u001b[0m\u001b[0;34m)\u001b[0m\u001b[0;34m\u001b[0m\u001b[0;34m\u001b[0m\u001b[0m\n",
            "\u001b[0;32m/usr/local/lib/python3.7/dist-packages/tensorflow/python/util/traceback_utils.py\u001b[0m in \u001b[0;36merror_handler\u001b[0;34m(*args, **kwargs)\u001b[0m\n\u001b[1;32m    148\u001b[0m     \u001b[0mfiltered_tb\u001b[0m \u001b[0;34m=\u001b[0m \u001b[0;32mNone\u001b[0m\u001b[0;34m\u001b[0m\u001b[0;34m\u001b[0m\u001b[0m\n\u001b[1;32m    149\u001b[0m     \u001b[0;32mtry\u001b[0m\u001b[0;34m:\u001b[0m\u001b[0;34m\u001b[0m\u001b[0;34m\u001b[0m\u001b[0m\n\u001b[0;32m--> 150\u001b[0;31m       \u001b[0;32mreturn\u001b[0m \u001b[0mfn\u001b[0m\u001b[0;34m(\u001b[0m\u001b[0;34m*\u001b[0m\u001b[0margs\u001b[0m\u001b[0;34m,\u001b[0m \u001b[0;34m**\u001b[0m\u001b[0mkwargs\u001b[0m\u001b[0;34m)\u001b[0m\u001b[0;34m\u001b[0m\u001b[0;34m\u001b[0m\u001b[0m\n\u001b[0m\u001b[1;32m    151\u001b[0m     \u001b[0;32mexcept\u001b[0m \u001b[0mException\u001b[0m \u001b[0;32mas\u001b[0m \u001b[0me\u001b[0m\u001b[0;34m:\u001b[0m\u001b[0;34m\u001b[0m\u001b[0;34m\u001b[0m\u001b[0m\n\u001b[1;32m    152\u001b[0m       \u001b[0mfiltered_tb\u001b[0m \u001b[0;34m=\u001b[0m \u001b[0m_process_traceback_frames\u001b[0m\u001b[0;34m(\u001b[0m\u001b[0me\u001b[0m\u001b[0;34m.\u001b[0m\u001b[0m__traceback__\u001b[0m\u001b[0;34m)\u001b[0m\u001b[0;34m\u001b[0m\u001b[0;34m\u001b[0m\u001b[0m\n",
            "\u001b[0;32m/usr/local/lib/python3.7/dist-packages/tensorflow/python/eager/def_function.py\u001b[0m in \u001b[0;36m__call__\u001b[0;34m(self, *args, **kwds)\u001b[0m\n\u001b[1;32m    913\u001b[0m \u001b[0;34m\u001b[0m\u001b[0m\n\u001b[1;32m    914\u001b[0m       \u001b[0;32mwith\u001b[0m \u001b[0mOptionalXlaContext\u001b[0m\u001b[0;34m(\u001b[0m\u001b[0mself\u001b[0m\u001b[0;34m.\u001b[0m\u001b[0m_jit_compile\u001b[0m\u001b[0;34m)\u001b[0m\u001b[0;34m:\u001b[0m\u001b[0;34m\u001b[0m\u001b[0;34m\u001b[0m\u001b[0m\n\u001b[0;32m--> 915\u001b[0;31m         \u001b[0mresult\u001b[0m \u001b[0;34m=\u001b[0m \u001b[0mself\u001b[0m\u001b[0;34m.\u001b[0m\u001b[0m_call\u001b[0m\u001b[0;34m(\u001b[0m\u001b[0;34m*\u001b[0m\u001b[0margs\u001b[0m\u001b[0;34m,\u001b[0m \u001b[0;34m**\u001b[0m\u001b[0mkwds\u001b[0m\u001b[0;34m)\u001b[0m\u001b[0;34m\u001b[0m\u001b[0;34m\u001b[0m\u001b[0m\n\u001b[0m\u001b[1;32m    916\u001b[0m \u001b[0;34m\u001b[0m\u001b[0m\n\u001b[1;32m    917\u001b[0m       \u001b[0mnew_tracing_count\u001b[0m \u001b[0;34m=\u001b[0m \u001b[0mself\u001b[0m\u001b[0;34m.\u001b[0m\u001b[0mexperimental_get_tracing_count\u001b[0m\u001b[0;34m(\u001b[0m\u001b[0;34m)\u001b[0m\u001b[0;34m\u001b[0m\u001b[0;34m\u001b[0m\u001b[0m\n",
            "\u001b[0;32m/usr/local/lib/python3.7/dist-packages/tensorflow/python/eager/def_function.py\u001b[0m in \u001b[0;36m_call\u001b[0;34m(self, *args, **kwds)\u001b[0m\n\u001b[1;32m    945\u001b[0m       \u001b[0;31m# In this case we have created variables on the first call, so we run the\u001b[0m\u001b[0;34m\u001b[0m\u001b[0;34m\u001b[0m\u001b[0;34m\u001b[0m\u001b[0m\n\u001b[1;32m    946\u001b[0m       \u001b[0;31m# defunned version which is guaranteed to never create variables.\u001b[0m\u001b[0;34m\u001b[0m\u001b[0;34m\u001b[0m\u001b[0;34m\u001b[0m\u001b[0m\n\u001b[0;32m--> 947\u001b[0;31m       \u001b[0;32mreturn\u001b[0m \u001b[0mself\u001b[0m\u001b[0;34m.\u001b[0m\u001b[0m_stateless_fn\u001b[0m\u001b[0;34m(\u001b[0m\u001b[0;34m*\u001b[0m\u001b[0margs\u001b[0m\u001b[0;34m,\u001b[0m \u001b[0;34m**\u001b[0m\u001b[0mkwds\u001b[0m\u001b[0;34m)\u001b[0m  \u001b[0;31m# pylint: disable=not-callable\u001b[0m\u001b[0;34m\u001b[0m\u001b[0;34m\u001b[0m\u001b[0m\n\u001b[0m\u001b[1;32m    948\u001b[0m     \u001b[0;32melif\u001b[0m \u001b[0mself\u001b[0m\u001b[0;34m.\u001b[0m\u001b[0m_stateful_fn\u001b[0m \u001b[0;32mis\u001b[0m \u001b[0;32mnot\u001b[0m \u001b[0;32mNone\u001b[0m\u001b[0;34m:\u001b[0m\u001b[0;34m\u001b[0m\u001b[0;34m\u001b[0m\u001b[0m\n\u001b[1;32m    949\u001b[0m       \u001b[0;31m# Release the lock early so that multiple threads can perform the call\u001b[0m\u001b[0;34m\u001b[0m\u001b[0;34m\u001b[0m\u001b[0;34m\u001b[0m\u001b[0m\n",
            "\u001b[0;32m/usr/local/lib/python3.7/dist-packages/tensorflow/python/eager/function.py\u001b[0m in \u001b[0;36m__call__\u001b[0;34m(self, *args, **kwargs)\u001b[0m\n\u001b[1;32m   2955\u001b[0m        filtered_flat_args) = self._maybe_define_function(args, kwargs)\n\u001b[1;32m   2956\u001b[0m     return graph_function._call_flat(\n\u001b[0;32m-> 2957\u001b[0;31m         filtered_flat_args, captured_inputs=graph_function.captured_inputs)  # pylint: disable=protected-access\n\u001b[0m\u001b[1;32m   2958\u001b[0m \u001b[0;34m\u001b[0m\u001b[0m\n\u001b[1;32m   2959\u001b[0m   \u001b[0;34m@\u001b[0m\u001b[0mproperty\u001b[0m\u001b[0;34m\u001b[0m\u001b[0;34m\u001b[0m\u001b[0m\n",
            "\u001b[0;32m/usr/local/lib/python3.7/dist-packages/tensorflow/python/eager/function.py\u001b[0m in \u001b[0;36m_call_flat\u001b[0;34m(self, args, captured_inputs, cancellation_manager)\u001b[0m\n\u001b[1;32m   1852\u001b[0m       \u001b[0;31m# No tape is watching; skip to running the function.\u001b[0m\u001b[0;34m\u001b[0m\u001b[0;34m\u001b[0m\u001b[0;34m\u001b[0m\u001b[0m\n\u001b[1;32m   1853\u001b[0m       return self._build_call_outputs(self._inference_function.call(\n\u001b[0;32m-> 1854\u001b[0;31m           ctx, args, cancellation_manager=cancellation_manager))\n\u001b[0m\u001b[1;32m   1855\u001b[0m     forward_backward = self._select_forward_and_backward_functions(\n\u001b[1;32m   1856\u001b[0m         \u001b[0margs\u001b[0m\u001b[0;34m,\u001b[0m\u001b[0;34m\u001b[0m\u001b[0;34m\u001b[0m\u001b[0m\n",
            "\u001b[0;32m/usr/local/lib/python3.7/dist-packages/tensorflow/python/eager/function.py\u001b[0m in \u001b[0;36mcall\u001b[0;34m(self, ctx, args, cancellation_manager)\u001b[0m\n\u001b[1;32m    485\u001b[0m       \u001b[0;32mraise\u001b[0m \u001b[0mFunctionAlreadyGarbageCollectedError\u001b[0m\u001b[0;34m(\u001b[0m\u001b[0mself\u001b[0m\u001b[0;34m.\u001b[0m\u001b[0mname\u001b[0m\u001b[0;34m)\u001b[0m\u001b[0;34m\u001b[0m\u001b[0;34m\u001b[0m\u001b[0m\n\u001b[1;32m    486\u001b[0m \u001b[0;34m\u001b[0m\u001b[0m\n\u001b[0;32m--> 487\u001b[0;31m     \u001b[0mfunction_call_options\u001b[0m \u001b[0;34m=\u001b[0m \u001b[0mctx\u001b[0m\u001b[0;34m.\u001b[0m\u001b[0mfunction_call_options\u001b[0m\u001b[0;34m\u001b[0m\u001b[0;34m\u001b[0m\u001b[0m\n\u001b[0m\u001b[1;32m    488\u001b[0m     \u001b[0;32mif\u001b[0m \u001b[0mfunction_call_options\u001b[0m\u001b[0;34m.\u001b[0m\u001b[0mconfig_proto_serialized\u001b[0m \u001b[0;32mis\u001b[0m \u001b[0;32mNone\u001b[0m\u001b[0;34m:\u001b[0m\u001b[0;34m\u001b[0m\u001b[0;34m\u001b[0m\u001b[0m\n\u001b[1;32m    489\u001b[0m       \u001b[0mconfig\u001b[0m \u001b[0;34m=\u001b[0m \u001b[0mfunction_utils\u001b[0m\u001b[0;34m.\u001b[0m\u001b[0mget_disabled_rewriter_config\u001b[0m\u001b[0;34m(\u001b[0m\u001b[0;34m)\u001b[0m\u001b[0;34m\u001b[0m\u001b[0;34m\u001b[0m\u001b[0m\n",
            "\u001b[0;32m/usr/local/lib/python3.7/dist-packages/tensorflow/python/eager/context.py\u001b[0m in \u001b[0;36mfunction_call_options\u001b[0;34m(self)\u001b[0m\n\u001b[1;32m   1209\u001b[0m     \u001b[0mReturns\u001b[0m\u001b[0;34m:\u001b[0m \u001b[0mthe\u001b[0m \u001b[0mFunctionCallOptions\u001b[0m \u001b[0;32mfor\u001b[0m \u001b[0mcurrent\u001b[0m \u001b[0mthread\u001b[0m\u001b[0;34m.\u001b[0m\u001b[0;34m\u001b[0m\u001b[0;34m\u001b[0m\u001b[0m\n\u001b[1;32m   1210\u001b[0m     \"\"\"\n\u001b[0;32m-> 1211\u001b[0;31m     \u001b[0;32mif\u001b[0m \u001b[0mself\u001b[0m\u001b[0;34m.\u001b[0m\u001b[0m_thread_local_data\u001b[0m\u001b[0;34m.\u001b[0m\u001b[0mfunction_call_options\u001b[0m \u001b[0;32mis\u001b[0m \u001b[0;32mNone\u001b[0m\u001b[0;34m:\u001b[0m\u001b[0;34m\u001b[0m\u001b[0;34m\u001b[0m\u001b[0m\n\u001b[0m\u001b[1;32m   1212\u001b[0m       \u001b[0mconfig\u001b[0m \u001b[0;34m=\u001b[0m \u001b[0mself\u001b[0m\u001b[0;34m.\u001b[0m\u001b[0mconfig\u001b[0m\u001b[0;34m\u001b[0m\u001b[0;34m\u001b[0m\u001b[0m\n\u001b[1;32m   1213\u001b[0m \u001b[0;34m\u001b[0m\u001b[0m\n",
            "\u001b[0;31mKeyboardInterrupt\u001b[0m: "
          ]
        }
      ]
    },
    {
      "cell_type": "code",
      "source": [
        "def plot_boston(predictions):\n",
        "  plt.figure(figsize=(10,7))\n",
        "  plt.scatter(X_train[:,0],y_train,c='b', label='training_Data')\n",
        "  plt.scatter(X_test[:,0],y_test,c='g',label='testing data')\n",
        "  plt.scatter(X_test[:,0],predictions,c='r',label='Predictions')\n",
        "  plt.legend()"
      ],
      "metadata": {
        "id": "AgtITO9sey9z"
      },
      "execution_count": null,
      "outputs": []
    },
    {
      "cell_type": "code",
      "source": [
        "#predictions\n",
        "y_preds1 = model1.predict(X_test)\n",
        "plt.figure(figsize=(10,7))\n",
        "plt.scatter(X_train[:,0],y_train,c='b', label='training_Data')\n",
        "plt.scatter(X_test[:,0],y_test,c='g',label='testing data')\n",
        "plt.scatter(X_test[:,0],y_preds1,c='r',label='Predictions')\n",
        "plt.legend()"
      ],
      "metadata": {
        "id": "se8_YOOqsQ2c"
      },
      "execution_count": null,
      "outputs": []
    },
    {
      "cell_type": "code",
      "source": [
        "type(tf.squeeze(y_preds1))"
      ],
      "metadata": {
        "id": "IQSsQOuEdYJp"
      },
      "execution_count": null,
      "outputs": []
    },
    {
      "cell_type": "code",
      "source": [
        "mae_mse(y_test,y_preds1)"
      ],
      "metadata": {
        "id": "4futvnSysTW9"
      },
      "execution_count": null,
      "outputs": []
    },
    {
      "cell_type": "code",
      "source": [
        "mae_mse(y_test,y_preds1,1)"
      ],
      "metadata": {
        "id": "sBJEdllm2gHn"
      },
      "execution_count": null,
      "outputs": []
    },
    {
      "cell_type": "code",
      "source": [
        "# Set seed\n",
        "tf.random.set_seed(42)\n",
        "#model\n",
        "model2 = tf.keras.Sequential([\n",
        "  tf.keras.layers.Dense(10),\n",
        "  tf.keras.layers.Dense(1)\n",
        "])\n",
        "# Compile\n",
        "model2.compile(loss=tf.keras.losses.mae,\n",
        "               optimizer=tf.keras.optimizers.SGD(learning_rate=0.001,),\n",
        "               metrics=['mse'])\n",
        "# Fit\n",
        "model2.fit(X_train,y_train,epochs=100)"
      ],
      "metadata": {
        "id": "zVV4XfpE2wgw",
        "colab": {
          "base_uri": "https://localhost:8080/"
        },
        "outputId": "37fd9ad9-830a-4613-959f-5bd2f29257f1"
      },
      "execution_count": null,
      "outputs": [
        {
          "output_type": "stream",
          "name": "stdout",
          "text": [
            "Epoch 1/100\n",
            "129/129 [==============================] - 2s 4ms/step - loss: 45.8726 - mse: 92197.5078\n",
            "Epoch 2/100\n",
            "129/129 [==============================] - 0s 2ms/step - loss: 2.3347 - mse: 14.4908\n",
            "Epoch 3/100\n",
            "129/129 [==============================] - 0s 1ms/step - loss: 2.3676 - mse: 12.2928\n",
            "Epoch 4/100\n",
            "129/129 [==============================] - 0s 2ms/step - loss: 1.9188 - mse: 10.0446\n",
            "Epoch 5/100\n",
            "129/129 [==============================] - 0s 1ms/step - loss: 1.7901 - mse: 5.9754\n",
            "Epoch 6/100\n",
            "129/129 [==============================] - 0s 1ms/step - loss: 1.7220 - mse: 5.3034\n",
            "Epoch 7/100\n",
            "129/129 [==============================] - 0s 2ms/step - loss: 1.8771 - mse: 8.8532\n",
            "Epoch 8/100\n",
            "129/129 [==============================] - 0s 2ms/step - loss: 1.8340 - mse: 9.3789\n",
            "Epoch 9/100\n",
            "129/129 [==============================] - 0s 2ms/step - loss: 1.5953 - mse: 5.3238\n",
            "Epoch 10/100\n",
            "129/129 [==============================] - 0s 1ms/step - loss: 1.4565 - mse: 3.6832\n",
            "Epoch 11/100\n",
            "129/129 [==============================] - 0s 1ms/step - loss: 1.5305 - mse: 4.3036\n",
            "Epoch 12/100\n",
            "129/129 [==============================] - 0s 1ms/step - loss: 1.4186 - mse: 3.8664\n",
            "Epoch 13/100\n",
            "129/129 [==============================] - 0s 1ms/step - loss: 3.5891 - mse: 124.2681\n",
            "Epoch 14/100\n",
            "129/129 [==============================] - 0s 1ms/step - loss: 1.3379 - mse: 3.2112\n",
            "Epoch 15/100\n",
            "129/129 [==============================] - 0s 1ms/step - loss: 1.2399 - mse: 2.6933\n",
            "Epoch 16/100\n",
            "129/129 [==============================] - 0s 2ms/step - loss: 1.2974 - mse: 3.0385\n",
            "Epoch 17/100\n",
            "129/129 [==============================] - 0s 1ms/step - loss: 1.2395 - mse: 2.8587\n",
            "Epoch 18/100\n",
            "129/129 [==============================] - 0s 1ms/step - loss: 1.1746 - mse: 2.4101\n",
            "Epoch 19/100\n",
            "129/129 [==============================] - 0s 1ms/step - loss: 1.1430 - mse: 2.3034\n",
            "Epoch 20/100\n",
            "129/129 [==============================] - 0s 2ms/step - loss: 1.1114 - mse: 2.1826\n",
            "Epoch 21/100\n",
            "129/129 [==============================] - 0s 1ms/step - loss: 1.0860 - mse: 2.1671\n",
            "Epoch 22/100\n",
            "129/129 [==============================] - 0s 2ms/step - loss: 1.0727 - mse: 2.0529\n",
            "Epoch 23/100\n",
            "129/129 [==============================] - 0s 2ms/step - loss: 1.0652 - mse: 2.0648\n",
            "Epoch 24/100\n",
            "129/129 [==============================] - 0s 2ms/step - loss: 1.0466 - mse: 1.9255\n",
            "Epoch 25/100\n",
            "129/129 [==============================] - 0s 2ms/step - loss: 1.0480 - mse: 2.0404\n",
            "Epoch 26/100\n",
            "129/129 [==============================] - 0s 1ms/step - loss: 1.0843 - mse: 2.1287\n",
            "Epoch 27/100\n",
            "129/129 [==============================] - 0s 1ms/step - loss: 1.0246 - mse: 1.8778\n",
            "Epoch 28/100\n",
            "129/129 [==============================] - 0s 1ms/step - loss: 1.0099 - mse: 1.8698\n",
            "Epoch 29/100\n",
            "129/129 [==============================] - 0s 1ms/step - loss: 1.0089 - mse: 1.8337\n",
            "Epoch 30/100\n",
            "129/129 [==============================] - 0s 1ms/step - loss: 1.0798 - mse: 2.1831\n",
            "Epoch 31/100\n",
            "129/129 [==============================] - 0s 1ms/step - loss: 0.9540 - mse: 1.6183\n",
            "Epoch 32/100\n",
            "129/129 [==============================] - 0s 1ms/step - loss: 0.9746 - mse: 1.7233\n",
            "Epoch 33/100\n",
            "129/129 [==============================] - 0s 1ms/step - loss: 0.9710 - mse: 1.6825\n",
            "Epoch 34/100\n",
            "129/129 [==============================] - 0s 2ms/step - loss: 0.9825 - mse: 1.7945\n",
            "Epoch 35/100\n",
            "129/129 [==============================] - 0s 2ms/step - loss: 0.9537 - mse: 1.6232\n",
            "Epoch 36/100\n",
            "129/129 [==============================] - 0s 2ms/step - loss: 0.9622 - mse: 1.6504\n",
            "Epoch 37/100\n",
            "129/129 [==============================] - 0s 1ms/step - loss: 0.9458 - mse: 1.5891\n",
            "Epoch 38/100\n",
            "129/129 [==============================] - 0s 1ms/step - loss: 0.9561 - mse: 1.6408\n",
            "Epoch 39/100\n",
            "129/129 [==============================] - 0s 1ms/step - loss: 0.9211 - mse: 1.5208\n",
            "Epoch 40/100\n",
            "129/129 [==============================] - 0s 2ms/step - loss: 0.9572 - mse: 1.6476\n",
            "Epoch 41/100\n",
            "129/129 [==============================] - 0s 1ms/step - loss: 0.9408 - mse: 1.6063\n",
            "Epoch 42/100\n",
            "129/129 [==============================] - 0s 1ms/step - loss: 0.9251 - mse: 1.5710\n",
            "Epoch 43/100\n",
            "129/129 [==============================] - 0s 1ms/step - loss: 0.9432 - mse: 1.6047\n",
            "Epoch 44/100\n",
            "129/129 [==============================] - 0s 1ms/step - loss: 0.9253 - mse: 1.5430\n",
            "Epoch 45/100\n",
            "129/129 [==============================] - 0s 1ms/step - loss: 0.9384 - mse: 1.5826\n",
            "Epoch 46/100\n",
            "129/129 [==============================] - 0s 1ms/step - loss: 0.9333 - mse: 1.5722\n",
            "Epoch 47/100\n",
            "129/129 [==============================] - 0s 1ms/step - loss: 0.9076 - mse: 1.4550\n",
            "Epoch 48/100\n",
            "129/129 [==============================] - 0s 1ms/step - loss: 0.9219 - mse: 1.5379\n",
            "Epoch 49/100\n",
            "129/129 [==============================] - 0s 1ms/step - loss: 0.9390 - mse: 1.5941\n",
            "Epoch 50/100\n",
            "129/129 [==============================] - 0s 1ms/step - loss: 0.9261 - mse: 1.5586\n",
            "Epoch 51/100\n",
            "129/129 [==============================] - 0s 1ms/step - loss: 0.9224 - mse: 1.5476\n",
            "Epoch 52/100\n",
            "129/129 [==============================] - 0s 1ms/step - loss: 0.8999 - mse: 1.4693\n",
            "Epoch 53/100\n",
            "129/129 [==============================] - 0s 1ms/step - loss: 0.9106 - mse: 1.4940\n",
            "Epoch 54/100\n",
            "129/129 [==============================] - 0s 1ms/step - loss: 0.9036 - mse: 1.4702\n",
            "Epoch 55/100\n",
            "129/129 [==============================] - 0s 1ms/step - loss: 0.8997 - mse: 1.4625\n",
            "Epoch 56/100\n",
            "129/129 [==============================] - 0s 2ms/step - loss: 0.9009 - mse: 1.4506\n",
            "Epoch 57/100\n",
            "129/129 [==============================] - 0s 1ms/step - loss: 0.8869 - mse: 1.4089\n",
            "Epoch 58/100\n",
            "129/129 [==============================] - 0s 1ms/step - loss: 0.8993 - mse: 1.4659\n",
            "Epoch 59/100\n",
            "129/129 [==============================] - 0s 1ms/step - loss: 0.8993 - mse: 1.4498\n",
            "Epoch 60/100\n",
            "129/129 [==============================] - 0s 1ms/step - loss: 0.8998 - mse: 1.4603\n",
            "Epoch 61/100\n",
            "129/129 [==============================] - 0s 1ms/step - loss: 0.8960 - mse: 1.4423\n",
            "Epoch 62/100\n",
            "129/129 [==============================] - 0s 1ms/step - loss: 0.8941 - mse: 1.4409\n",
            "Epoch 63/100\n",
            "129/129 [==============================] - 0s 1ms/step - loss: 0.9003 - mse: 1.4796\n",
            "Epoch 64/100\n",
            "129/129 [==============================] - 0s 2ms/step - loss: 0.8923 - mse: 1.4376\n",
            "Epoch 65/100\n",
            "129/129 [==============================] - 0s 2ms/step - loss: 0.9108 - mse: 1.4887\n",
            "Epoch 66/100\n",
            "129/129 [==============================] - 0s 2ms/step - loss: 0.8940 - mse: 1.4285\n",
            "Epoch 67/100\n",
            "129/129 [==============================] - 0s 2ms/step - loss: 0.8909 - mse: 1.4314\n",
            "Epoch 68/100\n",
            "129/129 [==============================] - 0s 2ms/step - loss: 0.8941 - mse: 1.4493\n",
            "Epoch 69/100\n",
            "129/129 [==============================] - 0s 2ms/step - loss: 0.8859 - mse: 1.4067\n",
            "Epoch 70/100\n",
            "129/129 [==============================] - 0s 2ms/step - loss: 0.8915 - mse: 1.4483\n",
            "Epoch 71/100\n",
            "129/129 [==============================] - 0s 3ms/step - loss: 0.8892 - mse: 1.4256\n",
            "Epoch 72/100\n",
            "129/129 [==============================] - 0s 4ms/step - loss: 0.8944 - mse: 1.4578\n",
            "Epoch 73/100\n",
            "129/129 [==============================] - 0s 3ms/step - loss: 0.8922 - mse: 1.4330\n",
            "Epoch 74/100\n",
            "129/129 [==============================] - 0s 4ms/step - loss: 0.8941 - mse: 1.4296\n",
            "Epoch 75/100\n",
            "129/129 [==============================] - 0s 3ms/step - loss: 0.8898 - mse: 1.4298\n",
            "Epoch 76/100\n",
            "129/129 [==============================] - 1s 5ms/step - loss: 0.8868 - mse: 1.4209\n",
            "Epoch 77/100\n",
            "129/129 [==============================] - 0s 3ms/step - loss: 0.8872 - mse: 1.4284\n",
            "Epoch 78/100\n",
            "129/129 [==============================] - 0s 4ms/step - loss: 0.8843 - mse: 1.4139\n",
            "Epoch 79/100\n",
            "129/129 [==============================] - 0s 4ms/step - loss: 0.8799 - mse: 1.3830\n",
            "Epoch 80/100\n",
            "129/129 [==============================] - 1s 4ms/step - loss: 0.8880 - mse: 1.4290\n",
            "Epoch 81/100\n",
            "129/129 [==============================] - 0s 3ms/step - loss: 0.8890 - mse: 1.4250\n",
            "Epoch 82/100\n",
            "129/129 [==============================] - 0s 3ms/step - loss: 0.8832 - mse: 1.3897\n",
            "Epoch 83/100\n",
            "129/129 [==============================] - 0s 3ms/step - loss: 0.8803 - mse: 1.4117\n",
            "Epoch 84/100\n",
            "129/129 [==============================] - 0s 3ms/step - loss: 0.8834 - mse: 1.4024\n",
            "Epoch 85/100\n",
            "129/129 [==============================] - 0s 3ms/step - loss: 0.8964 - mse: 1.4441\n",
            "Epoch 86/100\n",
            "129/129 [==============================] - 1s 7ms/step - loss: 0.8763 - mse: 1.3768\n",
            "Epoch 87/100\n",
            "129/129 [==============================] - 0s 3ms/step - loss: 0.8807 - mse: 1.4004\n",
            "Epoch 88/100\n",
            "129/129 [==============================] - 0s 3ms/step - loss: 0.8851 - mse: 1.4009\n",
            "Epoch 89/100\n",
            "129/129 [==============================] - 1s 4ms/step - loss: 0.8799 - mse: 1.3993\n",
            "Epoch 90/100\n",
            "129/129 [==============================] - 0s 3ms/step - loss: 0.8808 - mse: 1.3903\n",
            "Epoch 91/100\n",
            "129/129 [==============================] - 0s 4ms/step - loss: 0.8774 - mse: 1.3837\n",
            "Epoch 92/100\n",
            "129/129 [==============================] - 1s 4ms/step - loss: 0.8761 - mse: 1.3802\n",
            "Epoch 93/100\n",
            "129/129 [==============================] - 1s 4ms/step - loss: 0.8750 - mse: 1.3855\n",
            "Epoch 94/100\n",
            "129/129 [==============================] - 0s 4ms/step - loss: 0.8816 - mse: 1.3828\n",
            "Epoch 95/100\n",
            "129/129 [==============================] - 1s 4ms/step - loss: 0.8718 - mse: 1.3689\n",
            "Epoch 96/100\n",
            "129/129 [==============================] - 0s 3ms/step - loss: 0.8783 - mse: 1.3797\n",
            "Epoch 97/100\n",
            "129/129 [==============================] - 1s 5ms/step - loss: 0.8779 - mse: 1.3858\n",
            "Epoch 98/100\n",
            "129/129 [==============================] - 0s 2ms/step - loss: 0.8760 - mse: 1.3744\n",
            "Epoch 99/100\n",
            "129/129 [==============================] - 1s 5ms/step - loss: 0.8790 - mse: 1.3735\n",
            "Epoch 100/100\n",
            "129/129 [==============================] - 0s 3ms/step - loss: 0.8748 - mse: 1.3621\n"
          ]
        },
        {
          "output_type": "execute_result",
          "data": {
            "text/plain": [
              "<keras.callbacks.History at 0x7f08a51c4650>"
            ]
          },
          "metadata": {},
          "execution_count": 9
        }
      ]
    },
    {
      "cell_type": "code",
      "source": [
        "ypreds2 = model2.predict(X_test)\n",
        "plot_boston(ypreds2)"
      ],
      "metadata": {
        "colab": {
          "base_uri": "https://localhost:8080/",
          "height": 428
        },
        "id": "EYPEIpRyev_G",
        "outputId": "e4621bd6-4396-4b9a-84c4-b3849b184d54"
      },
      "execution_count": null,
      "outputs": [
        {
          "output_type": "display_data",
          "data": {
            "text/plain": [
              "<Figure size 720x504 with 1 Axes>"
            ],
            "image/png": "[encoded data removed]"
          },
          "metadata": {
            "needs_background": "light"
          }
        }
      ]
    },
    {
      "cell_type": "code",
      "source": [
        "mae_mse(y_test,ypreds2,1)"
      ],
      "metadata": {
        "colab": {
          "base_uri": "https://localhost:8080/"
        },
        "id": "mnirWxLyfG4n",
        "outputId": "847364ff-793c-44ac-cc77-27f55e2d93e2"
      },
      "execution_count": null,
      "outputs": [
        {
          "output_type": "execute_result",
          "data": {
            "text/plain": [
              "<tf.Tensor: shape=(), dtype=float32, numpy=1.344353>"
            ]
          },
          "metadata": {},
          "execution_count": 50
        }
      ]
    },
    {
      "cell_type": "code",
      "source": [
        "mae_mse(y_test,ypreds2)"
      ],
      "metadata": {
        "colab": {
          "base_uri": "https://localhost:8080/"
        },
        "id": "VND57cUxfOyy",
        "outputId": "a98fc475-583b-4f71-f84c-89561eed42bc"
      },
      "execution_count": null,
      "outputs": [
        {
          "output_type": "execute_result",
          "data": {
            "text/plain": [
              "<tf.Tensor: shape=(), dtype=float32, numpy=0.870698>"
            ]
          },
          "metadata": {},
          "execution_count": 51
        }
      ]
    },
    {
      "cell_type": "code",
      "source": [
        "# seed\n",
        "tf.random.set_seed(42)\n",
        "# model\n",
        "model3=tf.keras.Sequential([\n",
        "                            tf.keras.layers.Dense(10),\n",
        "                            tf.keras.layers.Dense(1)\n",
        "])\n",
        "# Compile\n",
        "model3.compile(loss=tf.keras.losses.mae,\n",
        "              optimizer=tf.keras.optimizers.SGD(learning_rate=0.001),\n",
        "              metrics=['mse'])\n",
        "# Fit\n",
        "model3.fit(X_train,y_train,epochs=500)"
      ],
      "metadata": {
        "colab": {
          "base_uri": "https://localhost:8080/"
        },
        "id": "ONZPeMSvfTX_",
        "outputId": "2f9e02cb-0f35-4ab2-af53-e9f25a14c5e0"
      },
      "execution_count": null,
      "outputs": [
        {
          "output_type": "stream",
          "name": "stdout",
          "text": [
            "Epoch 1/500\n",
            "129/129 [==============================] - 1s 2ms/step - loss: 45.8726 - mse: 92197.5078\n",
            "Epoch 2/500\n",
            "129/129 [==============================] - 0s 1ms/step - loss: 2.3347 - mse: 14.4908\n",
            "Epoch 3/500\n",
            "129/129 [==============================] - 0s 2ms/step - loss: 2.3676 - mse: 12.2928\n",
            "Epoch 4/500\n",
            "129/129 [==============================] - 0s 3ms/step - loss: 1.9188 - mse: 10.0446\n",
            "Epoch 5/500\n",
            "129/129 [==============================] - 0s 4ms/step - loss: 1.7901 - mse: 5.9754\n",
            "Epoch 6/500\n",
            "129/129 [==============================] - 0s 3ms/step - loss: 1.7220 - mse: 5.3034\n",
            "Epoch 7/500\n",
            "129/129 [==============================] - 0s 3ms/step - loss: 1.8771 - mse: 8.8532\n",
            "Epoch 8/500\n",
            "129/129 [==============================] - 0s 3ms/step - loss: 1.8340 - mse: 9.3789\n",
            "Epoch 9/500\n",
            "129/129 [==============================] - 0s 3ms/step - loss: 1.5953 - mse: 5.3238\n",
            "Epoch 10/500\n",
            "129/129 [==============================] - 0s 3ms/step - loss: 1.4565 - mse: 3.6832\n",
            "Epoch 11/500\n",
            "129/129 [==============================] - 0s 2ms/step - loss: 1.5305 - mse: 4.3036\n",
            "Epoch 12/500\n",
            "129/129 [==============================] - 0s 3ms/step - loss: 1.4186 - mse: 3.8664\n",
            "Epoch 13/500\n",
            "129/129 [==============================] - 0s 3ms/step - loss: 3.5891 - mse: 124.2681\n",
            "Epoch 14/500\n",
            "129/129 [==============================] - 0s 3ms/step - loss: 1.3379 - mse: 3.2112\n",
            "Epoch 15/500\n",
            "129/129 [==============================] - 0s 3ms/step - loss: 1.2399 - mse: 2.6933\n",
            "Epoch 16/500\n",
            "129/129 [==============================] - 0s 4ms/step - loss: 1.2974 - mse: 3.0385\n",
            "Epoch 17/500\n",
            "129/129 [==============================] - 0s 3ms/step - loss: 1.2395 - mse: 2.8587\n",
            "Epoch 18/500\n",
            "129/129 [==============================] - 0s 3ms/step - loss: 1.1746 - mse: 2.4101\n",
            "Epoch 19/500\n",
            "129/129 [==============================] - 0s 3ms/step - loss: 1.1430 - mse: 2.3034\n",
            "Epoch 20/500\n",
            "129/129 [==============================] - 0s 4ms/step - loss: 1.1114 - mse: 2.1826\n",
            "Epoch 21/500\n",
            "129/129 [==============================] - 0s 3ms/step - loss: 1.0860 - mse: 2.1671\n",
            "Epoch 22/500\n",
            "129/129 [==============================] - 0s 3ms/step - loss: 1.0727 - mse: 2.0529\n",
            "Epoch 23/500\n",
            "129/129 [==============================] - 1s 4ms/step - loss: 1.0652 - mse: 2.0648\n",
            "Epoch 24/500\n",
            "129/129 [==============================] - 1s 4ms/step - loss: 1.0466 - mse: 1.9255\n",
            "Epoch 25/500\n",
            "129/129 [==============================] - 0s 4ms/step - loss: 1.0480 - mse: 2.0404\n",
            "Epoch 26/500\n",
            "129/129 [==============================] - 0s 3ms/step - loss: 1.0843 - mse: 2.1287\n",
            "Epoch 27/500\n",
            "129/129 [==============================] - 0s 4ms/step - loss: 1.0246 - mse: 1.8778\n",
            "Epoch 28/500\n",
            "129/129 [==============================] - 0s 2ms/step - loss: 1.0099 - mse: 1.8698\n",
            "Epoch 29/500\n",
            "129/129 [==============================] - 0s 3ms/step - loss: 1.0089 - mse: 1.8337\n",
            "Epoch 30/500\n",
            "129/129 [==============================] - 0s 3ms/step - loss: 1.0798 - mse: 2.1831\n",
            "Epoch 31/500\n",
            "129/129 [==============================] - 0s 3ms/step - loss: 0.9540 - mse: 1.6183\n",
            "Epoch 32/500\n",
            "129/129 [==============================] - 1s 4ms/step - loss: 0.9746 - mse: 1.7233\n",
            "Epoch 33/500\n",
            "129/129 [==============================] - 0s 4ms/step - loss: 0.9710 - mse: 1.6825\n",
            "Epoch 34/500\n",
            "129/129 [==============================] - 0s 3ms/step - loss: 0.9825 - mse: 1.7945\n",
            "Epoch 35/500\n",
            "129/129 [==============================] - 1s 4ms/step - loss: 0.9537 - mse: 1.6232\n",
            "Epoch 36/500\n",
            "129/129 [==============================] - 1s 4ms/step - loss: 0.9622 - mse: 1.6504\n",
            "Epoch 37/500\n",
            "129/129 [==============================] - 0s 3ms/step - loss: 0.9458 - mse: 1.5891\n",
            "Epoch 38/500\n",
            "129/129 [==============================] - 0s 3ms/step - loss: 0.9561 - mse: 1.6408\n",
            "Epoch 39/500\n",
            "129/129 [==============================] - 0s 3ms/step - loss: 0.9211 - mse: 1.5208\n",
            "Epoch 40/500\n",
            "129/129 [==============================] - 0s 3ms/step - loss: 0.9572 - mse: 1.6476\n",
            "Epoch 41/500\n",
            "129/129 [==============================] - 0s 3ms/step - loss: 0.9408 - mse: 1.6063\n",
            "Epoch 42/500\n",
            "129/129 [==============================] - 1s 5ms/step - loss: 0.9251 - mse: 1.5710\n",
            "Epoch 43/500\n",
            "129/129 [==============================] - 1s 4ms/step - loss: 0.9432 - mse: 1.6047\n",
            "Epoch 44/500\n",
            "129/129 [==============================] - 1s 4ms/step - loss: 0.9253 - mse: 1.5430\n",
            "Epoch 45/500\n",
            "129/129 [==============================] - 0s 3ms/step - loss: 0.9384 - mse: 1.5826\n",
            "Epoch 46/500\n",
            "129/129 [==============================] - 1s 5ms/step - loss: 0.9333 - mse: 1.5722\n",
            "Epoch 47/500\n",
            "129/129 [==============================] - 0s 3ms/step - loss: 0.9076 - mse: 1.4550\n",
            "Epoch 48/500\n",
            "129/129 [==============================] - 0s 3ms/step - loss: 0.9219 - mse: 1.5379\n",
            "Epoch 49/500\n",
            "129/129 [==============================] - 0s 3ms/step - loss: 0.9390 - mse: 1.5941\n",
            "Epoch 50/500\n",
            "129/129 [==============================] - 1s 4ms/step - loss: 0.9261 - mse: 1.5586\n",
            "Epoch 51/500\n",
            "129/129 [==============================] - 1s 5ms/step - loss: 0.9224 - mse: 1.5476\n",
            "Epoch 52/500\n",
            "129/129 [==============================] - 0s 3ms/step - loss: 0.8999 - mse: 1.4693\n",
            "Epoch 53/500\n",
            "129/129 [==============================] - 0s 3ms/step - loss: 0.9106 - mse: 1.4940\n",
            "Epoch 54/500\n",
            "129/129 [==============================] - 0s 2ms/step - loss: 0.9036 - mse: 1.4702\n",
            "Epoch 55/500\n",
            "129/129 [==============================] - 0s 3ms/step - loss: 0.8997 - mse: 1.4625\n",
            "Epoch 56/500\n",
            "129/129 [==============================] - 0s 4ms/step - loss: 0.9009 - mse: 1.4506\n",
            "Epoch 57/500\n",
            "129/129 [==============================] - 0s 4ms/step - loss: 0.8869 - mse: 1.4089\n",
            "Epoch 58/500\n",
            "129/129 [==============================] - 0s 3ms/step - loss: 0.8993 - mse: 1.4659\n",
            "Epoch 59/500\n",
            "129/129 [==============================] - 0s 4ms/step - loss: 0.8993 - mse: 1.4498\n",
            "Epoch 60/500\n",
            "129/129 [==============================] - 0s 3ms/step - loss: 0.8998 - mse: 1.4603\n",
            "Epoch 61/500\n",
            "129/129 [==============================] - 0s 4ms/step - loss: 0.8960 - mse: 1.4423\n",
            "Epoch 62/500\n",
            "129/129 [==============================] - 1s 4ms/step - loss: 0.8941 - mse: 1.4409\n",
            "Epoch 63/500\n",
            "129/129 [==============================] - 1s 5ms/step - loss: 0.9003 - mse: 1.4796\n",
            "Epoch 64/500\n",
            "129/129 [==============================] - 0s 3ms/step - loss: 0.8923 - mse: 1.4376\n",
            "Epoch 65/500\n",
            "129/129 [==============================] - 0s 3ms/step - loss: 0.9108 - mse: 1.4887\n",
            "Epoch 66/500\n",
            "129/129 [==============================] - 0s 3ms/step - loss: 0.8940 - mse: 1.4285\n",
            "Epoch 67/500\n",
            "129/129 [==============================] - 0s 3ms/step - loss: 0.8909 - mse: 1.4314\n",
            "Epoch 68/500\n",
            "129/129 [==============================] - 0s 3ms/step - loss: 0.8941 - mse: 1.4493\n",
            "Epoch 69/500\n",
            "129/129 [==============================] - 0s 3ms/step - loss: 0.8859 - mse: 1.4067\n",
            "Epoch 70/500\n",
            "129/129 [==============================] - 0s 3ms/step - loss: 0.8915 - mse: 1.4483\n",
            "Epoch 71/500\n",
            "129/129 [==============================] - 0s 3ms/step - loss: 0.8892 - mse: 1.4256\n",
            "Epoch 72/500\n",
            "129/129 [==============================] - 0s 3ms/step - loss: 0.8944 - mse: 1.4578\n",
            "Epoch 73/500\n",
            "129/129 [==============================] - 0s 3ms/step - loss: 0.8922 - mse: 1.4330\n",
            "Epoch 74/500\n",
            "129/129 [==============================] - 0s 3ms/step - loss: 0.8941 - mse: 1.4296\n",
            "Epoch 75/500\n",
            "129/129 [==============================] - 1s 4ms/step - loss: 0.8898 - mse: 1.4298\n",
            "Epoch 76/500\n",
            "129/129 [==============================] - 0s 4ms/step - loss: 0.8868 - mse: 1.4209\n",
            "Epoch 77/500\n",
            "129/129 [==============================] - 1s 4ms/step - loss: 0.8872 - mse: 1.4284\n",
            "Epoch 78/500\n",
            "129/129 [==============================] - 1s 4ms/step - loss: 0.8843 - mse: 1.4139\n",
            "Epoch 79/500\n",
            "129/129 [==============================] - 0s 3ms/step - loss: 0.8799 - mse: 1.3830\n",
            "Epoch 80/500\n",
            "129/129 [==============================] - 0s 3ms/step - loss: 0.8880 - mse: 1.4290\n",
            "Epoch 81/500\n",
            "129/129 [==============================] - 0s 4ms/step - loss: 0.8890 - mse: 1.4250\n",
            "Epoch 82/500\n",
            "129/129 [==============================] - 0s 3ms/step - loss: 0.8832 - mse: 1.3897\n",
            "Epoch 83/500\n",
            "129/129 [==============================] - 0s 4ms/step - loss: 0.8803 - mse: 1.4117\n",
            "Epoch 84/500\n",
            "129/129 [==============================] - 0s 2ms/step - loss: 0.8834 - mse: 1.4024\n",
            "Epoch 85/500\n",
            "129/129 [==============================] - 0s 2ms/step - loss: 0.8964 - mse: 1.4441\n",
            "Epoch 86/500\n",
            "129/129 [==============================] - 0s 3ms/step - loss: 0.8763 - mse: 1.3768\n",
            "Epoch 87/500\n",
            "129/129 [==============================] - 0s 3ms/step - loss: 0.8807 - mse: 1.4004\n",
            "Epoch 88/500\n",
            "129/129 [==============================] - 0s 3ms/step - loss: 0.8851 - mse: 1.4009\n",
            "Epoch 89/500\n",
            "129/129 [==============================] - 0s 3ms/step - loss: 0.8799 - mse: 1.3993\n",
            "Epoch 90/500\n",
            "129/129 [==============================] - 0s 3ms/step - loss: 0.8808 - mse: 1.3903\n",
            "Epoch 91/500\n",
            "129/129 [==============================] - 0s 3ms/step - loss: 0.8774 - mse: 1.3837\n",
            "Epoch 92/500\n",
            "129/129 [==============================] - 0s 3ms/step - loss: 0.8761 - mse: 1.3802\n",
            "Epoch 93/500\n",
            "129/129 [==============================] - 0s 2ms/step - loss: 0.8750 - mse: 1.3855\n",
            "Epoch 94/500\n",
            "129/129 [==============================] - 0s 2ms/step - loss: 0.8816 - mse: 1.3828\n",
            "Epoch 95/500\n",
            "129/129 [==============================] - 0s 2ms/step - loss: 0.8718 - mse: 1.3689\n",
            "Epoch 96/500\n",
            "129/129 [==============================] - 0s 2ms/step - loss: 0.8783 - mse: 1.3797\n",
            "Epoch 97/500\n",
            "129/129 [==============================] - 0s 3ms/step - loss: 0.8779 - mse: 1.3858\n",
            "Epoch 98/500\n",
            "129/129 [==============================] - 0s 3ms/step - loss: 0.8760 - mse: 1.3744\n",
            "Epoch 99/500\n",
            "129/129 [==============================] - 0s 3ms/step - loss: 0.8790 - mse: 1.3735\n",
            "Epoch 100/500\n",
            "129/129 [==============================] - 0s 3ms/step - loss: 0.8748 - mse: 1.3621\n",
            "Epoch 101/500\n",
            "129/129 [==============================] - 0s 3ms/step - loss: 0.8746 - mse: 1.3726\n",
            "Epoch 102/500\n",
            "129/129 [==============================] - 0s 2ms/step - loss: 0.8779 - mse: 1.3806\n",
            "Epoch 103/500\n",
            "129/129 [==============================] - 0s 3ms/step - loss: 0.8739 - mse: 1.3808\n",
            "Epoch 104/500\n",
            "129/129 [==============================] - 0s 2ms/step - loss: 0.8752 - mse: 1.3783\n",
            "Epoch 105/500\n",
            "129/129 [==============================] - 0s 3ms/step - loss: 0.8775 - mse: 1.3865\n",
            "Epoch 106/500\n",
            "129/129 [==============================] - 0s 2ms/step - loss: 0.8779 - mse: 1.3716\n",
            "Epoch 107/500\n",
            "129/129 [==============================] - 0s 2ms/step - loss: 0.8822 - mse: 1.4130\n",
            "Epoch 108/500\n",
            "129/129 [==============================] - 0s 2ms/step - loss: 0.8696 - mse: 1.3493\n",
            "Epoch 109/500\n",
            "129/129 [==============================] - 0s 2ms/step - loss: 0.8733 - mse: 1.3728\n",
            "Epoch 110/500\n",
            "129/129 [==============================] - 0s 2ms/step - loss: 0.8740 - mse: 1.3749\n",
            "Epoch 111/500\n",
            "129/129 [==============================] - 0s 2ms/step - loss: 0.8750 - mse: 1.3728\n",
            "Epoch 112/500\n",
            "129/129 [==============================] - 0s 2ms/step - loss: 0.8716 - mse: 1.3673\n",
            "Epoch 113/500\n",
            "129/129 [==============================] - 0s 3ms/step - loss: 0.8813 - mse: 1.3922\n",
            "Epoch 114/500\n",
            "129/129 [==============================] - 0s 3ms/step - loss: 0.8809 - mse: 1.3989\n",
            "Epoch 115/500\n",
            "129/129 [==============================] - 0s 3ms/step - loss: 0.8766 - mse: 1.3843\n",
            "Epoch 116/500\n",
            "129/129 [==============================] - 0s 2ms/step - loss: 0.8791 - mse: 1.3933\n",
            "Epoch 117/500\n",
            "129/129 [==============================] - 0s 2ms/step - loss: 0.8701 - mse: 1.3479\n",
            "Epoch 118/500\n",
            "129/129 [==============================] - 0s 2ms/step - loss: 0.8676 - mse: 1.3453\n",
            "Epoch 119/500\n",
            "129/129 [==============================] - 0s 2ms/step - loss: 0.8720 - mse: 1.3614\n",
            "Epoch 120/500\n",
            "129/129 [==============================] - 0s 2ms/step - loss: 0.8707 - mse: 1.3653\n",
            "Epoch 121/500\n",
            "129/129 [==============================] - 0s 3ms/step - loss: 0.8722 - mse: 1.3721\n",
            "Epoch 122/500\n",
            "129/129 [==============================] - 0s 3ms/step - loss: 0.8718 - mse: 1.3614\n",
            "Epoch 123/500\n",
            "129/129 [==============================] - 0s 2ms/step - loss: 0.8716 - mse: 1.3636\n",
            "Epoch 124/500\n",
            "129/129 [==============================] - 0s 3ms/step - loss: 0.8750 - mse: 1.3724\n",
            "Epoch 125/500\n",
            "129/129 [==============================] - 0s 3ms/step - loss: 0.8710 - mse: 1.3413\n",
            "Epoch 126/500\n",
            "129/129 [==============================] - 0s 3ms/step - loss: 0.8750 - mse: 1.3625\n",
            "Epoch 127/500\n",
            "129/129 [==============================] - 0s 2ms/step - loss: 0.8777 - mse: 1.4050\n",
            "Epoch 128/500\n",
            "129/129 [==============================] - 0s 2ms/step - loss: 0.8746 - mse: 1.3710\n",
            "Epoch 129/500\n",
            "129/129 [==============================] - 0s 2ms/step - loss: 0.8704 - mse: 1.3515\n",
            "Epoch 130/500\n",
            "129/129 [==============================] - 0s 2ms/step - loss: 0.8708 - mse: 1.3575\n",
            "Epoch 131/500\n",
            "129/129 [==============================] - 0s 2ms/step - loss: 0.8725 - mse: 1.3519\n",
            "Epoch 132/500\n",
            "129/129 [==============================] - 0s 3ms/step - loss: 0.8736 - mse: 1.3764\n",
            "Epoch 133/500\n",
            "129/129 [==============================] - 1s 7ms/step - loss: 0.8692 - mse: 1.3522\n",
            "Epoch 134/500\n",
            "129/129 [==============================] - 0s 2ms/step - loss: 0.8737 - mse: 1.3562\n",
            "Epoch 135/500\n",
            "129/129 [==============================] - 0s 2ms/step - loss: 0.8731 - mse: 1.3674\n",
            "Epoch 136/500\n",
            "129/129 [==============================] - 0s 2ms/step - loss: 0.8717 - mse: 1.3547\n",
            "Epoch 137/500\n",
            "129/129 [==============================] - 0s 2ms/step - loss: 0.8680 - mse: 1.3384\n",
            "Epoch 138/500\n",
            "129/129 [==============================] - 0s 2ms/step - loss: 0.8711 - mse: 1.3594\n",
            "Epoch 139/500\n",
            "129/129 [==============================] - 0s 3ms/step - loss: 0.8705 - mse: 1.3482\n",
            "Epoch 140/500\n",
            "129/129 [==============================] - 0s 4ms/step - loss: 0.8670 - mse: 1.3391\n",
            "Epoch 141/500\n",
            "129/129 [==============================] - 0s 3ms/step - loss: 0.8784 - mse: 1.3923\n",
            "Epoch 142/500\n",
            "129/129 [==============================] - 0s 4ms/step - loss: 0.8719 - mse: 1.3643\n",
            "Epoch 143/500\n",
            "129/129 [==============================] - 0s 3ms/step - loss: 0.8734 - mse: 1.3652\n",
            "Epoch 144/500\n",
            "129/129 [==============================] - 1s 4ms/step - loss: 0.8711 - mse: 1.3524\n",
            "Epoch 145/500\n",
            "129/129 [==============================] - 1s 5ms/step - loss: 0.8706 - mse: 1.3540\n",
            "Epoch 146/500\n",
            "129/129 [==============================] - 0s 3ms/step - loss: 0.8726 - mse: 1.3647\n",
            "Epoch 147/500\n",
            "129/129 [==============================] - 1s 4ms/step - loss: 0.8741 - mse: 1.3718\n",
            "Epoch 148/500\n",
            "129/129 [==============================] - 1s 5ms/step - loss: 0.8734 - mse: 1.3545\n",
            "Epoch 149/500\n",
            "129/129 [==============================] - 1s 4ms/step - loss: 0.8713 - mse: 1.3536\n",
            "Epoch 150/500\n",
            "129/129 [==============================] - 0s 3ms/step - loss: 0.8643 - mse: 1.3360\n",
            "Epoch 151/500\n",
            "129/129 [==============================] - 1s 4ms/step - loss: 0.8673 - mse: 1.3419\n",
            "Epoch 152/500\n",
            "129/129 [==============================] - 0s 3ms/step - loss: 0.8691 - mse: 1.3539\n",
            "Epoch 153/500\n",
            "129/129 [==============================] - 1s 5ms/step - loss: 0.8655 - mse: 1.3321\n",
            "Epoch 154/500\n",
            "129/129 [==============================] - 1s 7ms/step - loss: 0.8739 - mse: 1.3744\n",
            "Epoch 155/500\n",
            "129/129 [==============================] - 0s 3ms/step - loss: 0.8720 - mse: 1.3544\n",
            "Epoch 156/500\n",
            "129/129 [==============================] - 0s 3ms/step - loss: 0.8684 - mse: 1.3389\n",
            "Epoch 157/500\n",
            "129/129 [==============================] - 0s 4ms/step - loss: 0.8717 - mse: 1.3524\n",
            "Epoch 158/500\n",
            "129/129 [==============================] - 0s 3ms/step - loss: 0.8744 - mse: 1.3629\n",
            "Epoch 159/500\n",
            "129/129 [==============================] - 0s 3ms/step - loss: 0.8725 - mse: 1.3613\n",
            "Epoch 160/500\n",
            "129/129 [==============================] - 0s 2ms/step - loss: 0.8718 - mse: 1.3680\n",
            "Epoch 161/500\n",
            "129/129 [==============================] - 0s 3ms/step - loss: 0.8719 - mse: 1.3511\n",
            "Epoch 162/500\n",
            "129/129 [==============================] - 0s 3ms/step - loss: 0.8720 - mse: 1.3451\n",
            "Epoch 163/500\n",
            "129/129 [==============================] - 0s 3ms/step - loss: 0.8689 - mse: 1.3520\n",
            "Epoch 164/500\n",
            "129/129 [==============================] - 0s 3ms/step - loss: 0.8641 - mse: 1.3417\n",
            "Epoch 165/500\n",
            "129/129 [==============================] - 0s 3ms/step - loss: 0.8720 - mse: 1.3477\n",
            "Epoch 166/500\n",
            "129/129 [==============================] - 0s 3ms/step - loss: 0.8773 - mse: 1.3843\n",
            "Epoch 167/500\n",
            "129/129 [==============================] - 0s 2ms/step - loss: 0.8709 - mse: 1.3443\n",
            "Epoch 168/500\n",
            "129/129 [==============================] - 0s 3ms/step - loss: 0.8673 - mse: 1.3394\n",
            "Epoch 169/500\n",
            "129/129 [==============================] - 0s 3ms/step - loss: 0.8687 - mse: 1.3532\n",
            "Epoch 170/500\n",
            "129/129 [==============================] - 0s 3ms/step - loss: 0.8719 - mse: 1.3583\n",
            "Epoch 171/500\n",
            "129/129 [==============================] - 0s 2ms/step - loss: 0.8696 - mse: 1.3499\n",
            "Epoch 172/500\n",
            "129/129 [==============================] - 1s 4ms/step - loss: 0.8657 - mse: 1.3391\n",
            "Epoch 173/500\n",
            "129/129 [==============================] - 0s 3ms/step - loss: 0.8705 - mse: 1.3357\n",
            "Epoch 174/500\n",
            "129/129 [==============================] - 0s 3ms/step - loss: 0.8713 - mse: 1.3532\n",
            "Epoch 175/500\n",
            "129/129 [==============================] - 0s 3ms/step - loss: 0.8648 - mse: 1.3348\n",
            "Epoch 176/500\n",
            "129/129 [==============================] - 0s 2ms/step - loss: 0.8668 - mse: 1.3344\n",
            "Epoch 177/500\n",
            "129/129 [==============================] - 0s 3ms/step - loss: 0.8700 - mse: 1.3557\n",
            "Epoch 178/500\n",
            "129/129 [==============================] - 0s 3ms/step - loss: 0.8653 - mse: 1.3261\n",
            "Epoch 179/500\n",
            "129/129 [==============================] - 0s 3ms/step - loss: 0.8710 - mse: 1.3661\n",
            "Epoch 180/500\n",
            "129/129 [==============================] - 0s 3ms/step - loss: 0.8669 - mse: 1.3414\n",
            "Epoch 181/500\n",
            "129/129 [==============================] - 0s 3ms/step - loss: 0.8683 - mse: 1.3382\n",
            "Epoch 182/500\n",
            "129/129 [==============================] - 0s 3ms/step - loss: 0.8768 - mse: 1.3636\n",
            "Epoch 183/500\n",
            "129/129 [==============================] - 0s 3ms/step - loss: 0.8703 - mse: 1.3537\n",
            "Epoch 184/500\n",
            "129/129 [==============================] - 0s 3ms/step - loss: 0.8682 - mse: 1.3392\n",
            "Epoch 185/500\n",
            "129/129 [==============================] - 0s 3ms/step - loss: 0.8698 - mse: 1.3683\n",
            "Epoch 186/500\n",
            "129/129 [==============================] - 0s 2ms/step - loss: 0.8673 - mse: 1.3328\n",
            "Epoch 187/500\n",
            "129/129 [==============================] - 0s 3ms/step - loss: 0.8692 - mse: 1.3505\n",
            "Epoch 188/500\n",
            "129/129 [==============================] - 0s 2ms/step - loss: 0.8712 - mse: 1.3600\n",
            "Epoch 189/500\n",
            "129/129 [==============================] - 0s 3ms/step - loss: 0.8670 - mse: 1.3323\n",
            "Epoch 190/500\n",
            "129/129 [==============================] - 0s 3ms/step - loss: 0.8710 - mse: 1.3590\n",
            "Epoch 191/500\n",
            "129/129 [==============================] - 0s 2ms/step - loss: 0.8725 - mse: 1.3569\n",
            "Epoch 192/500\n",
            "129/129 [==============================] - 0s 2ms/step - loss: 0.8652 - mse: 1.3346\n",
            "Epoch 193/500\n",
            "129/129 [==============================] - 0s 3ms/step - loss: 0.8693 - mse: 1.3496\n",
            "Epoch 194/500\n",
            "129/129 [==============================] - 0s 2ms/step - loss: 0.8707 - mse: 1.3599\n",
            "Epoch 195/500\n",
            "129/129 [==============================] - 0s 2ms/step - loss: 0.8662 - mse: 1.3365\n",
            "Epoch 196/500\n",
            "129/129 [==============================] - 0s 2ms/step - loss: 0.8702 - mse: 1.3559\n",
            "Epoch 197/500\n",
            "129/129 [==============================] - 0s 3ms/step - loss: 0.8705 - mse: 1.3465\n",
            "Epoch 198/500\n",
            "129/129 [==============================] - 0s 2ms/step - loss: 0.8750 - mse: 1.3577\n",
            "Epoch 199/500\n",
            "129/129 [==============================] - 0s 3ms/step - loss: 0.8714 - mse: 1.3501\n",
            "Epoch 200/500\n",
            "129/129 [==============================] - 0s 2ms/step - loss: 0.8676 - mse: 1.3406\n",
            "Epoch 201/500\n",
            "129/129 [==============================] - 0s 3ms/step - loss: 0.8735 - mse: 1.3645\n",
            "Epoch 202/500\n",
            "129/129 [==============================] - 0s 3ms/step - loss: 0.8659 - mse: 1.3351\n",
            "Epoch 203/500\n",
            "129/129 [==============================] - 0s 3ms/step - loss: 0.8674 - mse: 1.3369\n",
            "Epoch 204/500\n",
            "129/129 [==============================] - 0s 3ms/step - loss: 0.8682 - mse: 1.3346\n",
            "Epoch 205/500\n",
            "129/129 [==============================] - 0s 3ms/step - loss: 0.8708 - mse: 1.3453\n",
            "Epoch 206/500\n",
            "129/129 [==============================] - 0s 2ms/step - loss: 0.8734 - mse: 1.3676\n",
            "Epoch 207/500\n",
            "129/129 [==============================] - 0s 3ms/step - loss: 0.8730 - mse: 1.3607\n",
            "Epoch 208/500\n",
            "129/129 [==============================] - 0s 2ms/step - loss: 0.8689 - mse: 1.3383\n",
            "Epoch 209/500\n",
            "129/129 [==============================] - 0s 3ms/step - loss: 0.8745 - mse: 1.3657\n",
            "Epoch 210/500\n",
            "129/129 [==============================] - 0s 3ms/step - loss: 0.8711 - mse: 1.3617\n",
            "Epoch 211/500\n",
            "129/129 [==============================] - 1s 4ms/step - loss: 0.8716 - mse: 1.3585\n",
            "Epoch 212/500\n",
            "129/129 [==============================] - 0s 2ms/step - loss: 0.8677 - mse: 1.3450\n",
            "Epoch 213/500\n",
            "129/129 [==============================] - 0s 3ms/step - loss: 0.8689 - mse: 1.3389\n",
            "Epoch 214/500\n",
            "129/129 [==============================] - 0s 3ms/step - loss: 0.8710 - mse: 1.3502\n",
            "Epoch 215/500\n",
            "129/129 [==============================] - 0s 3ms/step - loss: 0.8677 - mse: 1.3388\n",
            "Epoch 216/500\n",
            "129/129 [==============================] - 0s 3ms/step - loss: 0.8698 - mse: 1.3505\n",
            "Epoch 217/500\n",
            "129/129 [==============================] - 0s 3ms/step - loss: 0.8674 - mse: 1.3311\n",
            "Epoch 218/500\n",
            "129/129 [==============================] - 0s 3ms/step - loss: 0.8700 - mse: 1.3502\n",
            "Epoch 219/500\n",
            "129/129 [==============================] - 0s 3ms/step - loss: 0.8728 - mse: 1.3522\n",
            "Epoch 220/500\n",
            "129/129 [==============================] - 0s 2ms/step - loss: 0.8669 - mse: 1.3516\n",
            "Epoch 221/500\n",
            "129/129 [==============================] - 0s 3ms/step - loss: 0.8688 - mse: 1.3367\n",
            "Epoch 222/500\n",
            "129/129 [==============================] - 0s 3ms/step - loss: 0.8703 - mse: 1.3486\n",
            "Epoch 223/500\n",
            "129/129 [==============================] - 0s 4ms/step - loss: 0.8652 - mse: 1.3335\n",
            "Epoch 224/500\n",
            "129/129 [==============================] - 0s 3ms/step - loss: 0.8704 - mse: 1.3460\n",
            "Epoch 225/500\n",
            "129/129 [==============================] - 0s 3ms/step - loss: 0.8691 - mse: 1.3438\n",
            "Epoch 226/500\n",
            "129/129 [==============================] - 0s 3ms/step - loss: 0.8641 - mse: 1.3412\n",
            "Epoch 227/500\n",
            "129/129 [==============================] - 0s 3ms/step - loss: 0.8724 - mse: 1.3585\n",
            "Epoch 228/500\n",
            "129/129 [==============================] - 0s 3ms/step - loss: 0.8696 - mse: 1.3415\n",
            "Epoch 229/500\n",
            "129/129 [==============================] - 0s 2ms/step - loss: 0.8664 - mse: 1.3222\n",
            "Epoch 230/500\n",
            "129/129 [==============================] - 0s 2ms/step - loss: 0.8675 - mse: 1.3347\n",
            "Epoch 231/500\n",
            "129/129 [==============================] - 0s 3ms/step - loss: 0.8704 - mse: 1.3547\n",
            "Epoch 232/500\n",
            "129/129 [==============================] - 0s 3ms/step - loss: 0.8690 - mse: 1.3445\n",
            "Epoch 233/500\n",
            "129/129 [==============================] - 0s 3ms/step - loss: 0.8706 - mse: 1.3507\n",
            "Epoch 234/500\n",
            "129/129 [==============================] - 0s 3ms/step - loss: 0.8684 - mse: 1.3450\n",
            "Epoch 235/500\n",
            "129/129 [==============================] - 0s 3ms/step - loss: 0.8671 - mse: 1.3295\n",
            "Epoch 236/500\n",
            "129/129 [==============================] - 0s 3ms/step - loss: 0.8668 - mse: 1.3446\n",
            "Epoch 237/500\n",
            "129/129 [==============================] - 0s 3ms/step - loss: 0.8671 - mse: 1.3398\n",
            "Epoch 238/500\n",
            "129/129 [==============================] - 0s 3ms/step - loss: 0.8667 - mse: 1.3326\n",
            "Epoch 239/500\n",
            "129/129 [==============================] - 0s 3ms/step - loss: 0.8659 - mse: 1.3437\n",
            "Epoch 240/500\n",
            "129/129 [==============================] - 0s 3ms/step - loss: 0.8662 - mse: 1.3441\n",
            "Epoch 241/500\n",
            "129/129 [==============================] - 0s 3ms/step - loss: 0.8673 - mse: 1.3386\n",
            "Epoch 242/500\n",
            "129/129 [==============================] - 0s 3ms/step - loss: 0.8653 - mse: 1.3277\n",
            "Epoch 243/500\n",
            "129/129 [==============================] - 0s 3ms/step - loss: 0.8734 - mse: 1.3643\n",
            "Epoch 244/500\n",
            "129/129 [==============================] - 0s 3ms/step - loss: 0.8697 - mse: 1.3471\n",
            "Epoch 245/500\n",
            "129/129 [==============================] - 1s 7ms/step - loss: 0.8663 - mse: 1.3268\n",
            "Epoch 246/500\n",
            "129/129 [==============================] - 1s 4ms/step - loss: 0.8664 - mse: 1.3346\n",
            "Epoch 247/500\n",
            "129/129 [==============================] - 1s 7ms/step - loss: 0.8669 - mse: 1.3344\n",
            "Epoch 248/500\n",
            "129/129 [==============================] - 1s 4ms/step - loss: 0.8703 - mse: 1.3378\n",
            "Epoch 249/500\n",
            "129/129 [==============================] - 0s 2ms/step - loss: 0.8712 - mse: 1.3482\n",
            "Epoch 250/500\n",
            "129/129 [==============================] - 0s 2ms/step - loss: 0.8647 - mse: 1.3322\n",
            "Epoch 251/500\n",
            "129/129 [==============================] - 0s 3ms/step - loss: 0.8677 - mse: 1.3351\n",
            "Epoch 252/500\n",
            "129/129 [==============================] - 0s 3ms/step - loss: 0.8744 - mse: 1.3645\n",
            "Epoch 253/500\n",
            "129/129 [==============================] - 0s 2ms/step - loss: 0.8699 - mse: 1.3535\n",
            "Epoch 254/500\n",
            "129/129 [==============================] - 0s 2ms/step - loss: 0.8644 - mse: 1.3259\n",
            "Epoch 255/500\n",
            "129/129 [==============================] - 0s 2ms/step - loss: 0.8683 - mse: 1.3426\n",
            "Epoch 256/500\n",
            "129/129 [==============================] - 0s 3ms/step - loss: 0.8674 - mse: 1.3433\n",
            "Epoch 257/500\n",
            "129/129 [==============================] - 0s 2ms/step - loss: 0.8644 - mse: 1.3347\n",
            "Epoch 258/500\n",
            "129/129 [==============================] - 0s 3ms/step - loss: 0.8635 - mse: 1.3226\n",
            "Epoch 259/500\n",
            "129/129 [==============================] - 0s 2ms/step - loss: 0.8687 - mse: 1.3398\n",
            "Epoch 260/500\n",
            "129/129 [==============================] - 0s 3ms/step - loss: 0.8680 - mse: 1.3367\n",
            "Epoch 261/500\n",
            "129/129 [==============================] - 0s 3ms/step - loss: 0.8694 - mse: 1.3471\n",
            "Epoch 262/500\n",
            "129/129 [==============================] - 0s 2ms/step - loss: 0.8707 - mse: 1.3388\n",
            "Epoch 263/500\n",
            "129/129 [==============================] - 0s 2ms/step - loss: 0.8667 - mse: 1.3370\n",
            "Epoch 264/500\n",
            "129/129 [==============================] - 0s 3ms/step - loss: 0.8675 - mse: 1.3417\n",
            "Epoch 265/500\n",
            "129/129 [==============================] - 0s 2ms/step - loss: 0.8708 - mse: 1.3502\n",
            "Epoch 266/500\n",
            "129/129 [==============================] - 0s 3ms/step - loss: 0.8785 - mse: 1.3612\n",
            "Epoch 267/500\n",
            "129/129 [==============================] - 0s 3ms/step - loss: 0.8639 - mse: 1.3245\n",
            "Epoch 268/500\n",
            "129/129 [==============================] - 0s 3ms/step - loss: 0.8670 - mse: 1.3469\n",
            "Epoch 269/500\n",
            "129/129 [==============================] - 0s 2ms/step - loss: 0.8657 - mse: 1.3252\n",
            "Epoch 270/500\n",
            "129/129 [==============================] - 0s 3ms/step - loss: 0.8702 - mse: 1.3441\n",
            "Epoch 271/500\n",
            "129/129 [==============================] - 0s 3ms/step - loss: 0.8624 - mse: 1.3267\n",
            "Epoch 272/500\n",
            "129/129 [==============================] - 0s 2ms/step - loss: 0.8739 - mse: 1.3687\n",
            "Epoch 273/500\n",
            "129/129 [==============================] - 0s 2ms/step - loss: 0.8677 - mse: 1.3395\n",
            "Epoch 274/500\n",
            "129/129 [==============================] - 0s 2ms/step - loss: 0.8685 - mse: 1.3403\n",
            "Epoch 275/500\n",
            "129/129 [==============================] - 0s 2ms/step - loss: 0.8662 - mse: 1.3246\n",
            "Epoch 276/500\n",
            "129/129 [==============================] - 0s 3ms/step - loss: 0.8748 - mse: 1.3588\n",
            "Epoch 277/500\n",
            "129/129 [==============================] - 0s 2ms/step - loss: 0.8686 - mse: 1.3525\n",
            "Epoch 278/500\n",
            "129/129 [==============================] - 0s 3ms/step - loss: 0.8683 - mse: 1.3492\n",
            "Epoch 279/500\n",
            "129/129 [==============================] - 0s 3ms/step - loss: 0.8710 - mse: 1.3521\n",
            "Epoch 280/500\n",
            "129/129 [==============================] - 0s 3ms/step - loss: 0.8685 - mse: 1.3437\n",
            "Epoch 281/500\n",
            "129/129 [==============================] - 0s 3ms/step - loss: 0.8704 - mse: 1.3389\n",
            "Epoch 282/500\n",
            "129/129 [==============================] - 0s 3ms/step - loss: 0.8585 - mse: 1.3140\n",
            "Epoch 283/500\n",
            "129/129 [==============================] - 0s 3ms/step - loss: 0.8658 - mse: 1.3401\n",
            "Epoch 284/500\n",
            "129/129 [==============================] - 0s 3ms/step - loss: 0.8645 - mse: 1.3264\n",
            "Epoch 285/500\n",
            "129/129 [==============================] - 0s 3ms/step - loss: 0.8616 - mse: 1.3149\n",
            "Epoch 286/500\n",
            "129/129 [==============================] - 0s 2ms/step - loss: 0.8711 - mse: 1.3512\n",
            "Epoch 287/500\n",
            "129/129 [==============================] - 0s 3ms/step - loss: 0.8715 - mse: 1.3517\n",
            "Epoch 288/500\n",
            "129/129 [==============================] - 0s 2ms/step - loss: 0.8658 - mse: 1.3173\n",
            "Epoch 289/500\n",
            "129/129 [==============================] - 0s 3ms/step - loss: 0.8666 - mse: 1.3387\n",
            "Epoch 290/500\n",
            "129/129 [==============================] - 0s 3ms/step - loss: 0.8710 - mse: 1.3474\n",
            "Epoch 291/500\n",
            "129/129 [==============================] - 0s 2ms/step - loss: 0.8695 - mse: 1.3464\n",
            "Epoch 292/500\n",
            "129/129 [==============================] - 0s 2ms/step - loss: 0.8697 - mse: 1.3481\n",
            "Epoch 293/500\n",
            "129/129 [==============================] - 0s 3ms/step - loss: 0.8678 - mse: 1.3441\n",
            "Epoch 294/500\n",
            "129/129 [==============================] - 0s 3ms/step - loss: 0.8685 - mse: 1.3306\n",
            "Epoch 295/500\n",
            "129/129 [==============================] - 0s 2ms/step - loss: 0.8716 - mse: 1.3442\n",
            "Epoch 296/500\n",
            "129/129 [==============================] - 0s 2ms/step - loss: 0.8669 - mse: 1.3252\n",
            "Epoch 297/500\n",
            "129/129 [==============================] - 0s 2ms/step - loss: 0.8671 - mse: 1.3424\n",
            "Epoch 298/500\n",
            "129/129 [==============================] - 0s 2ms/step - loss: 0.8675 - mse: 1.3390\n",
            "Epoch 299/500\n",
            "129/129 [==============================] - 0s 2ms/step - loss: 0.8693 - mse: 1.3432\n",
            "Epoch 300/500\n",
            "129/129 [==============================] - 0s 3ms/step - loss: 0.8662 - mse: 1.3298\n",
            "Epoch 301/500\n",
            "129/129 [==============================] - 0s 3ms/step - loss: 0.8677 - mse: 1.3400\n",
            "Epoch 302/500\n",
            "129/129 [==============================] - 0s 3ms/step - loss: 0.8670 - mse: 1.3492\n",
            "Epoch 303/500\n",
            "129/129 [==============================] - 0s 2ms/step - loss: 0.8674 - mse: 1.3292\n",
            "Epoch 304/500\n",
            "129/129 [==============================] - 0s 3ms/step - loss: 0.8666 - mse: 1.3489\n",
            "Epoch 305/500\n",
            "129/129 [==============================] - 0s 2ms/step - loss: 0.8634 - mse: 1.3224\n",
            "Epoch 306/500\n",
            "129/129 [==============================] - 0s 3ms/step - loss: 0.8632 - mse: 1.3169\n",
            "Epoch 307/500\n",
            "129/129 [==============================] - 0s 3ms/step - loss: 0.8642 - mse: 1.3378\n",
            "Epoch 308/500\n",
            "129/129 [==============================] - 0s 2ms/step - loss: 0.8707 - mse: 1.3445\n",
            "Epoch 309/500\n",
            "129/129 [==============================] - 0s 3ms/step - loss: 0.8720 - mse: 1.3466\n",
            "Epoch 310/500\n",
            "129/129 [==============================] - 0s 2ms/step - loss: 0.8697 - mse: 1.3497\n",
            "Epoch 311/500\n",
            "129/129 [==============================] - 0s 2ms/step - loss: 0.8679 - mse: 1.3334\n",
            "Epoch 312/500\n",
            "129/129 [==============================] - 0s 2ms/step - loss: 0.8600 - mse: 1.3223\n",
            "Epoch 313/500\n",
            "129/129 [==============================] - 0s 2ms/step - loss: 0.8691 - mse: 1.3500\n",
            "Epoch 314/500\n",
            "129/129 [==============================] - 0s 2ms/step - loss: 0.8667 - mse: 1.3386\n",
            "Epoch 315/500\n",
            "129/129 [==============================] - 0s 3ms/step - loss: 0.8691 - mse: 1.3326\n",
            "Epoch 316/500\n",
            "129/129 [==============================] - 0s 3ms/step - loss: 0.8615 - mse: 1.3218\n",
            "Epoch 317/500\n",
            "129/129 [==============================] - 0s 3ms/step - loss: 0.8664 - mse: 1.3237\n",
            "Epoch 318/500\n",
            "129/129 [==============================] - 0s 3ms/step - loss: 0.8747 - mse: 1.3657\n",
            "Epoch 319/500\n",
            "129/129 [==============================] - 0s 2ms/step - loss: 0.8707 - mse: 1.3623\n",
            "Epoch 320/500\n",
            "129/129 [==============================] - 0s 2ms/step - loss: 0.8670 - mse: 1.3286\n",
            "Epoch 321/500\n",
            "129/129 [==============================] - 0s 2ms/step - loss: 0.8626 - mse: 1.3180\n",
            "Epoch 322/500\n",
            "129/129 [==============================] - 0s 2ms/step - loss: 0.8663 - mse: 1.3340\n",
            "Epoch 323/500\n",
            "129/129 [==============================] - 0s 3ms/step - loss: 0.8740 - mse: 1.3558\n",
            "Epoch 324/500\n",
            "129/129 [==============================] - 0s 3ms/step - loss: 0.8660 - mse: 1.3274\n",
            "Epoch 325/500\n",
            "129/129 [==============================] - 0s 3ms/step - loss: 0.8637 - mse: 1.3266\n",
            "Epoch 326/500\n",
            "129/129 [==============================] - 0s 2ms/step - loss: 0.8622 - mse: 1.3174\n",
            "Epoch 327/500\n",
            "129/129 [==============================] - 0s 3ms/step - loss: 0.8633 - mse: 1.3303\n",
            "Epoch 328/500\n",
            "129/129 [==============================] - 0s 3ms/step - loss: 0.8655 - mse: 1.3244\n",
            "Epoch 329/500\n",
            "129/129 [==============================] - 0s 3ms/step - loss: 0.8663 - mse: 1.3258\n",
            "Epoch 330/500\n",
            "129/129 [==============================] - 0s 3ms/step - loss: 0.8684 - mse: 1.3337\n",
            "Epoch 331/500\n",
            "129/129 [==============================] - 0s 2ms/step - loss: 0.8702 - mse: 1.3482\n",
            "Epoch 332/500\n",
            "129/129 [==============================] - 0s 2ms/step - loss: 0.8645 - mse: 1.3291\n",
            "Epoch 333/500\n",
            "129/129 [==============================] - 0s 3ms/step - loss: 0.8728 - mse: 1.3409\n",
            "Epoch 334/500\n",
            "129/129 [==============================] - 0s 2ms/step - loss: 0.8653 - mse: 1.3235\n",
            "Epoch 335/500\n",
            "129/129 [==============================] - 0s 2ms/step - loss: 0.8636 - mse: 1.3202\n",
            "Epoch 336/500\n",
            "129/129 [==============================] - 0s 3ms/step - loss: 0.8627 - mse: 1.3164\n",
            "Epoch 337/500\n",
            "129/129 [==============================] - 0s 2ms/step - loss: 0.8663 - mse: 1.3229\n",
            "Epoch 338/500\n",
            "129/129 [==============================] - 0s 3ms/step - loss: 0.8732 - mse: 1.3691\n",
            "Epoch 339/500\n",
            "129/129 [==============================] - 0s 3ms/step - loss: 0.8642 - mse: 1.3196\n",
            "Epoch 340/500\n",
            "129/129 [==============================] - 0s 2ms/step - loss: 0.8640 - mse: 1.3363\n",
            "Epoch 341/500\n",
            "129/129 [==============================] - 0s 2ms/step - loss: 0.8668 - mse: 1.3278\n",
            "Epoch 342/500\n",
            "129/129 [==============================] - 0s 2ms/step - loss: 0.8645 - mse: 1.3124\n",
            "Epoch 343/500\n",
            "129/129 [==============================] - 0s 2ms/step - loss: 0.8662 - mse: 1.3305\n",
            "Epoch 344/500\n",
            "129/129 [==============================] - 0s 2ms/step - loss: 0.8653 - mse: 1.3329\n",
            "Epoch 345/500\n",
            "129/129 [==============================] - 0s 2ms/step - loss: 0.8625 - mse: 1.3168\n",
            "Epoch 346/500\n",
            "129/129 [==============================] - 0s 3ms/step - loss: 0.8691 - mse: 1.3516\n",
            "Epoch 347/500\n",
            "129/129 [==============================] - 0s 3ms/step - loss: 0.8675 - mse: 1.3363\n",
            "Epoch 348/500\n",
            "129/129 [==============================] - 0s 2ms/step - loss: 0.8629 - mse: 1.3199\n",
            "Epoch 349/500\n",
            "129/129 [==============================] - 0s 3ms/step - loss: 0.8710 - mse: 1.3610\n",
            "Epoch 350/500\n",
            "129/129 [==============================] - 0s 2ms/step - loss: 0.8640 - mse: 1.3231\n",
            "Epoch 351/500\n",
            "129/129 [==============================] - 0s 3ms/step - loss: 0.8641 - mse: 1.3210\n",
            "Epoch 352/500\n",
            "129/129 [==============================] - 0s 3ms/step - loss: 0.8628 - mse: 1.3078\n",
            "Epoch 353/500\n",
            "129/129 [==============================] - 0s 2ms/step - loss: 0.8629 - mse: 1.3186\n",
            "Epoch 354/500\n",
            "129/129 [==============================] - 0s 3ms/step - loss: 0.8693 - mse: 1.3407\n",
            "Epoch 355/500\n",
            "129/129 [==============================] - 0s 3ms/step - loss: 0.8644 - mse: 1.3399\n",
            "Epoch 356/500\n",
            "129/129 [==============================] - 0s 2ms/step - loss: 0.8692 - mse: 1.3433\n",
            "Epoch 357/500\n",
            "129/129 [==============================] - 0s 2ms/step - loss: 0.8640 - mse: 1.3158\n",
            "Epoch 358/500\n",
            "129/129 [==============================] - 0s 3ms/step - loss: 0.8645 - mse: 1.3364\n",
            "Epoch 359/500\n",
            "129/129 [==============================] - 0s 3ms/step - loss: 0.8616 - mse: 1.3340\n",
            "Epoch 360/500\n",
            "129/129 [==============================] - 0s 3ms/step - loss: 0.8730 - mse: 1.3482\n",
            "Epoch 361/500\n",
            "129/129 [==============================] - 0s 2ms/step - loss: 0.8683 - mse: 1.3377\n",
            "Epoch 362/500\n",
            "129/129 [==============================] - 0s 3ms/step - loss: 0.8637 - mse: 1.3228\n",
            "Epoch 363/500\n",
            "129/129 [==============================] - 0s 2ms/step - loss: 0.8656 - mse: 1.3428\n",
            "Epoch 364/500\n",
            "129/129 [==============================] - 0s 3ms/step - loss: 0.8658 - mse: 1.3333\n",
            "Epoch 365/500\n",
            "129/129 [==============================] - 0s 3ms/step - loss: 0.8642 - mse: 1.3205\n",
            "Epoch 366/500\n",
            "129/129 [==============================] - 0s 3ms/step - loss: 0.8671 - mse: 1.3354\n",
            "Epoch 367/500\n",
            "129/129 [==============================] - 0s 3ms/step - loss: 0.8702 - mse: 1.3356\n",
            "Epoch 368/500\n",
            "129/129 [==============================] - 0s 2ms/step - loss: 0.8642 - mse: 1.3275\n",
            "Epoch 369/500\n",
            "129/129 [==============================] - 0s 2ms/step - loss: 0.8634 - mse: 1.3068\n",
            "Epoch 370/500\n",
            "129/129 [==============================] - 0s 3ms/step - loss: 0.8673 - mse: 1.3285\n",
            "Epoch 371/500\n",
            "129/129 [==============================] - 0s 3ms/step - loss: 0.8705 - mse: 1.3533\n",
            "Epoch 372/500\n",
            "129/129 [==============================] - 0s 3ms/step - loss: 0.8668 - mse: 1.3325\n",
            "Epoch 373/500\n",
            "129/129 [==============================] - 0s 3ms/step - loss: 0.8705 - mse: 1.3469\n",
            "Epoch 374/500\n",
            "129/129 [==============================] - 0s 2ms/step - loss: 0.8664 - mse: 1.3261\n",
            "Epoch 375/500\n",
            "129/129 [==============================] - 0s 3ms/step - loss: 0.8670 - mse: 1.3389\n",
            "Epoch 376/500\n",
            "129/129 [==============================] - 0s 3ms/step - loss: 0.8646 - mse: 1.3392\n",
            "Epoch 377/500\n",
            "129/129 [==============================] - 0s 2ms/step - loss: 0.8606 - mse: 1.3116\n",
            "Epoch 378/500\n",
            "129/129 [==============================] - 0s 3ms/step - loss: 0.8642 - mse: 1.3162\n",
            "Epoch 379/500\n",
            "129/129 [==============================] - 0s 3ms/step - loss: 0.8630 - mse: 1.3241\n",
            "Epoch 380/500\n",
            "129/129 [==============================] - 0s 2ms/step - loss: 0.8626 - mse: 1.3237\n",
            "Epoch 381/500\n",
            "129/129 [==============================] - 0s 2ms/step - loss: 0.8659 - mse: 1.3341\n",
            "Epoch 382/500\n",
            "129/129 [==============================] - 0s 3ms/step - loss: 0.8650 - mse: 1.3224\n",
            "Epoch 383/500\n",
            "129/129 [==============================] - 0s 2ms/step - loss: 0.8663 - mse: 1.3343\n",
            "Epoch 384/500\n",
            "129/129 [==============================] - 0s 2ms/step - loss: 0.8668 - mse: 1.3247\n",
            "Epoch 385/500\n",
            "129/129 [==============================] - 0s 3ms/step - loss: 0.8620 - mse: 1.3249\n",
            "Epoch 386/500\n",
            "129/129 [==============================] - 0s 2ms/step - loss: 0.8621 - mse: 1.3153\n",
            "Epoch 387/500\n",
            "129/129 [==============================] - 0s 2ms/step - loss: 0.8688 - mse: 1.3491\n",
            "Epoch 388/500\n",
            "129/129 [==============================] - 0s 3ms/step - loss: 0.8668 - mse: 1.3325\n",
            "Epoch 389/500\n",
            "129/129 [==============================] - 0s 3ms/step - loss: 0.8696 - mse: 1.3399\n",
            "Epoch 390/500\n",
            "129/129 [==============================] - 0s 3ms/step - loss: 0.8690 - mse: 1.3485\n",
            "Epoch 391/500\n",
            "129/129 [==============================] - 0s 3ms/step - loss: 0.8625 - mse: 1.3206\n",
            "Epoch 392/500\n",
            "129/129 [==============================] - 0s 3ms/step - loss: 0.8620 - mse: 1.3125\n",
            "Epoch 393/500\n",
            "129/129 [==============================] - 0s 2ms/step - loss: 0.8696 - mse: 1.3430\n",
            "Epoch 394/500\n",
            "129/129 [==============================] - 0s 3ms/step - loss: 0.8610 - mse: 1.3238\n",
            "Epoch 395/500\n",
            "129/129 [==============================] - 0s 4ms/step - loss: 0.8648 - mse: 1.3359\n",
            "Epoch 396/500\n",
            "129/129 [==============================] - 1s 5ms/step - loss: 0.8662 - mse: 1.3234\n",
            "Epoch 397/500\n",
            "129/129 [==============================] - 1s 4ms/step - loss: 0.8678 - mse: 1.3426\n",
            "Epoch 398/500\n",
            "129/129 [==============================] - 0s 4ms/step - loss: 0.8641 - mse: 1.3243\n",
            "Epoch 399/500\n",
            "129/129 [==============================] - 1s 4ms/step - loss: 0.8609 - mse: 1.3129\n",
            "Epoch 400/500\n",
            "129/129 [==============================] - 1s 5ms/step - loss: 0.8626 - mse: 1.3248\n",
            "Epoch 401/500\n",
            "129/129 [==============================] - 0s 4ms/step - loss: 0.8669 - mse: 1.3301\n",
            "Epoch 402/500\n",
            "129/129 [==============================] - 1s 5ms/step - loss: 0.8615 - mse: 1.3074\n",
            "Epoch 403/500\n",
            "129/129 [==============================] - 1s 4ms/step - loss: 0.8624 - mse: 1.3183\n",
            "Epoch 404/500\n",
            "129/129 [==============================] - 1s 4ms/step - loss: 0.8604 - mse: 1.3116\n",
            "Epoch 405/500\n",
            "129/129 [==============================] - 1s 4ms/step - loss: 0.8688 - mse: 1.3432\n",
            "Epoch 406/500\n",
            "129/129 [==============================] - 1s 5ms/step - loss: 0.8582 - mse: 1.2971\n",
            "Epoch 407/500\n",
            "129/129 [==============================] - 0s 3ms/step - loss: 0.8648 - mse: 1.3213\n",
            "Epoch 408/500\n",
            "129/129 [==============================] - 0s 3ms/step - loss: 0.8644 - mse: 1.3343\n",
            "Epoch 409/500\n",
            "129/129 [==============================] - 0s 3ms/step - loss: 0.8663 - mse: 1.3316\n",
            "Epoch 410/500\n",
            "129/129 [==============================] - 1s 5ms/step - loss: 0.8667 - mse: 1.3260\n",
            "Epoch 411/500\n",
            "129/129 [==============================] - 1s 8ms/step - loss: 0.8608 - mse: 1.3263\n",
            "Epoch 412/500\n",
            "129/129 [==============================] - 1s 4ms/step - loss: 0.8593 - mse: 1.3176\n",
            "Epoch 413/500\n",
            "129/129 [==============================] - 0s 3ms/step - loss: 0.8620 - mse: 1.3262\n",
            "Epoch 414/500\n",
            "129/129 [==============================] - 1s 4ms/step - loss: 0.8668 - mse: 1.3341\n",
            "Epoch 415/500\n",
            "129/129 [==============================] - 0s 3ms/step - loss: 0.8646 - mse: 1.3266\n",
            "Epoch 416/500\n",
            "129/129 [==============================] - 0s 3ms/step - loss: 0.8677 - mse: 1.3321\n",
            "Epoch 417/500\n",
            "129/129 [==============================] - 0s 3ms/step - loss: 0.8629 - mse: 1.3256\n",
            "Epoch 418/500\n",
            "129/129 [==============================] - 0s 3ms/step - loss: 0.8634 - mse: 1.3234\n",
            "Epoch 419/500\n",
            "129/129 [==============================] - 1s 5ms/step - loss: 0.8624 - mse: 1.3163\n",
            "Epoch 420/500\n",
            "129/129 [==============================] - 1s 7ms/step - loss: 0.8635 - mse: 1.3238\n",
            "Epoch 421/500\n",
            "129/129 [==============================] - 0s 3ms/step - loss: 0.8660 - mse: 1.3319\n",
            "Epoch 422/500\n",
            "129/129 [==============================] - 0s 3ms/step - loss: 0.8760 - mse: 1.3713\n",
            "Epoch 423/500\n",
            "129/129 [==============================] - 0s 2ms/step - loss: 0.8682 - mse: 1.3259\n",
            "Epoch 424/500\n",
            "129/129 [==============================] - 0s 1ms/step - loss: 0.8693 - mse: 1.3283\n",
            "Epoch 425/500\n",
            "129/129 [==============================] - 0s 1ms/step - loss: 0.8665 - mse: 1.3348\n",
            "Epoch 426/500\n",
            "129/129 [==============================] - 0s 2ms/step - loss: 0.8619 - mse: 1.3132\n",
            "Epoch 427/500\n",
            "129/129 [==============================] - 0s 1ms/step - loss: 0.8601 - mse: 1.3229\n",
            "Epoch 428/500\n",
            "129/129 [==============================] - 0s 2ms/step - loss: 0.8601 - mse: 1.3135\n",
            "Epoch 429/500\n",
            "129/129 [==============================] - 0s 2ms/step - loss: 0.8663 - mse: 1.3341\n",
            "Epoch 430/500\n",
            "129/129 [==============================] - 0s 2ms/step - loss: 0.8621 - mse: 1.3085\n",
            "Epoch 431/500\n",
            "129/129 [==============================] - 0s 2ms/step - loss: 0.8632 - mse: 1.3209\n",
            "Epoch 432/500\n",
            "129/129 [==============================] - 0s 2ms/step - loss: 0.8661 - mse: 1.3332\n",
            "Epoch 433/500\n",
            "129/129 [==============================] - 0s 2ms/step - loss: 0.8670 - mse: 1.3297\n",
            "Epoch 434/500\n",
            "129/129 [==============================] - 0s 2ms/step - loss: 0.8625 - mse: 1.3199\n",
            "Epoch 435/500\n",
            "129/129 [==============================] - 0s 2ms/step - loss: 0.8622 - mse: 1.3148\n",
            "Epoch 436/500\n",
            "129/129 [==============================] - 0s 2ms/step - loss: 0.8724 - mse: 1.3655\n",
            "Epoch 437/500\n",
            "129/129 [==============================] - 0s 2ms/step - loss: 0.8636 - mse: 1.3248\n",
            "Epoch 438/500\n",
            "129/129 [==============================] - 0s 2ms/step - loss: 0.8681 - mse: 1.3369\n",
            "Epoch 439/500\n",
            "129/129 [==============================] - 0s 1ms/step - loss: 0.8653 - mse: 1.3249\n",
            "Epoch 440/500\n",
            "129/129 [==============================] - 0s 2ms/step - loss: 0.8623 - mse: 1.3170\n",
            "Epoch 441/500\n",
            "129/129 [==============================] - 0s 2ms/step - loss: 0.8669 - mse: 1.3255\n",
            "Epoch 442/500\n",
            "129/129 [==============================] - 0s 2ms/step - loss: 0.8604 - mse: 1.3184\n",
            "Epoch 443/500\n",
            "129/129 [==============================] - 0s 2ms/step - loss: 0.8612 - mse: 1.3154\n",
            "Epoch 444/500\n",
            "129/129 [==============================] - 0s 2ms/step - loss: 0.8621 - mse: 1.3171\n",
            "Epoch 445/500\n",
            "129/129 [==============================] - 0s 2ms/step - loss: 0.8700 - mse: 1.3501\n",
            "Epoch 446/500\n",
            "129/129 [==============================] - 0s 1ms/step - loss: 0.8598 - mse: 1.3110\n",
            "Epoch 447/500\n",
            "129/129 [==============================] - 0s 2ms/step - loss: 0.8676 - mse: 1.3387\n",
            "Epoch 448/500\n",
            "129/129 [==============================] - 0s 1ms/step - loss: 0.8633 - mse: 1.3270\n",
            "Epoch 449/500\n",
            "129/129 [==============================] - 0s 2ms/step - loss: 0.8643 - mse: 1.3238\n",
            "Epoch 450/500\n",
            "129/129 [==============================] - 0s 2ms/step - loss: 0.8708 - mse: 1.3419\n",
            "Epoch 451/500\n",
            "129/129 [==============================] - 0s 2ms/step - loss: 0.8630 - mse: 1.3170\n",
            "Epoch 452/500\n",
            "129/129 [==============================] - 0s 1ms/step - loss: 0.8588 - mse: 1.3100\n",
            "Epoch 453/500\n",
            "129/129 [==============================] - 0s 2ms/step - loss: 0.8588 - mse: 1.2851\n",
            "Epoch 454/500\n",
            "129/129 [==============================] - 0s 2ms/step - loss: 0.8625 - mse: 1.3131\n",
            "Epoch 455/500\n",
            "129/129 [==============================] - 0s 2ms/step - loss: 0.8661 - mse: 1.3274\n",
            "Epoch 456/500\n",
            "129/129 [==============================] - 0s 2ms/step - loss: 0.8668 - mse: 1.3246\n",
            "Epoch 457/500\n",
            "129/129 [==============================] - 0s 2ms/step - loss: 0.8669 - mse: 1.3372\n",
            "Epoch 458/500\n",
            "129/129 [==============================] - 0s 2ms/step - loss: 0.8649 - mse: 1.3257\n",
            "Epoch 459/500\n",
            "129/129 [==============================] - 0s 1ms/step - loss: 0.8624 - mse: 1.3320\n",
            "Epoch 460/500\n",
            "129/129 [==============================] - 0s 2ms/step - loss: 0.8664 - mse: 1.3287\n",
            "Epoch 461/500\n",
            "129/129 [==============================] - 0s 2ms/step - loss: 0.8639 - mse: 1.3288\n",
            "Epoch 462/500\n",
            "129/129 [==============================] - 0s 1ms/step - loss: 0.8613 - mse: 1.3040\n",
            "Epoch 463/500\n",
            "129/129 [==============================] - 0s 1ms/step - loss: 0.8687 - mse: 1.3330\n",
            "Epoch 464/500\n",
            "129/129 [==============================] - 0s 2ms/step - loss: 0.8619 - mse: 1.3195\n",
            "Epoch 465/500\n",
            "129/129 [==============================] - 0s 2ms/step - loss: 0.8688 - mse: 1.3320\n",
            "Epoch 466/500\n",
            "129/129 [==============================] - 0s 2ms/step - loss: 0.8648 - mse: 1.3318\n",
            "Epoch 467/500\n",
            "129/129 [==============================] - 0s 2ms/step - loss: 0.8666 - mse: 1.3220\n",
            "Epoch 468/500\n",
            "129/129 [==============================] - 0s 2ms/step - loss: 0.8619 - mse: 1.3193\n",
            "Epoch 469/500\n",
            "129/129 [==============================] - 0s 1ms/step - loss: 0.8607 - mse: 1.3071\n",
            "Epoch 470/500\n",
            "129/129 [==============================] - 0s 1ms/step - loss: 0.8612 - mse: 1.3162\n",
            "Epoch 471/500\n",
            "129/129 [==============================] - 0s 2ms/step - loss: 0.8644 - mse: 1.3298\n",
            "Epoch 472/500\n",
            "129/129 [==============================] - 0s 1ms/step - loss: 0.8779 - mse: 1.3707\n",
            "Epoch 473/500\n",
            "129/129 [==============================] - 0s 1ms/step - loss: 0.8598 - mse: 1.3130\n",
            "Epoch 474/500\n",
            "129/129 [==============================] - 0s 1ms/step - loss: 0.8624 - mse: 1.3155\n",
            "Epoch 475/500\n",
            "129/129 [==============================] - 0s 2ms/step - loss: 0.8721 - mse: 1.3445\n",
            "Epoch 476/500\n",
            "129/129 [==============================] - 0s 2ms/step - loss: 0.8610 - mse: 1.3240\n",
            "Epoch 477/500\n",
            "129/129 [==============================] - 0s 2ms/step - loss: 0.8595 - mse: 1.3111\n",
            "Epoch 478/500\n",
            "129/129 [==============================] - 0s 1ms/step - loss: 0.8619 - mse: 1.3037\n",
            "Epoch 479/500\n",
            "129/129 [==============================] - 0s 2ms/step - loss: 0.8645 - mse: 1.3222\n",
            "Epoch 480/500\n",
            "129/129 [==============================] - 0s 2ms/step - loss: 0.8696 - mse: 1.3497\n",
            "Epoch 481/500\n",
            "129/129 [==============================] - 0s 2ms/step - loss: 0.8646 - mse: 1.3355\n",
            "Epoch 482/500\n",
            "129/129 [==============================] - 0s 1ms/step - loss: 0.8641 - mse: 1.3173\n",
            "Epoch 483/500\n",
            "129/129 [==============================] - 0s 1ms/step - loss: 0.8703 - mse: 1.3414\n",
            "Epoch 484/500\n",
            "129/129 [==============================] - 0s 1ms/step - loss: 0.8635 - mse: 1.3158\n",
            "Epoch 485/500\n",
            "129/129 [==============================] - 0s 2ms/step - loss: 0.8618 - mse: 1.3128\n",
            "Epoch 486/500\n",
            "129/129 [==============================] - 0s 2ms/step - loss: 0.8635 - mse: 1.3112\n",
            "Epoch 487/500\n",
            "129/129 [==============================] - 0s 2ms/step - loss: 0.8704 - mse: 1.3531\n",
            "Epoch 488/500\n",
            "129/129 [==============================] - 0s 2ms/step - loss: 0.8618 - mse: 1.3120\n",
            "Epoch 489/500\n",
            "129/129 [==============================] - 0s 2ms/step - loss: 0.8653 - mse: 1.3159\n",
            "Epoch 490/500\n",
            "129/129 [==============================] - 0s 2ms/step - loss: 0.8562 - mse: 1.2984\n",
            "Epoch 491/500\n",
            "129/129 [==============================] - 0s 2ms/step - loss: 0.8651 - mse: 1.3238\n",
            "Epoch 492/500\n",
            "129/129 [==============================] - 0s 1ms/step - loss: 0.8606 - mse: 1.3065\n",
            "Epoch 493/500\n",
            "129/129 [==============================] - 0s 2ms/step - loss: 0.8610 - mse: 1.3164\n",
            "Epoch 494/500\n",
            "129/129 [==============================] - 0s 2ms/step - loss: 0.8658 - mse: 1.3185\n",
            "Epoch 495/500\n",
            "129/129 [==============================] - 0s 2ms/step - loss: 0.8624 - mse: 1.3070\n",
            "Epoch 496/500\n",
            "129/129 [==============================] - 0s 1ms/step - loss: 0.8673 - mse: 1.3330\n",
            "Epoch 497/500\n",
            "129/129 [==============================] - 0s 2ms/step - loss: 0.8643 - mse: 1.3350\n",
            "Epoch 498/500\n",
            "129/129 [==============================] - 0s 2ms/step - loss: 0.8663 - mse: 1.3389\n",
            "Epoch 499/500\n",
            "129/129 [==============================] - 0s 2ms/step - loss: 0.8600 - mse: 1.3117\n",
            "Epoch 500/500\n",
            "129/129 [==============================] - 0s 2ms/step - loss: 0.8614 - mse: 1.3148\n"
          ]
        },
        {
          "output_type": "execute_result",
          "data": {
            "text/plain": [
              "<keras.callbacks.History at 0x7faf0178b510>"
            ]
          },
          "metadata": {},
          "execution_count": 43
        }
      ]
    },
    {
      "cell_type": "code",
      "source": [
        "ypreds3=model3.predict(X_test)\n",
        "plot_boston(ypreds3)"
      ],
      "metadata": {
        "colab": {
          "base_uri": "https://localhost:8080/",
          "height": 428
        },
        "id": "2kKsCr0hhxcr",
        "outputId": "3c0a3d1a-ecfe-462f-ca26-0f344021b4b8"
      },
      "execution_count": null,
      "outputs": [
        {
          "output_type": "display_data",
          "data": {
            "text/plain": [
              "<Figure size 720x504 with 1 Axes>"
            ],
            "image/png": "[encoded data removed]"
          },
          "metadata": {
            "needs_background": "light"
          }
        }
      ]
    },
    {
      "cell_type": "code",
      "source": [
        "mae_mse(y_test,ypreds3)"
      ],
      "metadata": {
        "colab": {
          "base_uri": "https://localhost:8080/"
        },
        "id": "v9ZhsnNBieH2",
        "outputId": "76aa8cf0-1bfe-47b2-e5ca-578d9604f412"
      },
      "execution_count": null,
      "outputs": [
        {
          "output_type": "execute_result",
          "data": {
            "text/plain": [
              "<tf.Tensor: shape=(), dtype=float32, numpy=0.8797036>"
            ]
          },
          "metadata": {},
          "execution_count": 46
        }
      ]
    },
    {
      "cell_type": "code",
      "source": [
        "mae_mse(y_test,ypreds3,1)"
      ],
      "metadata": {
        "colab": {
          "base_uri": "https://localhost:8080/",
          "height": 165
        },
        "id": "jRmVl2tkijxl",
        "outputId": "f6698d4d-be1e-40fa-d509-6b9024988aee"
      },
      "execution_count": null,
      "outputs": [
        {
          "output_type": "error",
          "ename": "NameError",
          "evalue": "ignored",
          "traceback": [
            "\u001b[0;31m---------------------------------------------------------------------------\u001b[0m",
            "\u001b[0;31mNameError\u001b[0m                                 Traceback (most recent call last)",
            "\u001b[0;32m<ipython-input-1-784bbf441b1a>\u001b[0m in \u001b[0;36m<module>\u001b[0;34m()\u001b[0m\n\u001b[0;32m----> 1\u001b[0;31m \u001b[0mmae_mse\u001b[0m\u001b[0;34m(\u001b[0m\u001b[0my_test\u001b[0m\u001b[0;34m,\u001b[0m\u001b[0mypreds3\u001b[0m\u001b[0;34m,\u001b[0m\u001b[0;36m1\u001b[0m\u001b[0;34m)\u001b[0m\u001b[0;34m\u001b[0m\u001b[0;34m\u001b[0m\u001b[0m\n\u001b[0m",
            "\u001b[0;31mNameError\u001b[0m: name 'mae_mse' is not defined"
          ]
        }
      ]
    },
    {
      "cell_type": "code",
      "source": [
        "# Save model2\n",
        "model2.save('bostonModel')"
      ],
      "metadata": {
        "colab": {
          "base_uri": "https://localhost:8080/"
        },
        "id": "i5qF7NBuikzn",
        "outputId": "2f073975-ac70-491f-a261-306d86740779"
      },
      "execution_count": null,
      "outputs": [
        {
          "output_type": "stream",
          "name": "stdout",
          "text": [
            "INFO:tensorflow:Assets written to: bostonModel/assets\n"
          ]
        }
      ]
    },
    {
      "cell_type": "code",
      "source": [
        "load_model = tf.keras.models.load_model('/content/bostonModel')"
      ],
      "metadata": {
        "id": "o-7n-sBCkgK0"
      },
      "execution_count": null,
      "outputs": []
    },
    {
      "cell_type": "code",
      "source": [
        "load_model.summary()"
      ],
      "metadata": {
        "colab": {
          "base_uri": "https://localhost:8080/"
        },
        "id": "3qjR_fDPolOT",
        "outputId": "f3ab4d82-7fa9-40fa-97d6-2cd5bab717ac"
      },
      "execution_count": null,
      "outputs": [
        {
          "output_type": "stream",
          "name": "stdout",
          "text": [
            "Model: \"sequential\"\n",
            "_________________________________________________________________\n",
            " Layer (type)                Output Shape              Param #   \n",
            "=================================================================\n",
            " dense (Dense)               (None, 10)                90        \n",
            "                                                                 \n",
            " dense_1 (Dense)             (None, 1)                 11        \n",
            "                                                                 \n",
            "=================================================================\n",
            "Total params: 101\n",
            "Trainable params: 101\n",
            "Non-trainable params: 0\n",
            "_________________________________________________________________\n"
          ]
        }
      ]
    },
    {
      "cell_type": "markdown",
      "source": [
        "### A larger Example"
      ],
      "metadata": {
        "id": "SsgTeowlola0"
      }
    },
    {
      "cell_type": "code",
      "source": [
        "import tensorflow as tf\n",
        "import pandas as pd"
      ],
      "metadata": {
        "id": "pHR-h4-oolgZ"
      },
      "execution_count": null,
      "outputs": []
    },
    {
      "cell_type": "code",
      "source": [
        "insurance = pd.read_csv('https://raw.githubusercontent.com/stedy/Machine-Learning-with-R-datasets/master/insurance.csv')\n",
        "insurance"
      ],
      "metadata": {
        "colab": {
          "base_uri": "https://localhost:8080/",
          "height": 423
        },
        "id": "s3PChr7Bolkv",
        "outputId": "4e896e47-4d37-4bde-fdfd-fea53a9df7b8"
      },
      "execution_count": null,
      "outputs": [
        {
          "output_type": "execute_result",
          "data": {
            "text/plain": [
              "      age     sex     bmi  children smoker     region      charges\n",
              "0      19  female  27.900         0    yes  southwest  16884.92400\n",
              "1      18    male  33.770         1     no  southeast   1725.55230\n",
              "2      28    male  33.000         3     no  southeast   4449.46200\n",
              "3      33    male  22.705         0     no  northwest  21984.47061\n",
              "4      32    male  28.880         0     no  northwest   3866.85520\n",
              "...   ...     ...     ...       ...    ...        ...          ...\n",
              "1333   50    male  30.970         3     no  northwest  10600.54830\n",
              "1334   18  female  31.920         0     no  northeast   2205.98080\n",
              "1335   18  female  36.850         0     no  southeast   1629.83350\n",
              "1336   21  female  25.800         0     no  southwest   2007.94500\n",
              "1337   61  female  29.070         0    yes  northwest  29141.36030\n",
              "\n",
              "[1338 rows x 7 columns]"
            ],
            "text/html": [
              "\n",
              "  <div id=\"df-2ffbf1d3-f924-40cc-9e83-d7c4f1d80ff0\">\n",
              "    <div class=\"colab-df-container\">\n",
              "      <div>\n",
              "<style scoped>\n",
              "    .dataframe tbody tr th:only-of-type {\n",
              "        vertical-align: middle;\n",
              "    }\n",
              "\n",
              "    .dataframe tbody tr th {\n",
              "        vertical-align: top;\n",
              "    }\n",
              "\n",
              "    .dataframe thead th {\n",
              "        text-align: right;\n",
              "    }\n",
              "</style>\n",
              "<table border=\"1\" class=\"dataframe\">\n",
              "  <thead>\n",
              "    <tr style=\"text-align: right;\">\n",
              "      <th></th>\n",
              "      <th>age</th>\n",
              "      <th>sex</th>\n",
              "      <th>bmi</th>\n",
              "      <th>children</th>\n",
              "      <th>smoker</th>\n",
              "      <th>region</th>\n",
              "      <th>charges</th>\n",
              "    </tr>\n",
              "  </thead>\n",
              "  <tbody>\n",
              "    <tr>\n",
              "      <th>0</th>\n",
              "      <td>19</td>\n",
              "      <td>female</td>\n",
              "      <td>27.900</td>\n",
              "      <td>0</td>\n",
              "      <td>yes</td>\n",
              "      <td>southwest</td>\n",
              "      <td>16884.92400</td>\n",
              "    </tr>\n",
              "    <tr>\n",
              "      <th>1</th>\n",
              "      <td>18</td>\n",
              "      <td>male</td>\n",
              "      <td>33.770</td>\n",
              "      <td>1</td>\n",
              "      <td>no</td>\n",
              "      <td>southeast</td>\n",
              "      <td>1725.55230</td>\n",
              "    </tr>\n",
              "    <tr>\n",
              "      <th>2</th>\n",
              "      <td>28</td>\n",
              "      <td>male</td>\n",
              "      <td>33.000</td>\n",
              "      <td>3</td>\n",
              "      <td>no</td>\n",
              "      <td>southeast</td>\n",
              "      <td>4449.46200</td>\n",
              "    </tr>\n",
              "    <tr>\n",
              "      <th>3</th>\n",
              "      <td>33</td>\n",
              "      <td>male</td>\n",
              "      <td>22.705</td>\n",
              "      <td>0</td>\n",
              "      <td>no</td>\n",
              "      <td>northwest</td>\n",
              "      <td>21984.47061</td>\n",
              "    </tr>\n",
              "    <tr>\n",
              "      <th>4</th>\n",
              "      <td>32</td>\n",
              "      <td>male</td>\n",
              "      <td>28.880</td>\n",
              "      <td>0</td>\n",
              "      <td>no</td>\n",
              "      <td>northwest</td>\n",
              "      <td>3866.85520</td>\n",
              "    </tr>\n",
              "    <tr>\n",
              "      <th>...</th>\n",
              "      <td>...</td>\n",
              "      <td>...</td>\n",
              "      <td>...</td>\n",
              "      <td>...</td>\n",
              "      <td>...</td>\n",
              "      <td>...</td>\n",
              "      <td>...</td>\n",
              "    </tr>\n",
              "    <tr>\n",
              "      <th>1333</th>\n",
              "      <td>50</td>\n",
              "      <td>male</td>\n",
              "      <td>30.970</td>\n",
              "      <td>3</td>\n",
              "      <td>no</td>\n",
              "      <td>northwest</td>\n",
              "      <td>10600.54830</td>\n",
              "    </tr>\n",
              "    <tr>\n",
              "      <th>1334</th>\n",
              "      <td>18</td>\n",
              "      <td>female</td>\n",
              "      <td>31.920</td>\n",
              "      <td>0</td>\n",
              "      <td>no</td>\n",
              "      <td>northeast</td>\n",
              "      <td>2205.98080</td>\n",
              "    </tr>\n",
              "    <tr>\n",
              "      <th>1335</th>\n",
              "      <td>18</td>\n",
              "      <td>female</td>\n",
              "      <td>36.850</td>\n",
              "      <td>0</td>\n",
              "      <td>no</td>\n",
              "      <td>southeast</td>\n",
              "      <td>1629.83350</td>\n",
              "    </tr>\n",
              "    <tr>\n",
              "      <th>1336</th>\n",
              "      <td>21</td>\n",
              "      <td>female</td>\n",
              "      <td>25.800</td>\n",
              "      <td>0</td>\n",
              "      <td>no</td>\n",
              "      <td>southwest</td>\n",
              "      <td>2007.94500</td>\n",
              "    </tr>\n",
              "    <tr>\n",
              "      <th>1337</th>\n",
              "      <td>61</td>\n",
              "      <td>female</td>\n",
              "      <td>29.070</td>\n",
              "      <td>0</td>\n",
              "      <td>yes</td>\n",
              "      <td>northwest</td>\n",
              "      <td>29141.36030</td>\n",
              "    </tr>\n",
              "  </tbody>\n",
              "</table>\n",
              "<p>1338 rows × 7 columns</p>\n",
              "</div>\n",
              "      <button class=\"colab-df-convert\" onclick=\"convertToInteractive('df-2ffbf1d3-f924-40cc-9e83-d7c4f1d80ff0')\"\n",
              "              title=\"Convert this dataframe to an interactive table.\"\n",
              "              style=\"display:none;\">\n",
              "        \n",
              "  <svg xmlns=\"http://www.w3.org/2000/svg\" height=\"24px\"viewBox=\"0 0 24 24\"\n",
              "       width=\"24px\">\n",
              "    <path d=\"M0 0h24v24H0V0z\" fill=\"none\"/>\n",
              "    <path d=\"M18.56 5.44l.94 2.06.94-2.06 2.06-.94-2.06-.94-.94-2.06-.94 2.06-2.06.94zm-11 1L8.5 8.5l.94-2.06 2.06-.94-2.06-.94L8.5 2.5l-.94 2.06-2.06.94zm10 10l.94 2.06.94-2.06 2.06-.94-2.06-.94-.94-2.06-.94 2.06-2.06.94z\"/><path d=\"M17.41 7.96l-1.37-1.37c-.4-.4-.92-.59-1.43-.59-.52 0-1.04.2-1.43.59L10.3 9.45l-7.72 7.72c-.78.78-.78 2.05 0 2.83L4 21.41c.39.39.9.59 1.41.59.51 0 1.02-.2 1.41-.59l7.78-7.78 2.81-2.81c.8-.78.8-2.07 0-2.86zM5.41 20L4 18.59l7.72-7.72 1.47 1.35L5.41 20z\"/>\n",
              "  </svg>\n",
              "      </button>\n",
              "      \n",
              "  <style>\n",
              "    .colab-df-container {\n",
              "      display:flex;\n",
              "      flex-wrap:wrap;\n",
              "      gap: 12px;\n",
              "    }\n",
              "\n",
              "    .colab-df-convert {\n",
              "      background-color: #E8F0FE;\n",
              "      border: none;\n",
              "      border-radius: 50%;\n",
              "      cursor: pointer;\n",
              "      display: none;\n",
              "      fill: #1967D2;\n",
              "      height: 32px;\n",
              "      padding: 0 0 0 0;\n",
              "      width: 32px;\n",
              "    }\n",
              "\n",
              "    .colab-df-convert:hover {\n",
              "      background-color: #E2EBFA;\n",
              "      box-shadow: 0px 1px 2px rgba(60, 64, 67, 0.3), 0px 1px 3px 1px rgba(60, 64, 67, 0.15);\n",
              "      fill: #174EA6;\n",
              "    }\n",
              "\n",
              "    [theme=dark] .colab-df-convert {\n",
              "      background-color: #3B4455;\n",
              "      fill: #D2E3FC;\n",
              "    }\n",
              "\n",
              "    [theme=dark] .colab-df-convert:hover {\n",
              "      background-color: #434B5C;\n",
              "      box-shadow: 0px 1px 3px 1px rgba(0, 0, 0, 0.15);\n",
              "      filter: drop-shadow(0px 1px 2px rgba(0, 0, 0, 0.3));\n",
              "      fill: #FFFFFF;\n",
              "    }\n",
              "  </style>\n",
              "\n",
              "      <script>\n",
              "        const buttonEl =\n",
              "          document.querySelector('#df-2ffbf1d3-f924-40cc-9e83-d7c4f1d80ff0 button.colab-df-convert');\n",
              "        buttonEl.style.display =\n",
              "          google.colab.kernel.accessAllowed ? 'block' : 'none';\n",
              "\n",
              "        async function convertToInteractive(key) {\n",
              "          const element = document.querySelector('#df-2ffbf1d3-f924-40cc-9e83-d7c4f1d80ff0');\n",
              "          const dataTable =\n",
              "            await google.colab.kernel.invokeFunction('convertToInteractive',\n",
              "                                                     [key], {});\n",
              "          if (!dataTable) return;\n",
              "\n",
              "          const docLinkHtml = 'Like what you see? Visit the ' +\n",
              "            '<a target=\"_blank\" href=https://colab.research.google.com/notebooks/data_table.ipynb>data table notebook</a>'\n",
              "            + ' to learn more about interactive tables.';\n",
              "          element.innerHTML = '';\n",
              "          dataTable['output_type'] = 'display_data';\n",
              "          await google.colab.output.renderOutput(dataTable, element);\n",
              "          const docLink = document.createElement('div');\n",
              "          docLink.innerHTML = docLinkHtml;\n",
              "          element.appendChild(docLink);\n",
              "        }\n",
              "      </script>\n",
              "    </div>\n",
              "  </div>\n",
              "  "
            ]
          },
          "metadata": {},
          "execution_count": 15
        }
      ]
    },
    {
      "cell_type": "code",
      "source": [
        "insurance_onehot = pd.get_dummies(insurance)"
      ],
      "metadata": {
        "id": "4mIplj9lolpO"
      },
      "execution_count": null,
      "outputs": []
    },
    {
      "cell_type": "code",
      "source": [
        "X = insurance_onehot.drop('charges',axis=1)\n",
        "y=insurance_onehot['charges']"
      ],
      "metadata": {
        "id": "Kf9UFkgkol1w"
      },
      "execution_count": null,
      "outputs": []
    },
    {
      "cell_type": "code",
      "source": [
        "X.head()"
      ],
      "metadata": {
        "colab": {
          "base_uri": "https://localhost:8080/",
          "height": 250
        },
        "id": "k3WfvNOyol74",
        "outputId": "9d4f0add-1f30-4a36-bec3-d77fbbe14f72"
      },
      "execution_count": null,
      "outputs": [
        {
          "output_type": "execute_result",
          "data": {
            "text/plain": [
              "   age     bmi  children  sex_female  sex_male  smoker_no  smoker_yes  \\\n",
              "0   19  27.900         0           1         0          0           1   \n",
              "1   18  33.770         1           0         1          1           0   \n",
              "2   28  33.000         3           0         1          1           0   \n",
              "3   33  22.705         0           0         1          1           0   \n",
              "4   32  28.880         0           0         1          1           0   \n",
              "\n",
              "   region_northeast  region_northwest  region_southeast  region_southwest  \n",
              "0                 0                 0                 0                 1  \n",
              "1                 0                 0                 1                 0  \n",
              "2                 0                 0                 1                 0  \n",
              "3                 0                 1                 0                 0  \n",
              "4                 0                 1                 0                 0  "
            ],
            "text/html": [
              "\n",
              "  <div id=\"df-49087007-173f-4726-bff7-e784753186bc\">\n",
              "    <div class=\"colab-df-container\">\n",
              "      <div>\n",
              "<style scoped>\n",
              "    .dataframe tbody tr th:only-of-type {\n",
              "        vertical-align: middle;\n",
              "    }\n",
              "\n",
              "    .dataframe tbody tr th {\n",
              "        vertical-align: top;\n",
              "    }\n",
              "\n",
              "    .dataframe thead th {\n",
              "        text-align: right;\n",
              "    }\n",
              "</style>\n",
              "<table border=\"1\" class=\"dataframe\">\n",
              "  <thead>\n",
              "    <tr style=\"text-align: right;\">\n",
              "      <th></th>\n",
              "      <th>age</th>\n",
              "      <th>bmi</th>\n",
              "      <th>children</th>\n",
              "      <th>sex_female</th>\n",
              "      <th>sex_male</th>\n",
              "      <th>smoker_no</th>\n",
              "      <th>smoker_yes</th>\n",
              "      <th>region_northeast</th>\n",
              "      <th>region_northwest</th>\n",
              "      <th>region_southeast</th>\n",
              "      <th>region_southwest</th>\n",
              "    </tr>\n",
              "  </thead>\n",
              "  <tbody>\n",
              "    <tr>\n",
              "      <th>0</th>\n",
              "      <td>19</td>\n",
              "      <td>27.900</td>\n",
              "      <td>0</td>\n",
              "      <td>1</td>\n",
              "      <td>0</td>\n",
              "      <td>0</td>\n",
              "      <td>1</td>\n",
              "      <td>0</td>\n",
              "      <td>0</td>\n",
              "      <td>0</td>\n",
              "      <td>1</td>\n",
              "    </tr>\n",
              "    <tr>\n",
              "      <th>1</th>\n",
              "      <td>18</td>\n",
              "      <td>33.770</td>\n",
              "      <td>1</td>\n",
              "      <td>0</td>\n",
              "      <td>1</td>\n",
              "      <td>1</td>\n",
              "      <td>0</td>\n",
              "      <td>0</td>\n",
              "      <td>0</td>\n",
              "      <td>1</td>\n",
              "      <td>0</td>\n",
              "    </tr>\n",
              "    <tr>\n",
              "      <th>2</th>\n",
              "      <td>28</td>\n",
              "      <td>33.000</td>\n",
              "      <td>3</td>\n",
              "      <td>0</td>\n",
              "      <td>1</td>\n",
              "      <td>1</td>\n",
              "      <td>0</td>\n",
              "      <td>0</td>\n",
              "      <td>0</td>\n",
              "      <td>1</td>\n",
              "      <td>0</td>\n",
              "    </tr>\n",
              "    <tr>\n",
              "      <th>3</th>\n",
              "      <td>33</td>\n",
              "      <td>22.705</td>\n",
              "      <td>0</td>\n",
              "      <td>0</td>\n",
              "      <td>1</td>\n",
              "      <td>1</td>\n",
              "      <td>0</td>\n",
              "      <td>0</td>\n",
              "      <td>1</td>\n",
              "      <td>0</td>\n",
              "      <td>0</td>\n",
              "    </tr>\n",
              "    <tr>\n",
              "      <th>4</th>\n",
              "      <td>32</td>\n",
              "      <td>28.880</td>\n",
              "      <td>0</td>\n",
              "      <td>0</td>\n",
              "      <td>1</td>\n",
              "      <td>1</td>\n",
              "      <td>0</td>\n",
              "      <td>0</td>\n",
              "      <td>1</td>\n",
              "      <td>0</td>\n",
              "      <td>0</td>\n",
              "    </tr>\n",
              "  </tbody>\n",
              "</table>\n",
              "</div>\n",
              "      <button class=\"colab-df-convert\" onclick=\"convertToInteractive('df-49087007-173f-4726-bff7-e784753186bc')\"\n",
              "              title=\"Convert this dataframe to an interactive table.\"\n",
              "              style=\"display:none;\">\n",
              "        \n",
              "  <svg xmlns=\"http://www.w3.org/2000/svg\" height=\"24px\"viewBox=\"0 0 24 24\"\n",
              "       width=\"24px\">\n",
              "    <path d=\"M0 0h24v24H0V0z\" fill=\"none\"/>\n",
              "    <path d=\"M18.56 5.44l.94 2.06.94-2.06 2.06-.94-2.06-.94-.94-2.06-.94 2.06-2.06.94zm-11 1L8.5 8.5l.94-2.06 2.06-.94-2.06-.94L8.5 2.5l-.94 2.06-2.06.94zm10 10l.94 2.06.94-2.06 2.06-.94-2.06-.94-.94-2.06-.94 2.06-2.06.94z\"/><path d=\"M17.41 7.96l-1.37-1.37c-.4-.4-.92-.59-1.43-.59-.52 0-1.04.2-1.43.59L10.3 9.45l-7.72 7.72c-.78.78-.78 2.05 0 2.83L4 21.41c.39.39.9.59 1.41.59.51 0 1.02-.2 1.41-.59l7.78-7.78 2.81-2.81c.8-.78.8-2.07 0-2.86zM5.41 20L4 18.59l7.72-7.72 1.47 1.35L5.41 20z\"/>\n",
              "  </svg>\n",
              "      </button>\n",
              "      \n",
              "  <style>\n",
              "    .colab-df-container {\n",
              "      display:flex;\n",
              "      flex-wrap:wrap;\n",
              "      gap: 12px;\n",
              "    }\n",
              "\n",
              "    .colab-df-convert {\n",
              "      background-color: #E8F0FE;\n",
              "      border: none;\n",
              "      border-radius: 50%;\n",
              "      cursor: pointer;\n",
              "      display: none;\n",
              "      fill: #1967D2;\n",
              "      height: 32px;\n",
              "      padding: 0 0 0 0;\n",
              "      width: 32px;\n",
              "    }\n",
              "\n",
              "    .colab-df-convert:hover {\n",
              "      background-color: #E2EBFA;\n",
              "      box-shadow: 0px 1px 2px rgba(60, 64, 67, 0.3), 0px 1px 3px 1px rgba(60, 64, 67, 0.15);\n",
              "      fill: #174EA6;\n",
              "    }\n",
              "\n",
              "    [theme=dark] .colab-df-convert {\n",
              "      background-color: #3B4455;\n",
              "      fill: #D2E3FC;\n",
              "    }\n",
              "\n",
              "    [theme=dark] .colab-df-convert:hover {\n",
              "      background-color: #434B5C;\n",
              "      box-shadow: 0px 1px 3px 1px rgba(0, 0, 0, 0.15);\n",
              "      filter: drop-shadow(0px 1px 2px rgba(0, 0, 0, 0.3));\n",
              "      fill: #FFFFFF;\n",
              "    }\n",
              "  </style>\n",
              "\n",
              "      <script>\n",
              "        const buttonEl =\n",
              "          document.querySelector('#df-49087007-173f-4726-bff7-e784753186bc button.colab-df-convert');\n",
              "        buttonEl.style.display =\n",
              "          google.colab.kernel.accessAllowed ? 'block' : 'none';\n",
              "\n",
              "        async function convertToInteractive(key) {\n",
              "          const element = document.querySelector('#df-49087007-173f-4726-bff7-e784753186bc');\n",
              "          const dataTable =\n",
              "            await google.colab.kernel.invokeFunction('convertToInteractive',\n",
              "                                                     [key], {});\n",
              "          if (!dataTable) return;\n",
              "\n",
              "          const docLinkHtml = 'Like what you see? Visit the ' +\n",
              "            '<a target=\"_blank\" href=https://colab.research.google.com/notebooks/data_table.ipynb>data table notebook</a>'\n",
              "            + ' to learn more about interactive tables.';\n",
              "          element.innerHTML = '';\n",
              "          dataTable['output_type'] = 'display_data';\n",
              "          await google.colab.output.renderOutput(dataTable, element);\n",
              "          const docLink = document.createElement('div');\n",
              "          docLink.innerHTML = docLinkHtml;\n",
              "          element.appendChild(docLink);\n",
              "        }\n",
              "      </script>\n",
              "    </div>\n",
              "  </div>\n",
              "  "
            ]
          },
          "metadata": {},
          "execution_count": 22
        }
      ]
    },
    {
      "cell_type": "code",
      "source": [
        "from sklearn.model_selection import train_test_split\n",
        "X_train, X_test, y_train, y_test = train_test_split(X,y,test_size=0.2,\n",
        "                                                    random_state=42)"
      ],
      "metadata": {
        "id": "HVaZb1x0omH-"
      },
      "execution_count": null,
      "outputs": []
    },
    {
      "cell_type": "code",
      "source": [
        "tf.random.set_seed(42)\n",
        "insurance_model = tf.keras.Sequential([\n",
        "    tf.keras.layers.Dense(10),\n",
        "    tf.keras.layers.Dense(1)\n",
        "])\n",
        "insurance_model.compile(loss=tf.keras.losses.mae,\n",
        "                        optimizer=tf.keras.optimizers.SGD(),\n",
        "                        metrics=['mae'])\n",
        "insurance_model.fit(X_train,y_train,epochs=100)"
      ],
      "metadata": {
        "colab": {
          "base_uri": "https://localhost:8080/"
        },
        "id": "7yMxHgOSvGY9",
        "outputId": "d8092672-7bf7-4580-8ef1-44e0afb5c51f"
      },
      "execution_count": null,
      "outputs": [
        {
          "output_type": "stream",
          "name": "stdout",
          "text": [
            "Epoch 1/100\n",
            "34/34 [==============================] - 1s 2ms/step - loss: 8637.1006 - mae: 8637.1006\n",
            "Epoch 2/100\n",
            "34/34 [==============================] - 0s 3ms/step - loss: 7886.7759 - mae: 7886.7759\n",
            "Epoch 3/100\n",
            "34/34 [==============================] - 0s 3ms/step - loss: 7558.1470 - mae: 7558.1470\n",
            "Epoch 4/100\n",
            "34/34 [==============================] - 0s 3ms/step - loss: 7792.0225 - mae: 7792.0225\n",
            "Epoch 5/100\n",
            "34/34 [==============================] - 0s 3ms/step - loss: 7748.3887 - mae: 7748.3887\n",
            "Epoch 6/100\n",
            "34/34 [==============================] - 0s 3ms/step - loss: 7595.3940 - mae: 7595.3940\n",
            "Epoch 7/100\n",
            "34/34 [==============================] - 0s 3ms/step - loss: 7589.9844 - mae: 7589.9844\n",
            "Epoch 8/100\n",
            "34/34 [==============================] - 0s 3ms/step - loss: 7698.5576 - mae: 7698.5576\n",
            "Epoch 9/100\n",
            "34/34 [==============================] - 0s 3ms/step - loss: 7496.7778 - mae: 7496.7778\n",
            "Epoch 10/100\n",
            "34/34 [==============================] - 0s 3ms/step - loss: 7493.1743 - mae: 7493.1743\n",
            "Epoch 11/100\n",
            "34/34 [==============================] - 0s 4ms/step - loss: 7769.7305 - mae: 7769.7305\n",
            "Epoch 12/100\n",
            "34/34 [==============================] - 0s 2ms/step - loss: 7706.9028 - mae: 7706.9028\n",
            "Epoch 13/100\n",
            "34/34 [==============================] - 0s 3ms/step - loss: 7687.7231 - mae: 7687.7231\n",
            "Epoch 14/100\n",
            "34/34 [==============================] - 0s 2ms/step - loss: 7689.9004 - mae: 7689.9004\n",
            "Epoch 15/100\n",
            "34/34 [==============================] - 0s 2ms/step - loss: 7393.5322 - mae: 7393.5322\n",
            "Epoch 16/100\n",
            "34/34 [==============================] - 0s 2ms/step - loss: 7780.6987 - mae: 7780.6987\n",
            "Epoch 17/100\n",
            "34/34 [==============================] - 0s 2ms/step - loss: 7578.5098 - mae: 7578.5098\n",
            "Epoch 18/100\n",
            "34/34 [==============================] - 0s 2ms/step - loss: 7750.8354 - mae: 7750.8354\n",
            "Epoch 19/100\n",
            "34/34 [==============================] - 0s 2ms/step - loss: 7739.2144 - mae: 7739.2144\n",
            "Epoch 20/100\n",
            "34/34 [==============================] - 0s 3ms/step - loss: 7875.0654 - mae: 7875.0654\n",
            "Epoch 21/100\n",
            "34/34 [==============================] - 0s 3ms/step - loss: 7466.6768 - mae: 7466.6768\n",
            "Epoch 22/100\n",
            "34/34 [==============================] - 0s 3ms/step - loss: 7941.2329 - mae: 7941.2329\n",
            "Epoch 23/100\n",
            "34/34 [==============================] - 0s 3ms/step - loss: 7640.2734 - mae: 7640.2734\n",
            "Epoch 24/100\n",
            "34/34 [==============================] - 0s 3ms/step - loss: 7539.2671 - mae: 7539.2671\n",
            "Epoch 25/100\n",
            "34/34 [==============================] - 0s 4ms/step - loss: 7619.9653 - mae: 7619.9653\n",
            "Epoch 26/100\n",
            "34/34 [==============================] - 0s 2ms/step - loss: 7644.1714 - mae: 7644.1714\n",
            "Epoch 27/100\n",
            "34/34 [==============================] - 0s 2ms/step - loss: 7709.0371 - mae: 7709.0371\n",
            "Epoch 28/100\n",
            "34/34 [==============================] - 0s 2ms/step - loss: 7366.8662 - mae: 7366.8662\n",
            "Epoch 29/100\n",
            "34/34 [==============================] - 0s 2ms/step - loss: 7444.3154 - mae: 7444.3154\n",
            "Epoch 30/100\n",
            "34/34 [==============================] - 0s 2ms/step - loss: 7616.4082 - mae: 7616.4082\n",
            "Epoch 31/100\n",
            "34/34 [==============================] - 0s 2ms/step - loss: 7686.3848 - mae: 7686.3848\n",
            "Epoch 32/100\n",
            "34/34 [==============================] - 0s 2ms/step - loss: 7548.0977 - mae: 7548.0977\n",
            "Epoch 33/100\n",
            "34/34 [==============================] - 0s 3ms/step - loss: 7501.5532 - mae: 7501.5532\n",
            "Epoch 34/100\n",
            "34/34 [==============================] - 0s 2ms/step - loss: 7363.4160 - mae: 7363.4160\n",
            "Epoch 35/100\n",
            "34/34 [==============================] - 0s 2ms/step - loss: 7295.4478 - mae: 7295.4478\n",
            "Epoch 36/100\n",
            "34/34 [==============================] - 0s 3ms/step - loss: 7569.8804 - mae: 7569.8804\n",
            "Epoch 37/100\n",
            "34/34 [==============================] - 0s 3ms/step - loss: 7548.1997 - mae: 7548.1997\n",
            "Epoch 38/100\n",
            "34/34 [==============================] - 0s 3ms/step - loss: 7424.3975 - mae: 7424.3975\n",
            "Epoch 39/100\n",
            "34/34 [==============================] - 0s 2ms/step - loss: 7529.7739 - mae: 7529.7739\n",
            "Epoch 40/100\n",
            "34/34 [==============================] - 0s 2ms/step - loss: 7467.3232 - mae: 7467.3232\n",
            "Epoch 41/100\n",
            "34/34 [==============================] - 0s 2ms/step - loss: 7635.9292 - mae: 7635.9292\n",
            "Epoch 42/100\n",
            "34/34 [==============================] - 0s 2ms/step - loss: 7536.8398 - mae: 7536.8398\n",
            "Epoch 43/100\n",
            "34/34 [==============================] - 0s 3ms/step - loss: 7616.5859 - mae: 7616.5859\n",
            "Epoch 44/100\n",
            "34/34 [==============================] - 0s 2ms/step - loss: 7439.4941 - mae: 7439.4941\n",
            "Epoch 45/100\n",
            "34/34 [==============================] - 0s 3ms/step - loss: 7538.0142 - mae: 7538.0142\n",
            "Epoch 46/100\n",
            "34/34 [==============================] - 0s 3ms/step - loss: 7415.1470 - mae: 7415.1470\n",
            "Epoch 47/100\n",
            "34/34 [==============================] - 0s 2ms/step - loss: 7420.6938 - mae: 7420.6938\n",
            "Epoch 48/100\n",
            "34/34 [==============================] - 0s 2ms/step - loss: 7509.9839 - mae: 7509.9839\n",
            "Epoch 49/100\n",
            "34/34 [==============================] - 0s 2ms/step - loss: 7541.1133 - mae: 7541.1133\n",
            "Epoch 50/100\n",
            "34/34 [==============================] - 0s 3ms/step - loss: 7467.8643 - mae: 7467.8643\n",
            "Epoch 51/100\n",
            "34/34 [==============================] - 0s 2ms/step - loss: 7389.3560 - mae: 7389.3560\n",
            "Epoch 52/100\n",
            "34/34 [==============================] - 0s 2ms/step - loss: 7499.7759 - mae: 7499.7759\n",
            "Epoch 53/100\n",
            "34/34 [==============================] - 0s 2ms/step - loss: 7523.9282 - mae: 7523.9282\n",
            "Epoch 54/100\n",
            "34/34 [==============================] - 0s 3ms/step - loss: 7243.3115 - mae: 7243.3115\n",
            "Epoch 55/100\n",
            "34/34 [==============================] - 0s 2ms/step - loss: 7429.5864 - mae: 7429.5864\n",
            "Epoch 56/100\n",
            "34/34 [==============================] - 0s 3ms/step - loss: 7313.3999 - mae: 7313.3999\n",
            "Epoch 57/100\n",
            "34/34 [==============================] - 0s 3ms/step - loss: 7526.3877 - mae: 7526.3877\n",
            "Epoch 58/100\n",
            "34/34 [==============================] - 0s 3ms/step - loss: 7542.2666 - mae: 7542.2666\n",
            "Epoch 59/100\n",
            "34/34 [==============================] - 0s 3ms/step - loss: 7576.9277 - mae: 7576.9277\n",
            "Epoch 60/100\n",
            "34/34 [==============================] - 0s 4ms/step - loss: 7546.4058 - mae: 7546.4058\n",
            "Epoch 61/100\n",
            "34/34 [==============================] - 0s 4ms/step - loss: 7351.2271 - mae: 7351.2271\n",
            "Epoch 62/100\n",
            "34/34 [==============================] - 0s 3ms/step - loss: 7302.1436 - mae: 7302.1436\n",
            "Epoch 63/100\n",
            "34/34 [==============================] - 0s 3ms/step - loss: 7393.0874 - mae: 7393.0874\n",
            "Epoch 64/100\n",
            "34/34 [==============================] - 0s 4ms/step - loss: 7442.2881 - mae: 7442.2881\n",
            "Epoch 65/100\n",
            "34/34 [==============================] - 0s 3ms/step - loss: 7492.6782 - mae: 7492.6782\n",
            "Epoch 66/100\n",
            "34/34 [==============================] - 0s 3ms/step - loss: 7561.9165 - mae: 7561.9165\n",
            "Epoch 67/100\n",
            "34/34 [==============================] - 0s 3ms/step - loss: 7340.5137 - mae: 7340.5137\n",
            "Epoch 68/100\n",
            "34/34 [==============================] - 0s 2ms/step - loss: 7496.0840 - mae: 7496.0840\n",
            "Epoch 69/100\n",
            "34/34 [==============================] - 0s 2ms/step - loss: 7617.0303 - mae: 7617.0303\n",
            "Epoch 70/100\n",
            "34/34 [==============================] - 0s 2ms/step - loss: 7641.1948 - mae: 7641.1948\n",
            "Epoch 71/100\n",
            "34/34 [==============================] - 0s 3ms/step - loss: 7084.2744 - mae: 7084.2744\n",
            "Epoch 72/100\n",
            "34/34 [==============================] - 0s 3ms/step - loss: 7240.4902 - mae: 7240.4902\n",
            "Epoch 73/100\n",
            "34/34 [==============================] - 0s 3ms/step - loss: 7283.4888 - mae: 7283.4888\n",
            "Epoch 74/100\n",
            "34/34 [==============================] - 0s 2ms/step - loss: 7335.5088 - mae: 7335.5088\n",
            "Epoch 75/100\n",
            "34/34 [==============================] - 0s 3ms/step - loss: 7275.6396 - mae: 7275.6396\n",
            "Epoch 76/100\n",
            "34/34 [==============================] - 0s 3ms/step - loss: 7313.1860 - mae: 7313.1860\n",
            "Epoch 77/100\n",
            "34/34 [==============================] - 0s 2ms/step - loss: 7485.7588 - mae: 7485.7588\n",
            "Epoch 78/100\n",
            "34/34 [==============================] - 0s 2ms/step - loss: 7352.2803 - mae: 7352.2803\n",
            "Epoch 79/100\n",
            "34/34 [==============================] - 0s 3ms/step - loss: 7520.5703 - mae: 7520.5703\n",
            "Epoch 80/100\n",
            "34/34 [==============================] - 0s 3ms/step - loss: 7279.3779 - mae: 7279.3779\n",
            "Epoch 81/100\n",
            "34/34 [==============================] - 0s 2ms/step - loss: 7273.8477 - mae: 7273.8477\n",
            "Epoch 82/100\n",
            "34/34 [==============================] - 0s 3ms/step - loss: 7176.5215 - mae: 7176.5215\n",
            "Epoch 83/100\n",
            "34/34 [==============================] - 0s 3ms/step - loss: 7425.6289 - mae: 7425.6289\n",
            "Epoch 84/100\n",
            "34/34 [==============================] - 0s 3ms/step - loss: 7403.1294 - mae: 7403.1294\n",
            "Epoch 85/100\n",
            "34/34 [==============================] - 0s 3ms/step - loss: 7356.0088 - mae: 7356.0088\n",
            "Epoch 86/100\n",
            "34/34 [==============================] - 0s 3ms/step - loss: 7484.7266 - mae: 7484.7266\n",
            "Epoch 87/100\n",
            "34/34 [==============================] - 0s 2ms/step - loss: 7217.6074 - mae: 7217.6074\n",
            "Epoch 88/100\n",
            "34/34 [==============================] - 0s 3ms/step - loss: 7261.0000 - mae: 7261.0000\n",
            "Epoch 89/100\n",
            "34/34 [==============================] - 0s 2ms/step - loss: 7134.1562 - mae: 7134.1562\n",
            "Epoch 90/100\n",
            "34/34 [==============================] - 0s 3ms/step - loss: 7083.4355 - mae: 7083.4355\n",
            "Epoch 91/100\n",
            "34/34 [==============================] - 0s 2ms/step - loss: 7254.1782 - mae: 7254.1782\n",
            "Epoch 92/100\n",
            "34/34 [==============================] - 0s 2ms/step - loss: 7268.7461 - mae: 7268.7461\n",
            "Epoch 93/100\n",
            "34/34 [==============================] - 0s 3ms/step - loss: 7470.5215 - mae: 7470.5215\n",
            "Epoch 94/100\n",
            "34/34 [==============================] - 0s 2ms/step - loss: 7210.9536 - mae: 7210.9536\n",
            "Epoch 95/100\n",
            "34/34 [==============================] - 0s 2ms/step - loss: 7395.6816 - mae: 7395.6816\n",
            "Epoch 96/100\n",
            "34/34 [==============================] - 0s 2ms/step - loss: 7328.0884 - mae: 7328.0884\n",
            "Epoch 97/100\n",
            "34/34 [==============================] - 0s 3ms/step - loss: 7230.4380 - mae: 7230.4380\n",
            "Epoch 98/100\n",
            "34/34 [==============================] - 0s 2ms/step - loss: 7261.3936 - mae: 7261.3936\n",
            "Epoch 99/100\n",
            "34/34 [==============================] - 0s 3ms/step - loss: 7342.5684 - mae: 7342.5684\n",
            "Epoch 100/100\n",
            "34/34 [==============================] - 0s 3ms/step - loss: 7106.1714 - mae: 7106.1714\n"
          ]
        },
        {
          "output_type": "execute_result",
          "data": {
            "text/plain": [
              "<keras.callbacks.History at 0x7f089bc638d0>"
            ]
          },
          "metadata": {},
          "execution_count": 24
        }
      ]
    },
    {
      "cell_type": "code",
      "source": [
        "insurance_model.evaluate(X_test,y_test)"
      ],
      "metadata": {
        "colab": {
          "base_uri": "https://localhost:8080/"
        },
        "id": "FYcZNIeOvGc1",
        "outputId": "981b402b-6152-4d74-cd17-8e3304f062f4"
      },
      "execution_count": null,
      "outputs": [
        {
          "output_type": "stream",
          "name": "stdout",
          "text": [
            "9/9 [==============================] - 0s 3ms/step - loss: 7023.3291 - mae: 7023.3291\n"
          ]
        },
        {
          "output_type": "execute_result",
          "data": {
            "text/plain": [
              "[7023.3291015625, 7023.3291015625]"
            ]
          },
          "metadata": {},
          "execution_count": 25
        }
      ]
    },
    {
      "cell_type": "code",
      "source": [
        "tf.random.set_seed(42)\n",
        "ins_model2=tf.keras.Sequential([\n",
        "    tf.keras.layers.Dense(100),\n",
        "    tf.keras.layers.Dense(10),\n",
        "    tf.keras.layers.Dense(1)\n",
        "])\n",
        "ins_model2.compile(loss=tf.keras.losses.mae,\n",
        "                   optimizer=tf.keras.optimizers.Adam(),\n",
        "                   metrics=['mae'])\n",
        "ins_model2.fit(X_train,y_train,epochs=100)"
      ],
      "metadata": {
        "id": "_oZLhrxHvGgn"
      },
      "execution_count": null,
      "outputs": []
    },
    {
      "cell_type": "code",
      "source": [
        "ins_model2.evaluate(X_test,y_test)"
      ],
      "metadata": {
        "colab": {
          "base_uri": "https://localhost:8080/"
        },
        "id": "yhLdhFKqvGlZ",
        "outputId": "f673af53-0a87-49d6-cefd-7bc57e630b6e"
      },
      "execution_count": null,
      "outputs": [
        {
          "output_type": "stream",
          "name": "stdout",
          "text": [
            "9/9 [==============================] - 0s 3ms/step - loss: 4924.3477 - mae: 4924.3477\n"
          ]
        },
        {
          "output_type": "execute_result",
          "data": {
            "text/plain": [
              "[4924.34765625, 4924.34765625]"
            ]
          },
          "metadata": {},
          "execution_count": 31
        }
      ]
    },
    {
      "cell_type": "code",
      "source": [
        "tf.random.set_seed(42)\n",
        "ins_model3=tf.keras.Sequential([\n",
        "    tf.keras.layers.Dense(100),\n",
        "    tf.keras.layers.Dense(10),\n",
        "    tf.keras.layers.Dense(1)\n",
        "])\n",
        "ins_model3.compile(loss=tf.keras.losses.mae,\n",
        "                   optimizer=tf.keras.optimizers.Adam(),\n",
        "                   metrics=['mae'])\n",
        "history=ins_model3.fit(X_train,y_train,epochs=200)"
      ],
      "metadata": {
        "colab": {
          "base_uri": "https://localhost:8080/"
        },
        "id": "7jROevbtvGpr",
        "outputId": "beb0739a-c2ac-4871-d17b-0146fa8bd37b"
      },
      "execution_count": null,
      "outputs": [
        {
          "output_type": "stream",
          "name": "stdout",
          "text": [
            "Epoch 1/200\n",
            "34/34 [==============================] - 1s 4ms/step - loss: 13273.1602 - mae: 13273.1602\n",
            "Epoch 2/200\n",
            "34/34 [==============================] - 0s 4ms/step - loss: 13104.4297 - mae: 13104.4297\n",
            "Epoch 3/200\n",
            "34/34 [==============================] - 0s 4ms/step - loss: 12749.5420 - mae: 12749.5420\n",
            "Epoch 4/200\n",
            "34/34 [==============================] - 0s 4ms/step - loss: 12055.7500 - mae: 12055.7500\n",
            "Epoch 5/200\n",
            "34/34 [==============================] - 0s 4ms/step - loss: 10905.8154 - mae: 10905.8154\n",
            "Epoch 6/200\n",
            "34/34 [==============================] - 0s 6ms/step - loss: 9457.7217 - mae: 9457.7217\n",
            "Epoch 7/200\n",
            "34/34 [==============================] - 0s 5ms/step - loss: 8147.6543 - mae: 8147.6543\n",
            "Epoch 8/200\n",
            "34/34 [==============================] - 0s 5ms/step - loss: 7528.8413 - mae: 7528.8413\n",
            "Epoch 9/200\n",
            "34/34 [==============================] - 0s 4ms/step - loss: 7429.1528 - mae: 7429.1528\n",
            "Epoch 10/200\n",
            "34/34 [==============================] - 0s 4ms/step - loss: 7409.0811 - mae: 7409.0811\n",
            "Epoch 11/200\n",
            "34/34 [==============================] - 0s 5ms/step - loss: 7390.8042 - mae: 7390.8042\n",
            "Epoch 12/200\n",
            "34/34 [==============================] - 0s 4ms/step - loss: 7368.9170 - mae: 7368.9170\n",
            "Epoch 13/200\n",
            "34/34 [==============================] - 0s 5ms/step - loss: 7348.5190 - mae: 7348.5190\n",
            "Epoch 14/200\n",
            "34/34 [==============================] - 0s 5ms/step - loss: 7326.4893 - mae: 7326.4893\n",
            "Epoch 15/200\n",
            "34/34 [==============================] - 0s 5ms/step - loss: 7307.5811 - mae: 7307.5811\n",
            "Epoch 16/200\n",
            "34/34 [==============================] - 0s 4ms/step - loss: 7285.7734 - mae: 7285.7734\n",
            "Epoch 17/200\n",
            "34/34 [==============================] - 0s 4ms/step - loss: 7265.7104 - mae: 7265.7104\n",
            "Epoch 18/200\n",
            "34/34 [==============================] - 0s 5ms/step - loss: 7242.5488 - mae: 7242.5488\n",
            "Epoch 19/200\n",
            "34/34 [==============================] - 0s 4ms/step - loss: 7220.5068 - mae: 7220.5068\n",
            "Epoch 20/200\n",
            "34/34 [==============================] - 0s 4ms/step - loss: 7197.1978 - mae: 7197.1978\n",
            "Epoch 21/200\n",
            "34/34 [==============================] - 0s 4ms/step - loss: 7179.0195 - mae: 7179.0195\n",
            "Epoch 22/200\n",
            "34/34 [==============================] - 0s 4ms/step - loss: 7151.2104 - mae: 7151.2104\n",
            "Epoch 23/200\n",
            "34/34 [==============================] - 0s 4ms/step - loss: 7126.4639 - mae: 7126.4639\n",
            "Epoch 24/200\n",
            "34/34 [==============================] - 0s 4ms/step - loss: 7101.9199 - mae: 7101.9199\n",
            "Epoch 25/200\n",
            "34/34 [==============================] - 0s 4ms/step - loss: 7084.3379 - mae: 7084.3379\n",
            "Epoch 26/200\n",
            "34/34 [==============================] - 0s 4ms/step - loss: 7052.3291 - mae: 7052.3291\n",
            "Epoch 27/200\n",
            "34/34 [==============================] - 0s 5ms/step - loss: 7024.3511 - mae: 7024.3511\n",
            "Epoch 28/200\n",
            "34/34 [==============================] - 0s 4ms/step - loss: 6996.6963 - mae: 6996.6963\n",
            "Epoch 29/200\n",
            "34/34 [==============================] - 0s 8ms/step - loss: 6969.0112 - mae: 6969.0112\n",
            "Epoch 30/200\n",
            "34/34 [==============================] - 0s 9ms/step - loss: 6942.1899 - mae: 6942.1899\n",
            "Epoch 31/200\n",
            "34/34 [==============================] - 0s 8ms/step - loss: 6911.7280 - mae: 6911.7280\n",
            "Epoch 32/200\n",
            "34/34 [==============================] - 0s 9ms/step - loss: 6884.0205 - mae: 6884.0205\n",
            "Epoch 33/200\n",
            "34/34 [==============================] - 0s 6ms/step - loss: 6853.4648 - mae: 6853.4648\n",
            "Epoch 34/200\n",
            "34/34 [==============================] - 0s 3ms/step - loss: 6823.0674 - mae: 6823.0674\n",
            "Epoch 35/200\n",
            "34/34 [==============================] - 0s 2ms/step - loss: 6789.6855 - mae: 6789.6855\n",
            "Epoch 36/200\n",
            "34/34 [==============================] - 0s 2ms/step - loss: 6755.7646 - mae: 6755.7646\n",
            "Epoch 37/200\n",
            "34/34 [==============================] - 0s 2ms/step - loss: 6720.2026 - mae: 6720.2026\n",
            "Epoch 38/200\n",
            "34/34 [==============================] - 0s 2ms/step - loss: 6689.7158 - mae: 6689.7158\n",
            "Epoch 39/200\n",
            "34/34 [==============================] - 0s 2ms/step - loss: 6652.4609 - mae: 6652.4609\n",
            "Epoch 40/200\n",
            "34/34 [==============================] - 0s 2ms/step - loss: 6618.1016 - mae: 6618.1016\n",
            "Epoch 41/200\n",
            "34/34 [==============================] - 0s 2ms/step - loss: 6585.8633 - mae: 6585.8633\n",
            "Epoch 42/200\n",
            "34/34 [==============================] - 0s 2ms/step - loss: 6559.4956 - mae: 6559.4956\n",
            "Epoch 43/200\n",
            "34/34 [==============================] - 0s 2ms/step - loss: 6530.0439 - mae: 6530.0439\n",
            "Epoch 44/200\n",
            "34/34 [==============================] - 0s 2ms/step - loss: 6506.8066 - mae: 6506.8066\n",
            "Epoch 45/200\n",
            "34/34 [==============================] - 0s 2ms/step - loss: 6493.5718 - mae: 6493.5718\n",
            "Epoch 46/200\n",
            "34/34 [==============================] - 0s 2ms/step - loss: 6475.9258 - mae: 6475.9258\n",
            "Epoch 47/200\n",
            "34/34 [==============================] - 0s 3ms/step - loss: 6458.8979 - mae: 6458.8979\n",
            "Epoch 48/200\n",
            "34/34 [==============================] - 0s 4ms/step - loss: 6445.1494 - mae: 6445.1494\n",
            "Epoch 49/200\n",
            "34/34 [==============================] - 0s 2ms/step - loss: 6430.9639 - mae: 6430.9639\n",
            "Epoch 50/200\n",
            "34/34 [==============================] - 0s 2ms/step - loss: 6417.7510 - mae: 6417.7510\n",
            "Epoch 51/200\n",
            "34/34 [==============================] - 0s 4ms/step - loss: 6403.2759 - mae: 6403.2759\n",
            "Epoch 52/200\n",
            "34/34 [==============================] - 0s 7ms/step - loss: 6392.4141 - mae: 6392.4141\n",
            "Epoch 53/200\n",
            "34/34 [==============================] - 0s 5ms/step - loss: 6378.7451 - mae: 6378.7451\n",
            "Epoch 54/200\n",
            "34/34 [==============================] - 0s 2ms/step - loss: 6364.9131 - mae: 6364.9131\n",
            "Epoch 55/200\n",
            "34/34 [==============================] - 0s 2ms/step - loss: 6351.5273 - mae: 6351.5273\n",
            "Epoch 56/200\n",
            "34/34 [==============================] - 0s 2ms/step - loss: 6337.6602 - mae: 6337.6602\n",
            "Epoch 57/200\n",
            "34/34 [==============================] - 0s 2ms/step - loss: 6324.8369 - mae: 6324.8369\n",
            "Epoch 58/200\n",
            "34/34 [==============================] - 0s 3ms/step - loss: 6310.1943 - mae: 6310.1943\n",
            "Epoch 59/200\n",
            "34/34 [==============================] - 0s 2ms/step - loss: 6295.6035 - mae: 6295.6035\n",
            "Epoch 60/200\n",
            "34/34 [==============================] - 0s 2ms/step - loss: 6284.8696 - mae: 6284.8696\n",
            "Epoch 61/200\n",
            "34/34 [==============================] - 0s 3ms/step - loss: 6265.6411 - mae: 6265.6411\n",
            "Epoch 62/200\n",
            "34/34 [==============================] - 0s 2ms/step - loss: 6253.0112 - mae: 6253.0112\n",
            "Epoch 63/200\n",
            "34/34 [==============================] - 0s 2ms/step - loss: 6234.9292 - mae: 6234.9292\n",
            "Epoch 64/200\n",
            "34/34 [==============================] - 0s 2ms/step - loss: 6218.0435 - mae: 6218.0435\n",
            "Epoch 65/200\n",
            "34/34 [==============================] - 0s 3ms/step - loss: 6201.1899 - mae: 6201.1899\n",
            "Epoch 66/200\n",
            "34/34 [==============================] - 0s 4ms/step - loss: 6183.9590 - mae: 6183.9590\n",
            "Epoch 67/200\n",
            "34/34 [==============================] - 0s 3ms/step - loss: 6171.2993 - mae: 6171.2993\n",
            "Epoch 68/200\n",
            "34/34 [==============================] - 0s 2ms/step - loss: 6148.8398 - mae: 6148.8398\n",
            "Epoch 69/200\n",
            "34/34 [==============================] - 0s 2ms/step - loss: 6132.5981 - mae: 6132.5981\n",
            "Epoch 70/200\n",
            "34/34 [==============================] - 0s 2ms/step - loss: 6112.3853 - mae: 6112.3853\n",
            "Epoch 71/200\n",
            "34/34 [==============================] - 0s 3ms/step - loss: 6092.7202 - mae: 6092.7202\n",
            "Epoch 72/200\n",
            "34/34 [==============================] - 0s 4ms/step - loss: 6073.7422 - mae: 6073.7422\n",
            "Epoch 73/200\n",
            "34/34 [==============================] - 0s 4ms/step - loss: 6059.4873 - mae: 6059.4873\n",
            "Epoch 74/200\n",
            "34/34 [==============================] - 0s 4ms/step - loss: 6031.3848 - mae: 6031.3848\n",
            "Epoch 75/200\n",
            "34/34 [==============================] - 0s 3ms/step - loss: 6010.3350 - mae: 6010.3350\n",
            "Epoch 76/200\n",
            "34/34 [==============================] - 0s 3ms/step - loss: 5995.2178 - mae: 5995.2178\n",
            "Epoch 77/200\n",
            "34/34 [==============================] - 0s 4ms/step - loss: 5963.0723 - mae: 5963.0723\n",
            "Epoch 78/200\n",
            "34/34 [==============================] - 0s 5ms/step - loss: 5940.0605 - mae: 5940.0605\n",
            "Epoch 79/200\n",
            "34/34 [==============================] - 0s 3ms/step - loss: 5915.1064 - mae: 5915.1064\n",
            "Epoch 80/200\n",
            "34/34 [==============================] - 0s 2ms/step - loss: 5887.9990 - mae: 5887.9990\n",
            "Epoch 81/200\n",
            "34/34 [==============================] - 0s 2ms/step - loss: 5861.6992 - mae: 5861.6992\n",
            "Epoch 82/200\n",
            "34/34 [==============================] - 0s 3ms/step - loss: 5834.3066 - mae: 5834.3066\n",
            "Epoch 83/200\n",
            "34/34 [==============================] - 0s 3ms/step - loss: 5805.8237 - mae: 5805.8237\n",
            "Epoch 84/200\n",
            "34/34 [==============================] - 0s 2ms/step - loss: 5772.3232 - mae: 5772.3232\n",
            "Epoch 85/200\n",
            "34/34 [==============================] - 0s 2ms/step - loss: 5745.1514 - mae: 5745.1514\n",
            "Epoch 86/200\n",
            "34/34 [==============================] - 0s 4ms/step - loss: 5711.3477 - mae: 5711.3477\n",
            "Epoch 87/200\n",
            "34/34 [==============================] - 0s 5ms/step - loss: 5674.5215 - mae: 5674.5215\n",
            "Epoch 88/200\n",
            "34/34 [==============================] - 0s 6ms/step - loss: 5639.4927 - mae: 5639.4927\n",
            "Epoch 89/200\n",
            "34/34 [==============================] - 0s 4ms/step - loss: 5600.6655 - mae: 5600.6655\n",
            "Epoch 90/200\n",
            "34/34 [==============================] - 0s 4ms/step - loss: 5559.4326 - mae: 5559.4326\n",
            "Epoch 91/200\n",
            "34/34 [==============================] - 0s 2ms/step - loss: 5523.6187 - mae: 5523.6187\n",
            "Epoch 92/200\n",
            "34/34 [==============================] - 0s 2ms/step - loss: 5474.1250 - mae: 5474.1250\n",
            "Epoch 93/200\n",
            "34/34 [==============================] - 0s 2ms/step - loss: 5432.2656 - mae: 5432.2656\n",
            "Epoch 94/200\n",
            "34/34 [==============================] - 0s 2ms/step - loss: 5386.0527 - mae: 5386.0527\n",
            "Epoch 95/200\n",
            "34/34 [==============================] - 0s 2ms/step - loss: 5333.1812 - mae: 5333.1812\n",
            "Epoch 96/200\n",
            "34/34 [==============================] - 0s 3ms/step - loss: 5288.8159 - mae: 5288.8159\n",
            "Epoch 97/200\n",
            "34/34 [==============================] - 0s 3ms/step - loss: 5234.6792 - mae: 5234.6792\n",
            "Epoch 98/200\n",
            "34/34 [==============================] - 0s 2ms/step - loss: 5170.9360 - mae: 5170.9360\n",
            "Epoch 99/200\n",
            "34/34 [==============================] - 0s 2ms/step - loss: 5112.9443 - mae: 5112.9443\n",
            "Epoch 100/200\n",
            "34/34 [==============================] - 0s 2ms/step - loss: 5059.8643 - mae: 5059.8643\n",
            "Epoch 101/200\n",
            "34/34 [==============================] - 0s 3ms/step - loss: 4987.6191 - mae: 4987.6191\n",
            "Epoch 102/200\n",
            "34/34 [==============================] - 0s 5ms/step - loss: 4915.2905 - mae: 4915.2905\n",
            "Epoch 103/200\n",
            "34/34 [==============================] - 0s 4ms/step - loss: 4847.3604 - mae: 4847.3604\n",
            "Epoch 104/200\n",
            "34/34 [==============================] - 0s 4ms/step - loss: 4768.0151 - mae: 4768.0151\n",
            "Epoch 105/200\n",
            "34/34 [==============================] - 0s 2ms/step - loss: 4683.4727 - mae: 4683.4727\n",
            "Epoch 106/200\n",
            "34/34 [==============================] - 0s 4ms/step - loss: 4600.5054 - mae: 4600.5054\n",
            "Epoch 107/200\n",
            "34/34 [==============================] - 0s 4ms/step - loss: 4513.1436 - mae: 4513.1436\n",
            "Epoch 108/200\n",
            "34/34 [==============================] - 0s 4ms/step - loss: 4422.2983 - mae: 4422.2983\n",
            "Epoch 109/200\n",
            "34/34 [==============================] - 0s 4ms/step - loss: 4339.9600 - mae: 4339.9600\n",
            "Epoch 110/200\n",
            "34/34 [==============================] - 0s 4ms/step - loss: 4254.3916 - mae: 4254.3916\n",
            "Epoch 111/200\n",
            "34/34 [==============================] - 0s 5ms/step - loss: 4173.1797 - mae: 4173.1797\n",
            "Epoch 112/200\n",
            "34/34 [==============================] - 0s 4ms/step - loss: 4102.2944 - mae: 4102.2944\n",
            "Epoch 113/200\n",
            "34/34 [==============================] - 0s 6ms/step - loss: 4031.9590 - mae: 4031.9590\n",
            "Epoch 114/200\n",
            "34/34 [==============================] - 0s 5ms/step - loss: 3986.0220 - mae: 3986.0220\n",
            "Epoch 115/200\n",
            "34/34 [==============================] - 0s 6ms/step - loss: 3943.2346 - mae: 3943.2346\n",
            "Epoch 116/200\n",
            "34/34 [==============================] - 0s 4ms/step - loss: 3918.8977 - mae: 3918.8977\n",
            "Epoch 117/200\n",
            "34/34 [==============================] - 0s 4ms/step - loss: 3895.5610 - mae: 3895.5610\n",
            "Epoch 118/200\n",
            "34/34 [==============================] - 0s 4ms/step - loss: 3869.5679 - mae: 3869.5679\n",
            "Epoch 119/200\n",
            "34/34 [==============================] - 0s 4ms/step - loss: 3850.2136 - mae: 3850.2136\n",
            "Epoch 120/200\n",
            "34/34 [==============================] - 0s 4ms/step - loss: 3834.7349 - mae: 3834.7349\n",
            "Epoch 121/200\n",
            "34/34 [==============================] - 0s 6ms/step - loss: 3827.0952 - mae: 3827.0952\n",
            "Epoch 122/200\n",
            "34/34 [==============================] - 0s 5ms/step - loss: 3821.6382 - mae: 3821.6382\n",
            "Epoch 123/200\n",
            "34/34 [==============================] - 0s 5ms/step - loss: 3813.8315 - mae: 3813.8315\n",
            "Epoch 124/200\n",
            "34/34 [==============================] - 0s 5ms/step - loss: 3805.7307 - mae: 3805.7307\n",
            "Epoch 125/200\n",
            "34/34 [==============================] - 0s 3ms/step - loss: 3794.7085 - mae: 3794.7085\n",
            "Epoch 126/200\n",
            "34/34 [==============================] - 0s 3ms/step - loss: 3804.4946 - mae: 3804.4946\n",
            "Epoch 127/200\n",
            "34/34 [==============================] - 0s 6ms/step - loss: 3796.0596 - mae: 3796.0596\n",
            "Epoch 128/200\n",
            "34/34 [==============================] - 0s 7ms/step - loss: 3791.0422 - mae: 3791.0422\n",
            "Epoch 129/200\n",
            "34/34 [==============================] - 0s 6ms/step - loss: 3800.0696 - mae: 3800.0696\n",
            "Epoch 130/200\n",
            "34/34 [==============================] - 0s 7ms/step - loss: 3788.5005 - mae: 3788.5005\n",
            "Epoch 131/200\n",
            "34/34 [==============================] - 0s 8ms/step - loss: 3780.8442 - mae: 3780.8442\n",
            "Epoch 132/200\n",
            "34/34 [==============================] - 0s 7ms/step - loss: 3774.5413 - mae: 3774.5413\n",
            "Epoch 133/200\n",
            "34/34 [==============================] - 0s 6ms/step - loss: 3771.0156 - mae: 3771.0156\n",
            "Epoch 134/200\n",
            "34/34 [==============================] - 0s 8ms/step - loss: 3769.3762 - mae: 3769.3762\n",
            "Epoch 135/200\n",
            "34/34 [==============================] - 0s 6ms/step - loss: 3766.7612 - mae: 3766.7612\n",
            "Epoch 136/200\n",
            "34/34 [==============================] - 0s 7ms/step - loss: 3765.5510 - mae: 3765.5510\n",
            "Epoch 137/200\n",
            "34/34 [==============================] - 0s 7ms/step - loss: 3774.5034 - mae: 3774.5034\n",
            "Epoch 138/200\n",
            "34/34 [==============================] - 0s 7ms/step - loss: 3785.3909 - mae: 3785.3909\n",
            "Epoch 139/200\n",
            "34/34 [==============================] - 0s 5ms/step - loss: 3761.1299 - mae: 3761.1299\n",
            "Epoch 140/200\n",
            "34/34 [==============================] - 0s 6ms/step - loss: 3764.1753 - mae: 3764.1753\n",
            "Epoch 141/200\n",
            "34/34 [==============================] - 0s 6ms/step - loss: 3763.9250 - mae: 3763.9250\n",
            "Epoch 142/200\n",
            "34/34 [==============================] - 0s 8ms/step - loss: 3762.7959 - mae: 3762.7959\n",
            "Epoch 143/200\n",
            "34/34 [==============================] - 0s 6ms/step - loss: 3754.4397 - mae: 3754.4397\n",
            "Epoch 144/200\n",
            "34/34 [==============================] - 0s 6ms/step - loss: 3750.3347 - mae: 3750.3347\n",
            "Epoch 145/200\n",
            "34/34 [==============================] - 0s 4ms/step - loss: 3750.4006 - mae: 3750.4006\n",
            "Epoch 146/200\n",
            "34/34 [==============================] - 0s 5ms/step - loss: 3755.4736 - mae: 3755.4736\n",
            "Epoch 147/200\n",
            "34/34 [==============================] - 0s 5ms/step - loss: 3750.3223 - mae: 3750.3223\n",
            "Epoch 148/200\n",
            "34/34 [==============================] - 0s 6ms/step - loss: 3758.1089 - mae: 3758.1089\n",
            "Epoch 149/200\n",
            "34/34 [==============================] - 0s 6ms/step - loss: 3743.4858 - mae: 3743.4858\n",
            "Epoch 150/200\n",
            "34/34 [==============================] - 0s 8ms/step - loss: 3738.5342 - mae: 3738.5342\n",
            "Epoch 151/200\n",
            "34/34 [==============================] - 0s 5ms/step - loss: 3740.1384 - mae: 3740.1384\n",
            "Epoch 152/200\n",
            "34/34 [==============================] - 0s 5ms/step - loss: 3742.4954 - mae: 3742.4954\n",
            "Epoch 153/200\n",
            "34/34 [==============================] - 0s 6ms/step - loss: 3744.4395 - mae: 3744.4395\n",
            "Epoch 154/200\n",
            "34/34 [==============================] - 0s 5ms/step - loss: 3737.1826 - mae: 3737.1826\n",
            "Epoch 155/200\n",
            "34/34 [==============================] - 0s 5ms/step - loss: 3737.6541 - mae: 3737.6541\n",
            "Epoch 156/200\n",
            "34/34 [==============================] - 0s 6ms/step - loss: 3737.1663 - mae: 3737.1663\n",
            "Epoch 157/200\n",
            "34/34 [==============================] - 0s 5ms/step - loss: 3733.1101 - mae: 3733.1101\n",
            "Epoch 158/200\n",
            "34/34 [==============================] - 0s 6ms/step - loss: 3729.5813 - mae: 3729.5813\n",
            "Epoch 159/200\n",
            "34/34 [==============================] - 0s 6ms/step - loss: 3725.9053 - mae: 3725.9053\n",
            "Epoch 160/200\n",
            "34/34 [==============================] - 0s 6ms/step - loss: 3733.2822 - mae: 3733.2822\n",
            "Epoch 161/200\n",
            "34/34 [==============================] - 0s 7ms/step - loss: 3728.2559 - mae: 3728.2559\n",
            "Epoch 162/200\n",
            "34/34 [==============================] - 0s 5ms/step - loss: 3724.5825 - mae: 3724.5825\n",
            "Epoch 163/200\n",
            "34/34 [==============================] - 0s 5ms/step - loss: 3723.0806 - mae: 3723.0806\n",
            "Epoch 164/200\n",
            "34/34 [==============================] - 0s 5ms/step - loss: 3726.9475 - mae: 3726.9475\n",
            "Epoch 165/200\n",
            "34/34 [==============================] - 0s 5ms/step - loss: 3716.5430 - mae: 3716.5430\n",
            "Epoch 166/200\n",
            "34/34 [==============================] - 0s 5ms/step - loss: 3721.9155 - mae: 3721.9155\n",
            "Epoch 167/200\n",
            "34/34 [==============================] - 0s 5ms/step - loss: 3721.1814 - mae: 3721.1814\n",
            "Epoch 168/200\n",
            "34/34 [==============================] - 0s 5ms/step - loss: 3715.2458 - mae: 3715.2458\n",
            "Epoch 169/200\n",
            "34/34 [==============================] - 0s 5ms/step - loss: 3713.9756 - mae: 3713.9756\n",
            "Epoch 170/200\n",
            "34/34 [==============================] - 0s 5ms/step - loss: 3707.9922 - mae: 3707.9922\n",
            "Epoch 171/200\n",
            "34/34 [==============================] - 0s 5ms/step - loss: 3707.4158 - mae: 3707.4158\n",
            "Epoch 172/200\n",
            "34/34 [==============================] - 0s 7ms/step - loss: 3710.6833 - mae: 3710.6833\n",
            "Epoch 173/200\n",
            "34/34 [==============================] - 0s 7ms/step - loss: 3703.3618 - mae: 3703.3618\n",
            "Epoch 174/200\n",
            "34/34 [==============================] - 0s 5ms/step - loss: 3710.9385 - mae: 3710.9385\n",
            "Epoch 175/200\n",
            "34/34 [==============================] - 0s 8ms/step - loss: 3713.0417 - mae: 3713.0417\n",
            "Epoch 176/200\n",
            "34/34 [==============================] - 0s 9ms/step - loss: 3705.0571 - mae: 3705.0571\n",
            "Epoch 177/200\n",
            "34/34 [==============================] - 0s 9ms/step - loss: 3698.9333 - mae: 3698.9333\n",
            "Epoch 178/200\n",
            "34/34 [==============================] - 0s 6ms/step - loss: 3697.9983 - mae: 3697.9983\n",
            "Epoch 179/200\n",
            "34/34 [==============================] - 0s 7ms/step - loss: 3704.9150 - mae: 3704.9150\n",
            "Epoch 180/200\n",
            "34/34 [==============================] - 0s 7ms/step - loss: 3710.3679 - mae: 3710.3679\n",
            "Epoch 181/200\n",
            "34/34 [==============================] - 0s 7ms/step - loss: 3696.6482 - mae: 3696.6482\n",
            "Epoch 182/200\n",
            "34/34 [==============================] - 0s 7ms/step - loss: 3692.7329 - mae: 3692.7329\n",
            "Epoch 183/200\n",
            "34/34 [==============================] - 0s 4ms/step - loss: 3691.1655 - mae: 3691.1655\n",
            "Epoch 184/200\n",
            "34/34 [==============================] - 0s 4ms/step - loss: 3699.2437 - mae: 3699.2437\n",
            "Epoch 185/200\n",
            "34/34 [==============================] - 0s 4ms/step - loss: 3693.2480 - mae: 3693.2480\n",
            "Epoch 186/200\n",
            "34/34 [==============================] - 0s 4ms/step - loss: 3696.1389 - mae: 3696.1389\n",
            "Epoch 187/200\n",
            "34/34 [==============================] - 0s 4ms/step - loss: 3687.8640 - mae: 3687.8640\n",
            "Epoch 188/200\n",
            "34/34 [==============================] - 0s 3ms/step - loss: 3693.3562 - mae: 3693.3562\n",
            "Epoch 189/200\n",
            "34/34 [==============================] - 0s 5ms/step - loss: 3682.7324 - mae: 3682.7324\n",
            "Epoch 190/200\n",
            "34/34 [==============================] - 0s 5ms/step - loss: 3683.2891 - mae: 3683.2891\n",
            "Epoch 191/200\n",
            "34/34 [==============================] - 0s 4ms/step - loss: 3697.6536 - mae: 3697.6536\n",
            "Epoch 192/200\n",
            "34/34 [==============================] - 0s 5ms/step - loss: 3684.6665 - mae: 3684.6665\n",
            "Epoch 193/200\n",
            "34/34 [==============================] - 0s 5ms/step - loss: 3675.5154 - mae: 3675.5154\n",
            "Epoch 194/200\n",
            "34/34 [==============================] - 0s 4ms/step - loss: 3676.3923 - mae: 3676.3923\n",
            "Epoch 195/200\n",
            "34/34 [==============================] - 0s 5ms/step - loss: 3672.8452 - mae: 3672.8452\n",
            "Epoch 196/200\n",
            "34/34 [==============================] - 0s 5ms/step - loss: 3682.0283 - mae: 3682.0283\n",
            "Epoch 197/200\n",
            "34/34 [==============================] - 0s 4ms/step - loss: 3665.7961 - mae: 3665.7961\n",
            "Epoch 198/200\n",
            "34/34 [==============================] - 0s 4ms/step - loss: 3671.7419 - mae: 3671.7419\n",
            "Epoch 199/200\n",
            "34/34 [==============================] - 0s 4ms/step - loss: 3680.5464 - mae: 3680.5464\n",
            "Epoch 200/200\n",
            "34/34 [==============================] - 0s 4ms/step - loss: 3665.6401 - mae: 3665.6401\n"
          ]
        }
      ]
    },
    {
      "cell_type": "code",
      "source": [
        "ins_model3.evaluate(X_test,y_test)"
      ],
      "metadata": {
        "colab": {
          "base_uri": "https://localhost:8080/"
        },
        "id": "c04lUPFXvGuV",
        "outputId": "8cdb2e12-7670-4893-b664-e8925ec47924"
      },
      "execution_count": null,
      "outputs": [
        {
          "output_type": "stream",
          "name": "stdout",
          "text": [
            "9/9 [==============================] - 0s 3ms/step - loss: 3491.2961 - mae: 3491.2961\n"
          ]
        },
        {
          "output_type": "execute_result",
          "data": {
            "text/plain": [
              "[3491.296142578125, 3491.296142578125]"
            ]
          },
          "metadata": {},
          "execution_count": 34
        }
      ]
    },
    {
      "cell_type": "code",
      "source": [
        "pd.DataFrame(history.history).plot()\n",
        "plt.ylabel('loss')\n",
        "plt.xlabel('epochs')"
      ],
      "metadata": {
        "colab": {
          "base_uri": "https://localhost:8080/",
          "height": 296
        },
        "id": "0ZvSLdmhyV0N",
        "outputId": "726994d3-8444-48a3-c8d8-f23746038dac"
      },
      "execution_count": null,
      "outputs": [
        {
          "output_type": "execute_result",
          "data": {
            "text/plain": [
              "Text(0.5, 0, 'epochs')"
            ]
          },
          "metadata": {},
          "execution_count": 35
        },
        {
          "output_type": "display_data",
          "data": {
            "text/plain": [
              "<Figure size 432x288 with 1 Axes>"
            ],
            "image/png": "[encoded data removed]"
          },
          "metadata": {
            "needs_background": "light"
          }
        }
      ]
    },
    {
      "cell_type": "code",
      "source": [
        "insurance.head()"
      ],
      "metadata": {
        "colab": {
          "base_uri": "https://localhost:8080/",
          "height": 206
        },
        "id": "GOdTHdFp6voU",
        "outputId": "e637dfba-8982-4103-fc24-110bf46ea3c6"
      },
      "execution_count": null,
      "outputs": [
        {
          "output_type": "execute_result",
          "data": {
            "text/plain": [
              "   age     sex     bmi  children smoker     region      charges\n",
              "0   19  female  27.900         0    yes  southwest  16884.92400\n",
              "1   18    male  33.770         1     no  southeast   1725.55230\n",
              "2   28    male  33.000         3     no  southeast   4449.46200\n",
              "3   33    male  22.705         0     no  northwest  21984.47061\n",
              "4   32    male  28.880         0     no  northwest   3866.85520"
            ],
            "text/html": [
              "\n",
              "  <div id=\"df-f2d1caec-be79-49c4-8640-d082f6196947\">\n",
              "    <div class=\"colab-df-container\">\n",
              "      <div>\n",
              "<style scoped>\n",
              "    .dataframe tbody tr th:only-of-type {\n",
              "        vertical-align: middle;\n",
              "    }\n",
              "\n",
              "    .dataframe tbody tr th {\n",
              "        vertical-align: top;\n",
              "    }\n",
              "\n",
              "    .dataframe thead th {\n",
              "        text-align: right;\n",
              "    }\n",
              "</style>\n",
              "<table border=\"1\" class=\"dataframe\">\n",
              "  <thead>\n",
              "    <tr style=\"text-align: right;\">\n",
              "      <th></th>\n",
              "      <th>age</th>\n",
              "      <th>sex</th>\n",
              "      <th>bmi</th>\n",
              "      <th>children</th>\n",
              "      <th>smoker</th>\n",
              "      <th>region</th>\n",
              "      <th>charges</th>\n",
              "    </tr>\n",
              "  </thead>\n",
              "  <tbody>\n",
              "    <tr>\n",
              "      <th>0</th>\n",
              "      <td>19</td>\n",
              "      <td>female</td>\n",
              "      <td>27.900</td>\n",
              "      <td>0</td>\n",
              "      <td>yes</td>\n",
              "      <td>southwest</td>\n",
              "      <td>16884.92400</td>\n",
              "    </tr>\n",
              "    <tr>\n",
              "      <th>1</th>\n",
              "      <td>18</td>\n",
              "      <td>male</td>\n",
              "      <td>33.770</td>\n",
              "      <td>1</td>\n",
              "      <td>no</td>\n",
              "      <td>southeast</td>\n",
              "      <td>1725.55230</td>\n",
              "    </tr>\n",
              "    <tr>\n",
              "      <th>2</th>\n",
              "      <td>28</td>\n",
              "      <td>male</td>\n",
              "      <td>33.000</td>\n",
              "      <td>3</td>\n",
              "      <td>no</td>\n",
              "      <td>southeast</td>\n",
              "      <td>4449.46200</td>\n",
              "    </tr>\n",
              "    <tr>\n",
              "      <th>3</th>\n",
              "      <td>33</td>\n",
              "      <td>male</td>\n",
              "      <td>22.705</td>\n",
              "      <td>0</td>\n",
              "      <td>no</td>\n",
              "      <td>northwest</td>\n",
              "      <td>21984.47061</td>\n",
              "    </tr>\n",
              "    <tr>\n",
              "      <th>4</th>\n",
              "      <td>32</td>\n",
              "      <td>male</td>\n",
              "      <td>28.880</td>\n",
              "      <td>0</td>\n",
              "      <td>no</td>\n",
              "      <td>northwest</td>\n",
              "      <td>3866.85520</td>\n",
              "    </tr>\n",
              "  </tbody>\n",
              "</table>\n",
              "</div>\n",
              "      <button class=\"colab-df-convert\" onclick=\"convertToInteractive('df-f2d1caec-be79-49c4-8640-d082f6196947')\"\n",
              "              title=\"Convert this dataframe to an interactive table.\"\n",
              "              style=\"display:none;\">\n",
              "        \n",
              "  <svg xmlns=\"http://www.w3.org/2000/svg\" height=\"24px\"viewBox=\"0 0 24 24\"\n",
              "       width=\"24px\">\n",
              "    <path d=\"M0 0h24v24H0V0z\" fill=\"none\"/>\n",
              "    <path d=\"M18.56 5.44l.94 2.06.94-2.06 2.06-.94-2.06-.94-.94-2.06-.94 2.06-2.06.94zm-11 1L8.5 8.5l.94-2.06 2.06-.94-2.06-.94L8.5 2.5l-.94 2.06-2.06.94zm10 10l.94 2.06.94-2.06 2.06-.94-2.06-.94-.94-2.06-.94 2.06-2.06.94z\"/><path d=\"M17.41 7.96l-1.37-1.37c-.4-.4-.92-.59-1.43-.59-.52 0-1.04.2-1.43.59L10.3 9.45l-7.72 7.72c-.78.78-.78 2.05 0 2.83L4 21.41c.39.39.9.59 1.41.59.51 0 1.02-.2 1.41-.59l7.78-7.78 2.81-2.81c.8-.78.8-2.07 0-2.86zM5.41 20L4 18.59l7.72-7.72 1.47 1.35L5.41 20z\"/>\n",
              "  </svg>\n",
              "      </button>\n",
              "      \n",
              "  <style>\n",
              "    .colab-df-container {\n",
              "      display:flex;\n",
              "      flex-wrap:wrap;\n",
              "      gap: 12px;\n",
              "    }\n",
              "\n",
              "    .colab-df-convert {\n",
              "      background-color: #E8F0FE;\n",
              "      border: none;\n",
              "      border-radius: 50%;\n",
              "      cursor: pointer;\n",
              "      display: none;\n",
              "      fill: #1967D2;\n",
              "      height: 32px;\n",
              "      padding: 0 0 0 0;\n",
              "      width: 32px;\n",
              "    }\n",
              "\n",
              "    .colab-df-convert:hover {\n",
              "      background-color: #E2EBFA;\n",
              "      box-shadow: 0px 1px 2px rgba(60, 64, 67, 0.3), 0px 1px 3px 1px rgba(60, 64, 67, 0.15);\n",
              "      fill: #174EA6;\n",
              "    }\n",
              "\n",
              "    [theme=dark] .colab-df-convert {\n",
              "      background-color: #3B4455;\n",
              "      fill: #D2E3FC;\n",
              "    }\n",
              "\n",
              "    [theme=dark] .colab-df-convert:hover {\n",
              "      background-color: #434B5C;\n",
              "      box-shadow: 0px 1px 3px 1px rgba(0, 0, 0, 0.15);\n",
              "      filter: drop-shadow(0px 1px 2px rgba(0, 0, 0, 0.3));\n",
              "      fill: #FFFFFF;\n",
              "    }\n",
              "  </style>\n",
              "\n",
              "      <script>\n",
              "        const buttonEl =\n",
              "          document.querySelector('#df-f2d1caec-be79-49c4-8640-d082f6196947 button.colab-df-convert');\n",
              "        buttonEl.style.display =\n",
              "          google.colab.kernel.accessAllowed ? 'block' : 'none';\n",
              "\n",
              "        async function convertToInteractive(key) {\n",
              "          const element = document.querySelector('#df-f2d1caec-be79-49c4-8640-d082f6196947');\n",
              "          const dataTable =\n",
              "            await google.colab.kernel.invokeFunction('convertToInteractive',\n",
              "                                                     [key], {});\n",
              "          if (!dataTable) return;\n",
              "\n",
              "          const docLinkHtml = 'Like what you see? Visit the ' +\n",
              "            '<a target=\"_blank\" href=https://colab.research.google.com/notebooks/data_table.ipynb>data table notebook</a>'\n",
              "            + ' to learn more about interactive tables.';\n",
              "          element.innerHTML = '';\n",
              "          dataTable['output_type'] = 'display_data';\n",
              "          await google.colab.output.renderOutput(dataTable, element);\n",
              "          const docLink = document.createElement('div');\n",
              "          docLink.innerHTML = docLinkHtml;\n",
              "          element.appendChild(docLink);\n",
              "        }\n",
              "      </script>\n",
              "    </div>\n",
              "  </div>\n",
              "  "
            ]
          },
          "metadata": {},
          "execution_count": 41
        }
      ]
    },
    {
      "cell_type": "code",
      "source": [
        "X.head()"
      ],
      "metadata": {
        "colab": {
          "base_uri": "https://localhost:8080/",
          "height": 250
        },
        "id": "t26amrjL7NmD",
        "outputId": "febc8648-3982-4b94-8278-60d7cccbb517"
      },
      "execution_count": null,
      "outputs": [
        {
          "output_type": "execute_result",
          "data": {
            "text/plain": [
              "   age     bmi  children  sex_female  sex_male  smoker_no  smoker_yes  \\\n",
              "0   19  27.900         0           1         0          0           1   \n",
              "1   18  33.770         1           0         1          1           0   \n",
              "2   28  33.000         3           0         1          1           0   \n",
              "3   33  22.705         0           0         1          1           0   \n",
              "4   32  28.880         0           0         1          1           0   \n",
              "\n",
              "   region_northeast  region_northwest  region_southeast  region_southwest  \n",
              "0                 0                 0                 0                 1  \n",
              "1                 0                 0                 1                 0  \n",
              "2                 0                 0                 1                 0  \n",
              "3                 0                 1                 0                 0  \n",
              "4                 0                 1                 0                 0  "
            ],
            "text/html": [
              "\n",
              "  <div id=\"df-5e7e0eb0-d6ed-48ad-aba8-d34c071dc06a\">\n",
              "    <div class=\"colab-df-container\">\n",
              "      <div>\n",
              "<style scoped>\n",
              "    .dataframe tbody tr th:only-of-type {\n",
              "        vertical-align: middle;\n",
              "    }\n",
              "\n",
              "    .dataframe tbody tr th {\n",
              "        vertical-align: top;\n",
              "    }\n",
              "\n",
              "    .dataframe thead th {\n",
              "        text-align: right;\n",
              "    }\n",
              "</style>\n",
              "<table border=\"1\" class=\"dataframe\">\n",
              "  <thead>\n",
              "    <tr style=\"text-align: right;\">\n",
              "      <th></th>\n",
              "      <th>age</th>\n",
              "      <th>bmi</th>\n",
              "      <th>children</th>\n",
              "      <th>sex_female</th>\n",
              "      <th>sex_male</th>\n",
              "      <th>smoker_no</th>\n",
              "      <th>smoker_yes</th>\n",
              "      <th>region_northeast</th>\n",
              "      <th>region_northwest</th>\n",
              "      <th>region_southeast</th>\n",
              "      <th>region_southwest</th>\n",
              "    </tr>\n",
              "  </thead>\n",
              "  <tbody>\n",
              "    <tr>\n",
              "      <th>0</th>\n",
              "      <td>19</td>\n",
              "      <td>27.900</td>\n",
              "      <td>0</td>\n",
              "      <td>1</td>\n",
              "      <td>0</td>\n",
              "      <td>0</td>\n",
              "      <td>1</td>\n",
              "      <td>0</td>\n",
              "      <td>0</td>\n",
              "      <td>0</td>\n",
              "      <td>1</td>\n",
              "    </tr>\n",
              "    <tr>\n",
              "      <th>1</th>\n",
              "      <td>18</td>\n",
              "      <td>33.770</td>\n",
              "      <td>1</td>\n",
              "      <td>0</td>\n",
              "      <td>1</td>\n",
              "      <td>1</td>\n",
              "      <td>0</td>\n",
              "      <td>0</td>\n",
              "      <td>0</td>\n",
              "      <td>1</td>\n",
              "      <td>0</td>\n",
              "    </tr>\n",
              "    <tr>\n",
              "      <th>2</th>\n",
              "      <td>28</td>\n",
              "      <td>33.000</td>\n",
              "      <td>3</td>\n",
              "      <td>0</td>\n",
              "      <td>1</td>\n",
              "      <td>1</td>\n",
              "      <td>0</td>\n",
              "      <td>0</td>\n",
              "      <td>0</td>\n",
              "      <td>1</td>\n",
              "      <td>0</td>\n",
              "    </tr>\n",
              "    <tr>\n",
              "      <th>3</th>\n",
              "      <td>33</td>\n",
              "      <td>22.705</td>\n",
              "      <td>0</td>\n",
              "      <td>0</td>\n",
              "      <td>1</td>\n",
              "      <td>1</td>\n",
              "      <td>0</td>\n",
              "      <td>0</td>\n",
              "      <td>1</td>\n",
              "      <td>0</td>\n",
              "      <td>0</td>\n",
              "    </tr>\n",
              "    <tr>\n",
              "      <th>4</th>\n",
              "      <td>32</td>\n",
              "      <td>28.880</td>\n",
              "      <td>0</td>\n",
              "      <td>0</td>\n",
              "      <td>1</td>\n",
              "      <td>1</td>\n",
              "      <td>0</td>\n",
              "      <td>0</td>\n",
              "      <td>1</td>\n",
              "      <td>0</td>\n",
              "      <td>0</td>\n",
              "    </tr>\n",
              "  </tbody>\n",
              "</table>\n",
              "</div>\n",
              "      <button class=\"colab-df-convert\" onclick=\"convertToInteractive('df-5e7e0eb0-d6ed-48ad-aba8-d34c071dc06a')\"\n",
              "              title=\"Convert this dataframe to an interactive table.\"\n",
              "              style=\"display:none;\">\n",
              "        \n",
              "  <svg xmlns=\"http://www.w3.org/2000/svg\" height=\"24px\"viewBox=\"0 0 24 24\"\n",
              "       width=\"24px\">\n",
              "    <path d=\"M0 0h24v24H0V0z\" fill=\"none\"/>\n",
              "    <path d=\"M18.56 5.44l.94 2.06.94-2.06 2.06-.94-2.06-.94-.94-2.06-.94 2.06-2.06.94zm-11 1L8.5 8.5l.94-2.06 2.06-.94-2.06-.94L8.5 2.5l-.94 2.06-2.06.94zm10 10l.94 2.06.94-2.06 2.06-.94-2.06-.94-.94-2.06-.94 2.06-2.06.94z\"/><path d=\"M17.41 7.96l-1.37-1.37c-.4-.4-.92-.59-1.43-.59-.52 0-1.04.2-1.43.59L10.3 9.45l-7.72 7.72c-.78.78-.78 2.05 0 2.83L4 21.41c.39.39.9.59 1.41.59.51 0 1.02-.2 1.41-.59l7.78-7.78 2.81-2.81c.8-.78.8-2.07 0-2.86zM5.41 20L4 18.59l7.72-7.72 1.47 1.35L5.41 20z\"/>\n",
              "  </svg>\n",
              "      </button>\n",
              "      \n",
              "  <style>\n",
              "    .colab-df-container {\n",
              "      display:flex;\n",
              "      flex-wrap:wrap;\n",
              "      gap: 12px;\n",
              "    }\n",
              "\n",
              "    .colab-df-convert {\n",
              "      background-color: #E8F0FE;\n",
              "      border: none;\n",
              "      border-radius: 50%;\n",
              "      cursor: pointer;\n",
              "      display: none;\n",
              "      fill: #1967D2;\n",
              "      height: 32px;\n",
              "      padding: 0 0 0 0;\n",
              "      width: 32px;\n",
              "    }\n",
              "\n",
              "    .colab-df-convert:hover {\n",
              "      background-color: #E2EBFA;\n",
              "      box-shadow: 0px 1px 2px rgba(60, 64, 67, 0.3), 0px 1px 3px 1px rgba(60, 64, 67, 0.15);\n",
              "      fill: #174EA6;\n",
              "    }\n",
              "\n",
              "    [theme=dark] .colab-df-convert {\n",
              "      background-color: #3B4455;\n",
              "      fill: #D2E3FC;\n",
              "    }\n",
              "\n",
              "    [theme=dark] .colab-df-convert:hover {\n",
              "      background-color: #434B5C;\n",
              "      box-shadow: 0px 1px 3px 1px rgba(0, 0, 0, 0.15);\n",
              "      filter: drop-shadow(0px 1px 2px rgba(0, 0, 0, 0.3));\n",
              "      fill: #FFFFFF;\n",
              "    }\n",
              "  </style>\n",
              "\n",
              "      <script>\n",
              "        const buttonEl =\n",
              "          document.querySelector('#df-5e7e0eb0-d6ed-48ad-aba8-d34c071dc06a button.colab-df-convert');\n",
              "        buttonEl.style.display =\n",
              "          google.colab.kernel.accessAllowed ? 'block' : 'none';\n",
              "\n",
              "        async function convertToInteractive(key) {\n",
              "          const element = document.querySelector('#df-5e7e0eb0-d6ed-48ad-aba8-d34c071dc06a');\n",
              "          const dataTable =\n",
              "            await google.colab.kernel.invokeFunction('convertToInteractive',\n",
              "                                                     [key], {});\n",
              "          if (!dataTable) return;\n",
              "\n",
              "          const docLinkHtml = 'Like what you see? Visit the ' +\n",
              "            '<a target=\"_blank\" href=https://colab.research.google.com/notebooks/data_table.ipynb>data table notebook</a>'\n",
              "            + ' to learn more about interactive tables.';\n",
              "          element.innerHTML = '';\n",
              "          dataTable['output_type'] = 'display_data';\n",
              "          await google.colab.output.renderOutput(dataTable, element);\n",
              "          const docLink = document.createElement('div');\n",
              "          docLink.innerHTML = docLinkHtml;\n",
              "          element.appendChild(docLink);\n",
              "        }\n",
              "      </script>\n",
              "    </div>\n",
              "  </div>\n",
              "  "
            ]
          },
          "metadata": {},
          "execution_count": 42
        }
      ]
    },
    {
      "cell_type": "code",
      "source": [
        "# Preprocessing\n",
        "X['age'].plot(kind='hist')"
      ],
      "metadata": {
        "colab": {
          "base_uri": "https://localhost:8080/",
          "height": 282
        },
        "id": "RHTKpcw_yzBD",
        "outputId": "8b62781a-94d5-4161-c555-35ff3fdbff98"
      },
      "execution_count": null,
      "outputs": [
        {
          "output_type": "execute_result",
          "data": {
            "text/plain": [
              "<matplotlib.axes._subplots.AxesSubplot at 0x7f089fad5550>"
            ]
          },
          "metadata": {},
          "execution_count": 37
        },
        {
          "output_type": "display_data",
          "data": {
            "text/plain": [
              "<Figure size 432x288 with 1 Axes>"
            ],
            "image/png": "[encoded data removed]"
          },
          "metadata": {
            "needs_background": "light"
          }
        }
      ]
    },
    {
      "cell_type": "code",
      "source": [
        "X['bmi'].plot(kind='box')"
      ],
      "metadata": {
        "colab": {
          "base_uri": "https://localhost:8080/",
          "height": 282
        },
        "id": "bTlms2Qr4qtK",
        "outputId": "e183f0ed-edf5-4a5c-f1b8-8049e29256a7"
      },
      "execution_count": null,
      "outputs": [
        {
          "output_type": "execute_result",
          "data": {
            "text/plain": [
              "<matplotlib.axes._subplots.AxesSubplot at 0x7f0898e8fe50>"
            ]
          },
          "metadata": {},
          "execution_count": 39
        },
        {
          "output_type": "display_data",
          "data": {
            "text/plain": [
              "<Figure size 432x288 with 1 Axes>"
            ],
            "image/png": "[encoded data removed]"
          },
          "metadata": {
            "needs_background": "light"
          }
        }
      ]
    },
    {
      "cell_type": "code",
      "source": [
        "from sklearn.compose import make_column_transformer\n",
        "from sklearn.preprocessing import MinMaxScaler, OneHotEncoder"
      ],
      "metadata": {
        "id": "mZqBQMLO41Tm"
      },
      "execution_count": null,
      "outputs": []
    },
    {
      "cell_type": "code",
      "source": [
        "ct = make_column_transformer(\n",
        "    (MinMaxScaler(),['age','bmi','children']),\n",
        "    (OneHotEncoder(handle_unknown='ignore'),['sex','smoker','region'])\n",
        ")\n",
        "\n",
        "X = insurance.drop('charges',axis=1)\n",
        "y=insurance['charges']\n",
        "\n",
        "X_train,X_test,y_train,y_test=train_test_split(X,y,test_size=0.2,random_state=42)\n",
        "\n",
        "ct.fit(X_train)\n",
        "\n",
        "X_train_normal=ct.transform(X_train)\n",
        "X_test_normal=ct.transform(X_test)"
      ],
      "metadata": {
        "id": "sXBmgk5x8SSw"
      },
      "execution_count": null,
      "outputs": []
    },
    {
      "cell_type": "code",
      "source": [
        "X_train_normal[5]"
      ],
      "metadata": {
        "colab": {
          "base_uri": "https://localhost:8080/"
        },
        "id": "AXqu-2Qq9T_M",
        "outputId": "93a599aa-de03-4ad7-9434-4e1636e21c22"
      },
      "execution_count": null,
      "outputs": [
        {
          "output_type": "execute_result",
          "data": {
            "text/plain": [
              "array([0.97826087, 0.68630616, 0.        , 0.        , 1.        ,\n",
              "       1.        , 0.        , 0.        , 0.        , 1.        ,\n",
              "       0.        ])"
            ]
          },
          "metadata": {},
          "execution_count": 48
        }
      ]
    },
    {
      "cell_type": "code",
      "source": [
        "tf.random.set_seed(42)\n",
        "ins_model4=tf.keras.Sequential([\n",
        "    tf.keras.layers.Dense(200),\n",
        "    tf.keras.layers.Dense(100,activation='relu'),\n",
        "    tf.keras.layers.Dense(10,activation='relu'),\n",
        "    tf.keras.layers.Dense(1)\n",
        "])\n",
        "ins_model4.compile(loss=tf.keras.losses.mae,\n",
        "                   optimizer=tf.keras.optimizers.SGD(learning_rate=0.001),\n",
        "                   metrics=['mae'])\n",
        "history4=ins_model4.fit(X_train_normal,y_train,epochs=200)"
      ],
      "metadata": {
        "colab": {
          "base_uri": "https://localhost:8080/"
        },
        "id": "bu4mWZnH9XwA",
        "outputId": "2d019866-e3fb-47ff-8268-ccc36aae0162"
      },
      "execution_count": null,
      "outputs": [
        {
          "output_type": "stream",
          "name": "stdout",
          "text": [
            "Epoch 1/200\n",
            "34/34 [==============================] - 1s 4ms/step - loss: 13346.1211 - mae: 13346.1211\n",
            "Epoch 2/200\n",
            "34/34 [==============================] - 0s 4ms/step - loss: 13345.9941 - mae: 13345.9941\n",
            "Epoch 3/200\n",
            "34/34 [==============================] - 0s 4ms/step - loss: 13345.8809 - mae: 13345.8809\n",
            "Epoch 4/200\n",
            "34/34 [==============================] - 0s 4ms/step - loss: 13345.7734 - mae: 13345.7734\n",
            "Epoch 5/200\n",
            "34/34 [==============================] - 0s 4ms/step - loss: 13345.6592 - mae: 13345.6592\n",
            "Epoch 6/200\n",
            "34/34 [==============================] - 0s 5ms/step - loss: 13345.5273 - mae: 13345.5273\n",
            "Epoch 7/200\n",
            "34/34 [==============================] - 0s 3ms/step - loss: 13345.3701 - mae: 13345.3701\n",
            "Epoch 8/200\n",
            "34/34 [==============================] - 0s 3ms/step - loss: 13345.1816 - mae: 13345.1816\n",
            "Epoch 9/200\n",
            "34/34 [==============================] - 0s 4ms/step - loss: 13344.9424 - mae: 13344.9424\n",
            "Epoch 10/200\n",
            "34/34 [==============================] - 0s 3ms/step - loss: 13344.6270 - mae: 13344.6270\n",
            "Epoch 11/200\n",
            "34/34 [==============================] - 0s 4ms/step - loss: 13344.2002 - mae: 13344.2002\n",
            "Epoch 12/200\n",
            "34/34 [==============================] - 0s 4ms/step - loss: 13343.5742 - mae: 13343.5742\n",
            "Epoch 13/200\n",
            "34/34 [==============================] - 0s 3ms/step - loss: 13342.6279 - mae: 13342.6279\n",
            "Epoch 14/200\n",
            "34/34 [==============================] - 0s 3ms/step - loss: 13341.0830 - mae: 13341.0830\n",
            "Epoch 15/200\n",
            "34/34 [==============================] - 0s 3ms/step - loss: 13338.2969 - mae: 13338.2969\n",
            "Epoch 16/200\n",
            "34/34 [==============================] - 0s 3ms/step - loss: 13332.4141 - mae: 13332.4141\n",
            "Epoch 17/200\n",
            "34/34 [==============================] - 0s 4ms/step - loss: 13316.1094 - mae: 13316.1094\n",
            "Epoch 18/200\n",
            "34/34 [==============================] - 0s 3ms/step - loss: 13230.3086 - mae: 13230.3086\n",
            "Epoch 19/200\n",
            "34/34 [==============================] - 0s 3ms/step - loss: 10512.7324 - mae: 10512.7324\n",
            "Epoch 20/200\n",
            "34/34 [==============================] - 0s 4ms/step - loss: 6318.7173 - mae: 6318.7173\n",
            "Epoch 21/200\n",
            "34/34 [==============================] - 0s 4ms/step - loss: 5189.0117 - mae: 5189.0117\n",
            "Epoch 22/200\n",
            "34/34 [==============================] - 0s 3ms/step - loss: 4681.8906 - mae: 4681.8906\n",
            "Epoch 23/200\n",
            "34/34 [==============================] - 0s 2ms/step - loss: 4335.2041 - mae: 4335.2041\n",
            "Epoch 24/200\n",
            "34/34 [==============================] - 0s 3ms/step - loss: 4358.6016 - mae: 4358.6016\n",
            "Epoch 25/200\n",
            "34/34 [==============================] - 0s 3ms/step - loss: 4338.1660 - mae: 4338.1660\n",
            "Epoch 26/200\n",
            "34/34 [==============================] - 0s 4ms/step - loss: 4083.2024 - mae: 4083.2024\n",
            "Epoch 27/200\n",
            "34/34 [==============================] - 0s 3ms/step - loss: 4260.5039 - mae: 4260.5039\n",
            "Epoch 28/200\n",
            "34/34 [==============================] - 0s 3ms/step - loss: 4164.2700 - mae: 4164.2700\n",
            "Epoch 29/200\n",
            "34/34 [==============================] - 0s 4ms/step - loss: 4343.6377 - mae: 4343.6377\n",
            "Epoch 30/200\n",
            "34/34 [==============================] - 0s 3ms/step - loss: 4278.9688 - mae: 4278.9688\n",
            "Epoch 31/200\n",
            "34/34 [==============================] - 0s 3ms/step - loss: 4181.2334 - mae: 4181.2334\n",
            "Epoch 32/200\n",
            "34/34 [==============================] - 0s 4ms/step - loss: 4346.1611 - mae: 4346.1611\n",
            "Epoch 33/200\n",
            "34/34 [==============================] - 0s 3ms/step - loss: 4302.4575 - mae: 4302.4575\n",
            "Epoch 34/200\n",
            "34/34 [==============================] - 0s 3ms/step - loss: 4205.3643 - mae: 4205.3643\n",
            "Epoch 35/200\n",
            "34/34 [==============================] - 0s 3ms/step - loss: 4128.4092 - mae: 4128.4092\n",
            "Epoch 36/200\n",
            "34/34 [==============================] - 0s 3ms/step - loss: 4444.8345 - mae: 4444.8345\n",
            "Epoch 37/200\n",
            "34/34 [==============================] - 0s 3ms/step - loss: 4016.6289 - mae: 4016.6289\n",
            "Epoch 38/200\n",
            "34/34 [==============================] - 0s 4ms/step - loss: 4065.6221 - mae: 4065.6221\n",
            "Epoch 39/200\n",
            "34/34 [==============================] - 0s 4ms/step - loss: 4406.3584 - mae: 4406.3584\n",
            "Epoch 40/200\n",
            "34/34 [==============================] - 0s 3ms/step - loss: 4164.9556 - mae: 4164.9556\n",
            "Epoch 41/200\n",
            "34/34 [==============================] - 0s 3ms/step - loss: 4218.4971 - mae: 4218.4971\n",
            "Epoch 42/200\n",
            "34/34 [==============================] - 0s 3ms/step - loss: 3984.4688 - mae: 3984.4688\n",
            "Epoch 43/200\n",
            "34/34 [==============================] - 0s 3ms/step - loss: 4267.9863 - mae: 4267.9863\n",
            "Epoch 44/200\n",
            "34/34 [==============================] - 0s 3ms/step - loss: 4182.5361 - mae: 4182.5361\n",
            "Epoch 45/200\n",
            "34/34 [==============================] - 0s 3ms/step - loss: 4034.8181 - mae: 4034.8181\n",
            "Epoch 46/200\n",
            "34/34 [==============================] - 0s 3ms/step - loss: 4111.0786 - mae: 4111.0786\n",
            "Epoch 47/200\n",
            "34/34 [==============================] - 0s 4ms/step - loss: 4085.0916 - mae: 4085.0916\n",
            "Epoch 48/200\n",
            "34/34 [==============================] - 0s 3ms/step - loss: 4030.9836 - mae: 4030.9836\n",
            "Epoch 49/200\n",
            "34/34 [==============================] - 0s 3ms/step - loss: 4091.2197 - mae: 4091.2197\n",
            "Epoch 50/200\n",
            "34/34 [==============================] - 0s 3ms/step - loss: 4034.5920 - mae: 4034.5920\n",
            "Epoch 51/200\n",
            "34/34 [==============================] - 0s 3ms/step - loss: 4279.5635 - mae: 4279.5635\n",
            "Epoch 52/200\n",
            "34/34 [==============================] - 0s 3ms/step - loss: 3955.4851 - mae: 3955.4851\n",
            "Epoch 53/200\n",
            "34/34 [==============================] - 0s 3ms/step - loss: 3927.7107 - mae: 3927.7107\n",
            "Epoch 54/200\n",
            "34/34 [==============================] - 0s 3ms/step - loss: 4204.4038 - mae: 4204.4038\n",
            "Epoch 55/200\n",
            "34/34 [==============================] - 0s 3ms/step - loss: 4048.0742 - mae: 4048.0742\n",
            "Epoch 56/200\n",
            "34/34 [==============================] - 0s 4ms/step - loss: 4117.4839 - mae: 4117.4839\n",
            "Epoch 57/200\n",
            "34/34 [==============================] - 0s 3ms/step - loss: 4170.1338 - mae: 4170.1338\n",
            "Epoch 58/200\n",
            "34/34 [==============================] - 0s 3ms/step - loss: 4027.4407 - mae: 4027.4407\n",
            "Epoch 59/200\n",
            "34/34 [==============================] - 0s 3ms/step - loss: 4093.8328 - mae: 4093.8328\n",
            "Epoch 60/200\n",
            "34/34 [==============================] - 0s 3ms/step - loss: 4123.4946 - mae: 4123.4946\n",
            "Epoch 61/200\n",
            "34/34 [==============================] - 0s 3ms/step - loss: 4159.6489 - mae: 4159.6489\n",
            "Epoch 62/200\n",
            "34/34 [==============================] - 0s 4ms/step - loss: 4071.3088 - mae: 4071.3088\n",
            "Epoch 63/200\n",
            "34/34 [==============================] - 0s 2ms/step - loss: 3957.0042 - mae: 3957.0042\n",
            "Epoch 64/200\n",
            "34/34 [==============================] - 0s 2ms/step - loss: 3966.5874 - mae: 3966.5874\n",
            "Epoch 65/200\n",
            "34/34 [==============================] - 0s 2ms/step - loss: 4057.7378 - mae: 4057.7378\n",
            "Epoch 66/200\n",
            "34/34 [==============================] - 0s 2ms/step - loss: 3957.7476 - mae: 3957.7476\n",
            "Epoch 67/200\n",
            "34/34 [==============================] - 0s 2ms/step - loss: 4128.6328 - mae: 4128.6328\n",
            "Epoch 68/200\n",
            "34/34 [==============================] - 0s 2ms/step - loss: 4126.8911 - mae: 4126.8911\n",
            "Epoch 69/200\n",
            "34/34 [==============================] - 0s 2ms/step - loss: 4119.5811 - mae: 4119.5811\n",
            "Epoch 70/200\n",
            "34/34 [==============================] - 0s 2ms/step - loss: 4175.6514 - mae: 4175.6514\n",
            "Epoch 71/200\n",
            "34/34 [==============================] - 0s 2ms/step - loss: 4016.7795 - mae: 4016.7795\n",
            "Epoch 72/200\n",
            "34/34 [==============================] - 0s 2ms/step - loss: 4085.8406 - mae: 4085.8406\n",
            "Epoch 73/200\n",
            "34/34 [==============================] - 0s 2ms/step - loss: 4060.0696 - mae: 4060.0696\n",
            "Epoch 74/200\n",
            "34/34 [==============================] - 0s 2ms/step - loss: 4144.8823 - mae: 4144.8823\n",
            "Epoch 75/200\n",
            "34/34 [==============================] - 0s 2ms/step - loss: 4343.5737 - mae: 4343.5737\n",
            "Epoch 76/200\n",
            "34/34 [==============================] - 0s 2ms/step - loss: 4048.8528 - mae: 4048.8528\n",
            "Epoch 77/200\n",
            "34/34 [==============================] - 0s 3ms/step - loss: 3990.5562 - mae: 3990.5562\n",
            "Epoch 78/200\n",
            "34/34 [==============================] - 0s 2ms/step - loss: 4066.4463 - mae: 4066.4463\n",
            "Epoch 79/200\n",
            "34/34 [==============================] - 0s 2ms/step - loss: 4335.0737 - mae: 4335.0737\n",
            "Epoch 80/200\n",
            "34/34 [==============================] - 0s 2ms/step - loss: 4019.6155 - mae: 4019.6155\n",
            "Epoch 81/200\n",
            "34/34 [==============================] - 0s 2ms/step - loss: 3996.9033 - mae: 3996.9033\n",
            "Epoch 82/200\n",
            "34/34 [==============================] - 0s 2ms/step - loss: 4361.5239 - mae: 4361.5239\n",
            "Epoch 83/200\n",
            "34/34 [==============================] - 0s 2ms/step - loss: 4157.4160 - mae: 4157.4160\n",
            "Epoch 84/200\n",
            "34/34 [==============================] - 0s 2ms/step - loss: 4106.2471 - mae: 4106.2471\n",
            "Epoch 85/200\n",
            "34/34 [==============================] - 0s 2ms/step - loss: 4022.2034 - mae: 4022.2034\n",
            "Epoch 86/200\n",
            "34/34 [==============================] - 0s 2ms/step - loss: 4077.4028 - mae: 4077.4028\n",
            "Epoch 87/200\n",
            "34/34 [==============================] - 0s 2ms/step - loss: 3987.3987 - mae: 3987.3987\n",
            "Epoch 88/200\n",
            "34/34 [==============================] - 0s 2ms/step - loss: 4046.7244 - mae: 4046.7244\n",
            "Epoch 89/200\n",
            "34/34 [==============================] - 0s 2ms/step - loss: 4022.8635 - mae: 4022.8635\n",
            "Epoch 90/200\n",
            "34/34 [==============================] - 0s 3ms/step - loss: 4093.0613 - mae: 4093.0613\n",
            "Epoch 91/200\n",
            "34/34 [==============================] - 0s 2ms/step - loss: 3966.0837 - mae: 3966.0837\n",
            "Epoch 92/200\n",
            "34/34 [==============================] - 0s 2ms/step - loss: 4140.7217 - mae: 4140.7217\n",
            "Epoch 93/200\n",
            "34/34 [==============================] - 0s 2ms/step - loss: 4088.8396 - mae: 4088.8396\n",
            "Epoch 94/200\n",
            "34/34 [==============================] - 0s 2ms/step - loss: 4080.2219 - mae: 4080.2219\n",
            "Epoch 95/200\n",
            "34/34 [==============================] - 0s 2ms/step - loss: 4090.9846 - mae: 4090.9846\n",
            "Epoch 96/200\n",
            "34/34 [==============================] - 0s 2ms/step - loss: 4001.9607 - mae: 4001.9607\n",
            "Epoch 97/200\n",
            "34/34 [==============================] - 0s 2ms/step - loss: 4037.4412 - mae: 4037.4412\n",
            "Epoch 98/200\n",
            "34/34 [==============================] - 0s 2ms/step - loss: 3952.9883 - mae: 3952.9883\n",
            "Epoch 99/200\n",
            "34/34 [==============================] - 0s 2ms/step - loss: 4083.2485 - mae: 4083.2485\n",
            "Epoch 100/200\n",
            "34/34 [==============================] - 0s 2ms/step - loss: 4138.5732 - mae: 4138.5732\n",
            "Epoch 101/200\n",
            "34/34 [==============================] - 0s 2ms/step - loss: 4075.9785 - mae: 4075.9785\n",
            "Epoch 102/200\n",
            "34/34 [==============================] - 0s 2ms/step - loss: 4245.0659 - mae: 4245.0659\n",
            "Epoch 103/200\n",
            "34/34 [==============================] - 0s 2ms/step - loss: 3947.3062 - mae: 3947.3062\n",
            "Epoch 104/200\n",
            "34/34 [==============================] - 0s 2ms/step - loss: 4112.1792 - mae: 4112.1792\n",
            "Epoch 105/200\n",
            "34/34 [==============================] - 0s 2ms/step - loss: 4057.5103 - mae: 4057.5103\n",
            "Epoch 106/200\n",
            "34/34 [==============================] - 0s 2ms/step - loss: 3942.6294 - mae: 3942.6294\n",
            "Epoch 107/200\n",
            "34/34 [==============================] - 0s 2ms/step - loss: 4001.1550 - mae: 4001.1550\n",
            "Epoch 108/200\n",
            "34/34 [==============================] - 0s 2ms/step - loss: 3985.3047 - mae: 3985.3047\n",
            "Epoch 109/200\n",
            "34/34 [==============================] - 0s 2ms/step - loss: 4008.9519 - mae: 4008.9519\n",
            "Epoch 110/200\n",
            "34/34 [==============================] - 0s 2ms/step - loss: 4012.1426 - mae: 4012.1426\n",
            "Epoch 111/200\n",
            "34/34 [==============================] - 0s 2ms/step - loss: 4007.4709 - mae: 4007.4709\n",
            "Epoch 112/200\n",
            "34/34 [==============================] - 0s 2ms/step - loss: 4019.4060 - mae: 4019.4060\n",
            "Epoch 113/200\n",
            "34/34 [==============================] - 0s 2ms/step - loss: 3897.8962 - mae: 3897.8962\n",
            "Epoch 114/200\n",
            "34/34 [==============================] - 0s 2ms/step - loss: 4123.8623 - mae: 4123.8623\n",
            "Epoch 115/200\n",
            "34/34 [==============================] - 0s 2ms/step - loss: 4027.0037 - mae: 4027.0037\n",
            "Epoch 116/200\n",
            "34/34 [==============================] - 0s 2ms/step - loss: 4033.6221 - mae: 4033.6221\n",
            "Epoch 117/200\n",
            "34/34 [==============================] - 0s 2ms/step - loss: 4033.0608 - mae: 4033.0608\n",
            "Epoch 118/200\n",
            "34/34 [==============================] - 0s 2ms/step - loss: 4310.8906 - mae: 4310.8906\n",
            "Epoch 119/200\n",
            "34/34 [==============================] - 0s 2ms/step - loss: 3903.9397 - mae: 3903.9397\n",
            "Epoch 120/200\n",
            "34/34 [==============================] - 0s 2ms/step - loss: 3784.0020 - mae: 3784.0020\n",
            "Epoch 121/200\n",
            "34/34 [==============================] - 0s 2ms/step - loss: 3817.6287 - mae: 3817.6287\n",
            "Epoch 122/200\n",
            "34/34 [==============================] - 0s 2ms/step - loss: 4098.7451 - mae: 4098.7451\n",
            "Epoch 123/200\n",
            "34/34 [==============================] - 0s 2ms/step - loss: 3844.8518 - mae: 3844.8518\n",
            "Epoch 124/200\n",
            "34/34 [==============================] - 0s 2ms/step - loss: 3880.6194 - mae: 3880.6194\n",
            "Epoch 125/200\n",
            "34/34 [==============================] - 0s 2ms/step - loss: 3699.4314 - mae: 3699.4314\n",
            "Epoch 126/200\n",
            "34/34 [==============================] - 0s 2ms/step - loss: 3877.6846 - mae: 3877.6846\n",
            "Epoch 127/200\n",
            "34/34 [==============================] - 0s 2ms/step - loss: 3731.1233 - mae: 3731.1233\n",
            "Epoch 128/200\n",
            "34/34 [==============================] - 0s 2ms/step - loss: 3698.4072 - mae: 3698.4072\n",
            "Epoch 129/200\n",
            "34/34 [==============================] - 0s 2ms/step - loss: 3772.7734 - mae: 3772.7734\n",
            "Epoch 130/200\n",
            "34/34 [==============================] - 0s 2ms/step - loss: 3935.2112 - mae: 3935.2112\n",
            "Epoch 131/200\n",
            "34/34 [==============================] - 0s 2ms/step - loss: 3720.2434 - mae: 3720.2434\n",
            "Epoch 132/200\n",
            "34/34 [==============================] - 0s 2ms/step - loss: 3699.5864 - mae: 3699.5864\n",
            "Epoch 133/200\n",
            "34/34 [==============================] - 0s 2ms/step - loss: 3747.2327 - mae: 3747.2327\n",
            "Epoch 134/200\n",
            "34/34 [==============================] - 0s 2ms/step - loss: 3515.5610 - mae: 3515.5610\n",
            "Epoch 135/200\n",
            "34/34 [==============================] - 0s 2ms/step - loss: 3639.3152 - mae: 3639.3152\n",
            "Epoch 136/200\n",
            "34/34 [==============================] - 0s 2ms/step - loss: 3573.6775 - mae: 3573.6775\n",
            "Epoch 137/200\n",
            "34/34 [==============================] - 0s 2ms/step - loss: 3613.6531 - mae: 3613.6531\n",
            "Epoch 138/200\n",
            "34/34 [==============================] - 0s 2ms/step - loss: 3352.6711 - mae: 3352.6711\n",
            "Epoch 139/200\n",
            "34/34 [==============================] - 0s 2ms/step - loss: 3537.0920 - mae: 3537.0920\n",
            "Epoch 140/200\n",
            "34/34 [==============================] - 0s 2ms/step - loss: 3431.4973 - mae: 3431.4973\n",
            "Epoch 141/200\n",
            "34/34 [==============================] - 0s 2ms/step - loss: 3285.6409 - mae: 3285.6409\n",
            "Epoch 142/200\n",
            "34/34 [==============================] - 0s 2ms/step - loss: 3278.4609 - mae: 3278.4609\n",
            "Epoch 143/200\n",
            "34/34 [==============================] - 0s 2ms/step - loss: 3316.6978 - mae: 3316.6978\n",
            "Epoch 144/200\n",
            "34/34 [==============================] - 0s 2ms/step - loss: 3281.0120 - mae: 3281.0120\n",
            "Epoch 145/200\n",
            "34/34 [==============================] - 0s 2ms/step - loss: 3334.3533 - mae: 3334.3533\n",
            "Epoch 146/200\n",
            "34/34 [==============================] - 0s 2ms/step - loss: 3338.3110 - mae: 3338.3110\n",
            "Epoch 147/200\n",
            "34/34 [==============================] - 0s 2ms/step - loss: 3172.0608 - mae: 3172.0608\n",
            "Epoch 148/200\n",
            "34/34 [==============================] - 0s 2ms/step - loss: 3279.0264 - mae: 3279.0264\n",
            "Epoch 149/200\n",
            "34/34 [==============================] - 0s 2ms/step - loss: 3220.1013 - mae: 3220.1013\n",
            "Epoch 150/200\n",
            "34/34 [==============================] - 0s 2ms/step - loss: 3169.2466 - mae: 3169.2466\n",
            "Epoch 151/200\n",
            "34/34 [==============================] - 0s 2ms/step - loss: 3166.2002 - mae: 3166.2002\n",
            "Epoch 152/200\n",
            "34/34 [==============================] - 0s 2ms/step - loss: 3236.3582 - mae: 3236.3582\n",
            "Epoch 153/200\n",
            "34/34 [==============================] - 0s 2ms/step - loss: 3193.2788 - mae: 3193.2788\n",
            "Epoch 154/200\n",
            "34/34 [==============================] - 0s 2ms/step - loss: 3384.0081 - mae: 3384.0081\n",
            "Epoch 155/200\n",
            "34/34 [==============================] - 0s 2ms/step - loss: 3067.1682 - mae: 3067.1682\n",
            "Epoch 156/200\n",
            "34/34 [==============================] - 0s 2ms/step - loss: 3115.4810 - mae: 3115.4810\n",
            "Epoch 157/200\n",
            "34/34 [==============================] - 0s 2ms/step - loss: 3338.6594 - mae: 3338.6594\n",
            "Epoch 158/200\n",
            "34/34 [==============================] - 0s 2ms/step - loss: 3063.5454 - mae: 3063.5454\n",
            "Epoch 159/200\n",
            "34/34 [==============================] - 0s 2ms/step - loss: 3237.1826 - mae: 3237.1826\n",
            "Epoch 160/200\n",
            "34/34 [==============================] - 0s 2ms/step - loss: 3181.8047 - mae: 3181.8047\n",
            "Epoch 161/200\n",
            "34/34 [==============================] - 0s 2ms/step - loss: 3094.1724 - mae: 3094.1724\n",
            "Epoch 162/200\n",
            "34/34 [==============================] - 0s 3ms/step - loss: 3076.0176 - mae: 3076.0176\n",
            "Epoch 163/200\n",
            "34/34 [==============================] - 0s 2ms/step - loss: 3192.9431 - mae: 3192.9431\n",
            "Epoch 164/200\n",
            "34/34 [==============================] - 0s 2ms/step - loss: 3050.0854 - mae: 3050.0854\n",
            "Epoch 165/200\n",
            "34/34 [==============================] - 0s 2ms/step - loss: 3117.7390 - mae: 3117.7390\n",
            "Epoch 166/200\n",
            "34/34 [==============================] - 0s 2ms/step - loss: 2888.0425 - mae: 2888.0425\n",
            "Epoch 167/200\n",
            "34/34 [==============================] - 0s 2ms/step - loss: 3244.5076 - mae: 3244.5076\n",
            "Epoch 168/200\n",
            "34/34 [==============================] - 0s 2ms/step - loss: 3107.0879 - mae: 3107.0879\n",
            "Epoch 169/200\n",
            "34/34 [==============================] - 0s 2ms/step - loss: 3111.7605 - mae: 3111.7605\n",
            "Epoch 170/200\n",
            "34/34 [==============================] - 0s 2ms/step - loss: 3067.7258 - mae: 3067.7258\n",
            "Epoch 171/200\n",
            "34/34 [==============================] - 0s 2ms/step - loss: 2997.7039 - mae: 2997.7039\n",
            "Epoch 172/200\n",
            "34/34 [==============================] - 0s 2ms/step - loss: 3147.7397 - mae: 3147.7397\n",
            "Epoch 173/200\n",
            "34/34 [==============================] - 0s 2ms/step - loss: 3070.8164 - mae: 3070.8164\n",
            "Epoch 174/200\n",
            "34/34 [==============================] - 0s 3ms/step - loss: 3075.4343 - mae: 3075.4343\n",
            "Epoch 175/200\n",
            "34/34 [==============================] - 0s 2ms/step - loss: 2988.7014 - mae: 2988.7014\n",
            "Epoch 176/200\n",
            "34/34 [==============================] - 0s 2ms/step - loss: 2981.2402 - mae: 2981.2402\n",
            "Epoch 177/200\n",
            "34/34 [==============================] - 0s 2ms/step - loss: 2968.1353 - mae: 2968.1353\n",
            "Epoch 178/200\n",
            "34/34 [==============================] - 0s 2ms/step - loss: 3119.6265 - mae: 3119.6265\n",
            "Epoch 179/200\n",
            "34/34 [==============================] - 0s 2ms/step - loss: 3151.3223 - mae: 3151.3223\n",
            "Epoch 180/200\n",
            "34/34 [==============================] - 0s 2ms/step - loss: 3050.1316 - mae: 3050.1316\n",
            "Epoch 181/200\n",
            "34/34 [==============================] - 0s 2ms/step - loss: 3144.4287 - mae: 3144.4287\n",
            "Epoch 182/200\n",
            "34/34 [==============================] - 0s 2ms/step - loss: 2912.2671 - mae: 2912.2671\n",
            "Epoch 183/200\n",
            "34/34 [==============================] - 0s 2ms/step - loss: 2878.5793 - mae: 2878.5793\n",
            "Epoch 184/200\n",
            "34/34 [==============================] - 0s 2ms/step - loss: 3014.7695 - mae: 3014.7695\n",
            "Epoch 185/200\n",
            "34/34 [==============================] - 0s 3ms/step - loss: 2828.4255 - mae: 2828.4255\n",
            "Epoch 186/200\n",
            "34/34 [==============================] - 0s 2ms/step - loss: 3009.6501 - mae: 3009.6501\n",
            "Epoch 187/200\n",
            "34/34 [==============================] - 0s 2ms/step - loss: 3097.0112 - mae: 3097.0112\n",
            "Epoch 188/200\n",
            "34/34 [==============================] - 0s 2ms/step - loss: 2891.4795 - mae: 2891.4795\n",
            "Epoch 189/200\n",
            "34/34 [==============================] - 0s 2ms/step - loss: 3073.3298 - mae: 3073.3298\n",
            "Epoch 190/200\n",
            "34/34 [==============================] - 0s 2ms/step - loss: 3101.4714 - mae: 3101.4714\n",
            "Epoch 191/200\n",
            "34/34 [==============================] - 0s 2ms/step - loss: 3084.7288 - mae: 3084.7288\n",
            "Epoch 192/200\n",
            "34/34 [==============================] - 0s 2ms/step - loss: 3086.2559 - mae: 3086.2559\n",
            "Epoch 193/200\n",
            "34/34 [==============================] - 0s 2ms/step - loss: 2951.3359 - mae: 2951.3359\n",
            "Epoch 194/200\n",
            "34/34 [==============================] - 0s 2ms/step - loss: 2945.4182 - mae: 2945.4182\n",
            "Epoch 195/200\n",
            "34/34 [==============================] - 0s 2ms/step - loss: 2925.8564 - mae: 2925.8564\n",
            "Epoch 196/200\n",
            "34/34 [==============================] - 0s 2ms/step - loss: 3065.0972 - mae: 3065.0972\n",
            "Epoch 197/200\n",
            "34/34 [==============================] - 0s 2ms/step - loss: 3008.8159 - mae: 3008.8159\n",
            "Epoch 198/200\n",
            "34/34 [==============================] - 0s 3ms/step - loss: 3019.6821 - mae: 3019.6821\n",
            "Epoch 199/200\n",
            "34/34 [==============================] - 0s 2ms/step - loss: 2983.8838 - mae: 2983.8838\n",
            "Epoch 200/200\n",
            "34/34 [==============================] - 0s 2ms/step - loss: 2965.8252 - mae: 2965.8252\n"
          ]
        }
      ]
    },
    {
      "cell_type": "code",
      "source": [
        "ins_model4.evaluate(X_test_normal,y_test)"
      ],
      "metadata": {
        "colab": {
          "base_uri": "https://localhost:8080/"
        },
        "id": "J0TYDch9-Osj",
        "outputId": "3e31016d-c589-4d5c-dcba-0c4ac57ad7ce"
      },
      "execution_count": null,
      "outputs": [
        {
          "output_type": "stream",
          "name": "stdout",
          "text": [
            "9/9 [==============================] - 0s 2ms/step - loss: 3667.7595 - mae: 3667.7595\n"
          ]
        },
        {
          "output_type": "execute_result",
          "data": {
            "text/plain": [
              "[3667.759521484375, 3667.759521484375]"
            ]
          },
          "metadata": {},
          "execution_count": 67
        }
      ]
    },
    {
      "cell_type": "code",
      "source": [
        "bostonX"
      ],
      "metadata": {
        "colab": {
          "base_uri": "https://localhost:8080/",
          "height": 423
        },
        "id": "nPOTeeFn-anU",
        "outputId": "1f619a21-afb4-4b19-b401-12ce43075771"
      },
      "execution_count": null,
      "outputs": [
        {
          "output_type": "execute_result",
          "data": {
            "text/plain": [
              "       MedInc  HouseAge  AveRooms  AveBedrms  Population  AveOccup  Latitude  \\\n",
              "0      8.3252      41.0  6.984127   1.023810       322.0  2.555556     37.88   \n",
              "1      8.3014      21.0  6.238137   0.971880      2401.0  2.109842     37.86   \n",
              "2      7.2574      52.0  8.288136   1.073446       496.0  2.802260     37.85   \n",
              "3      5.6431      52.0  5.817352   1.073059       558.0  2.547945     37.85   \n",
              "4      3.8462      52.0  6.281853   1.081081       565.0  2.181467     37.85   \n",
              "...       ...       ...       ...        ...         ...       ...       ...   \n",
              "20635  1.5603      25.0  5.045455   1.133333       845.0  2.560606     39.48   \n",
              "20636  2.5568      18.0  6.114035   1.315789       356.0  3.122807     39.49   \n",
              "20637  1.7000      17.0  5.205543   1.120092      1007.0  2.325635     39.43   \n",
              "20638  1.8672      18.0  5.329513   1.171920       741.0  2.123209     39.43   \n",
              "20639  2.3886      16.0  5.254717   1.162264      1387.0  2.616981     39.37   \n",
              "\n",
              "       Longitude  \n",
              "0        -122.23  \n",
              "1        -122.22  \n",
              "2        -122.24  \n",
              "3        -122.25  \n",
              "4        -122.25  \n",
              "...          ...  \n",
              "20635    -121.09  \n",
              "20636    -121.21  \n",
              "20637    -121.22  \n",
              "20638    -121.32  \n",
              "20639    -121.24  \n",
              "\n",
              "[20640 rows x 8 columns]"
            ],
            "text/html": [
              "\n",
              "  <div id=\"df-29fac69d-066b-4c4d-ac48-1c3132fc3694\">\n",
              "    <div class=\"colab-df-container\">\n",
              "      <div>\n",
              "<style scoped>\n",
              "    .dataframe tbody tr th:only-of-type {\n",
              "        vertical-align: middle;\n",
              "    }\n",
              "\n",
              "    .dataframe tbody tr th {\n",
              "        vertical-align: top;\n",
              "    }\n",
              "\n",
              "    .dataframe thead th {\n",
              "        text-align: right;\n",
              "    }\n",
              "</style>\n",
              "<table border=\"1\" class=\"dataframe\">\n",
              "  <thead>\n",
              "    <tr style=\"text-align: right;\">\n",
              "      <th></th>\n",
              "      <th>MedInc</th>\n",
              "      <th>HouseAge</th>\n",
              "      <th>AveRooms</th>\n",
              "      <th>AveBedrms</th>\n",
              "      <th>Population</th>\n",
              "      <th>AveOccup</th>\n",
              "      <th>Latitude</th>\n",
              "      <th>Longitude</th>\n",
              "    </tr>\n",
              "  </thead>\n",
              "  <tbody>\n",
              "    <tr>\n",
              "      <th>0</th>\n",
              "      <td>8.3252</td>\n",
              "      <td>41.0</td>\n",
              "      <td>6.984127</td>\n",
              "      <td>1.023810</td>\n",
              "      <td>322.0</td>\n",
              "      <td>2.555556</td>\n",
              "      <td>37.88</td>\n",
              "      <td>-122.23</td>\n",
              "    </tr>\n",
              "    <tr>\n",
              "      <th>1</th>\n",
              "      <td>8.3014</td>\n",
              "      <td>21.0</td>\n",
              "      <td>6.238137</td>\n",
              "      <td>0.971880</td>\n",
              "      <td>2401.0</td>\n",
              "      <td>2.109842</td>\n",
              "      <td>37.86</td>\n",
              "      <td>-122.22</td>\n",
              "    </tr>\n",
              "    <tr>\n",
              "      <th>2</th>\n",
              "      <td>7.2574</td>\n",
              "      <td>52.0</td>\n",
              "      <td>8.288136</td>\n",
              "      <td>1.073446</td>\n",
              "      <td>496.0</td>\n",
              "      <td>2.802260</td>\n",
              "      <td>37.85</td>\n",
              "      <td>-122.24</td>\n",
              "    </tr>\n",
              "    <tr>\n",
              "      <th>3</th>\n",
              "      <td>5.6431</td>\n",
              "      <td>52.0</td>\n",
              "      <td>5.817352</td>\n",
              "      <td>1.073059</td>\n",
              "      <td>558.0</td>\n",
              "      <td>2.547945</td>\n",
              "      <td>37.85</td>\n",
              "      <td>-122.25</td>\n",
              "    </tr>\n",
              "    <tr>\n",
              "      <th>4</th>\n",
              "      <td>3.8462</td>\n",
              "      <td>52.0</td>\n",
              "      <td>6.281853</td>\n",
              "      <td>1.081081</td>\n",
              "      <td>565.0</td>\n",
              "      <td>2.181467</td>\n",
              "      <td>37.85</td>\n",
              "      <td>-122.25</td>\n",
              "    </tr>\n",
              "    <tr>\n",
              "      <th>...</th>\n",
              "      <td>...</td>\n",
              "      <td>...</td>\n",
              "      <td>...</td>\n",
              "      <td>...</td>\n",
              "      <td>...</td>\n",
              "      <td>...</td>\n",
              "      <td>...</td>\n",
              "      <td>...</td>\n",
              "    </tr>\n",
              "    <tr>\n",
              "      <th>20635</th>\n",
              "      <td>1.5603</td>\n",
              "      <td>25.0</td>\n",
              "      <td>5.045455</td>\n",
              "      <td>1.133333</td>\n",
              "      <td>845.0</td>\n",
              "      <td>2.560606</td>\n",
              "      <td>39.48</td>\n",
              "      <td>-121.09</td>\n",
              "    </tr>\n",
              "    <tr>\n",
              "      <th>20636</th>\n",
              "      <td>2.5568</td>\n",
              "      <td>18.0</td>\n",
              "      <td>6.114035</td>\n",
              "      <td>1.315789</td>\n",
              "      <td>356.0</td>\n",
              "      <td>3.122807</td>\n",
              "      <td>39.49</td>\n",
              "      <td>-121.21</td>\n",
              "    </tr>\n",
              "    <tr>\n",
              "      <th>20637</th>\n",
              "      <td>1.7000</td>\n",
              "      <td>17.0</td>\n",
              "      <td>5.205543</td>\n",
              "      <td>1.120092</td>\n",
              "      <td>1007.0</td>\n",
              "      <td>2.325635</td>\n",
              "      <td>39.43</td>\n",
              "      <td>-121.22</td>\n",
              "    </tr>\n",
              "    <tr>\n",
              "      <th>20638</th>\n",
              "      <td>1.8672</td>\n",
              "      <td>18.0</td>\n",
              "      <td>5.329513</td>\n",
              "      <td>1.171920</td>\n",
              "      <td>741.0</td>\n",
              "      <td>2.123209</td>\n",
              "      <td>39.43</td>\n",
              "      <td>-121.32</td>\n",
              "    </tr>\n",
              "    <tr>\n",
              "      <th>20639</th>\n",
              "      <td>2.3886</td>\n",
              "      <td>16.0</td>\n",
              "      <td>5.254717</td>\n",
              "      <td>1.162264</td>\n",
              "      <td>1387.0</td>\n",
              "      <td>2.616981</td>\n",
              "      <td>39.37</td>\n",
              "      <td>-121.24</td>\n",
              "    </tr>\n",
              "  </tbody>\n",
              "</table>\n",
              "<p>20640 rows × 8 columns</p>\n",
              "</div>\n",
              "      <button class=\"colab-df-convert\" onclick=\"convertToInteractive('df-29fac69d-066b-4c4d-ac48-1c3132fc3694')\"\n",
              "              title=\"Convert this dataframe to an interactive table.\"\n",
              "              style=\"display:none;\">\n",
              "        \n",
              "  <svg xmlns=\"http://www.w3.org/2000/svg\" height=\"24px\"viewBox=\"0 0 24 24\"\n",
              "       width=\"24px\">\n",
              "    <path d=\"M0 0h24v24H0V0z\" fill=\"none\"/>\n",
              "    <path d=\"M18.56 5.44l.94 2.06.94-2.06 2.06-.94-2.06-.94-.94-2.06-.94 2.06-2.06.94zm-11 1L8.5 8.5l.94-2.06 2.06-.94-2.06-.94L8.5 2.5l-.94 2.06-2.06.94zm10 10l.94 2.06.94-2.06 2.06-.94-2.06-.94-.94-2.06-.94 2.06-2.06.94z\"/><path d=\"M17.41 7.96l-1.37-1.37c-.4-.4-.92-.59-1.43-.59-.52 0-1.04.2-1.43.59L10.3 9.45l-7.72 7.72c-.78.78-.78 2.05 0 2.83L4 21.41c.39.39.9.59 1.41.59.51 0 1.02-.2 1.41-.59l7.78-7.78 2.81-2.81c.8-.78.8-2.07 0-2.86zM5.41 20L4 18.59l7.72-7.72 1.47 1.35L5.41 20z\"/>\n",
              "  </svg>\n",
              "      </button>\n",
              "      \n",
              "  <style>\n",
              "    .colab-df-container {\n",
              "      display:flex;\n",
              "      flex-wrap:wrap;\n",
              "      gap: 12px;\n",
              "    }\n",
              "\n",
              "    .colab-df-convert {\n",
              "      background-color: #E8F0FE;\n",
              "      border: none;\n",
              "      border-radius: 50%;\n",
              "      cursor: pointer;\n",
              "      display: none;\n",
              "      fill: #1967D2;\n",
              "      height: 32px;\n",
              "      padding: 0 0 0 0;\n",
              "      width: 32px;\n",
              "    }\n",
              "\n",
              "    .colab-df-convert:hover {\n",
              "      background-color: #E2EBFA;\n",
              "      box-shadow: 0px 1px 2px rgba(60, 64, 67, 0.3), 0px 1px 3px 1px rgba(60, 64, 67, 0.15);\n",
              "      fill: #174EA6;\n",
              "    }\n",
              "\n",
              "    [theme=dark] .colab-df-convert {\n",
              "      background-color: #3B4455;\n",
              "      fill: #D2E3FC;\n",
              "    }\n",
              "\n",
              "    [theme=dark] .colab-df-convert:hover {\n",
              "      background-color: #434B5C;\n",
              "      box-shadow: 0px 1px 3px 1px rgba(0, 0, 0, 0.15);\n",
              "      filter: drop-shadow(0px 1px 2px rgba(0, 0, 0, 0.3));\n",
              "      fill: #FFFFFF;\n",
              "    }\n",
              "  </style>\n",
              "\n",
              "      <script>\n",
              "        const buttonEl =\n",
              "          document.querySelector('#df-29fac69d-066b-4c4d-ac48-1c3132fc3694 button.colab-df-convert');\n",
              "        buttonEl.style.display =\n",
              "          google.colab.kernel.accessAllowed ? 'block' : 'none';\n",
              "\n",
              "        async function convertToInteractive(key) {\n",
              "          const element = document.querySelector('#df-29fac69d-066b-4c4d-ac48-1c3132fc3694');\n",
              "          const dataTable =\n",
              "            await google.colab.kernel.invokeFunction('convertToInteractive',\n",
              "                                                     [key], {});\n",
              "          if (!dataTable) return;\n",
              "\n",
              "          const docLinkHtml = 'Like what you see? Visit the ' +\n",
              "            '<a target=\"_blank\" href=https://colab.research.google.com/notebooks/data_table.ipynb>data table notebook</a>'\n",
              "            + ' to learn more about interactive tables.';\n",
              "          element.innerHTML = '';\n",
              "          dataTable['output_type'] = 'display_data';\n",
              "          await google.colab.output.renderOutput(dataTable, element);\n",
              "          const docLink = document.createElement('div');\n",
              "          docLink.innerHTML = docLinkHtml;\n",
              "          element.appendChild(docLink);\n",
              "        }\n",
              "      </script>\n",
              "    </div>\n",
              "  </div>\n",
              "  "
            ]
          },
          "metadata": {},
          "execution_count": 53
        }
      ]
    },
    {
      "cell_type": "code",
      "source": [
        "bostonX.columns"
      ],
      "metadata": {
        "colab": {
          "base_uri": "https://localhost:8080/"
        },
        "id": "JK_0CoAo_cSt",
        "outputId": "2876bf1f-34ea-45b6-880a-ec0e8fba7879"
      },
      "execution_count": null,
      "outputs": [
        {
          "output_type": "execute_result",
          "data": {
            "text/plain": [
              "Index(['MedInc', 'HouseAge', 'AveRooms', 'AveBedrms', 'Population', 'AveOccup',\n",
              "       'Latitude', 'Longitude'],\n",
              "      dtype='object')"
            ]
          },
          "metadata": {},
          "execution_count": 57
        }
      ]
    },
    {
      "cell_type": "code",
      "source": [
        "import seaborn as sns\n",
        "for col in bostonX.columns:\n",
        "  plt.figure(figsize=(17,1))\n",
        "  sns.boxplot(data=bostonX, x=col)"
      ],
      "metadata": {
        "colab": {
          "base_uri": "https://localhost:8080/",
          "height": 809
        },
        "id": "DJBgij2v_jQz",
        "outputId": "3d76c3bf-a753-4ef0-e282-29986523ed24"
      },
      "execution_count": null,
      "outputs": [
        {
          "output_type": "display_data",
          "data": {
            "text/plain": [
              "<Figure size 1224x72 with 1 Axes>"
            ],
            "image/png": "[encoded data removed]"
          },
          "metadata": {
            "needs_background": "light"
          }
        },
        {
          "output_type": "display_data",
          "data": {
            "text/plain": [
              "<Figure size 1224x72 with 1 Axes>"
            ],
            "image/png": "[encoded data removed]"
          },
          "metadata": {
            "needs_background": "light"
          }
        },
        {
          "output_type": "display_data",
          "data": {
            "text/plain": [
              "<Figure size 1224x72 with 1 Axes>"
            ],
            "image/png": "[encoded data removed]"
          },
          "metadata": {
            "needs_background": "light"
          }
        },
        {
          "output_type": "display_data",
          "data": {
            "text/plain": [
              "<Figure size 1224x72 with 1 Axes>"
            ],
            "image/png": "[encoded data removed]"
          },
          "metadata": {
            "needs_background": "light"
          }
        },
        {
          "output_type": "display_data",
          "data": {
            "text/plain": [
              "<Figure size 1224x72 with 1 Axes>"
            ],
            "image/png": "[encoded data removed]"
          },
          "metadata": {
            "needs_background": "light"
          }
        },
        {
          "output_type": "display_data",
          "data": {
            "text/plain": [
              "<Figure size 1224x72 with 1 Axes>"
            ],
            "image/png": "[encoded data removed]"
          },
          "metadata": {
            "needs_background": "light"
          }
        },
        {
          "output_type": "display_data",
          "data": {
            "text/plain": [
              "<Figure size 1224x72 with 1 Axes>"
            ],
            "image/png": "[encoded data removed]"
          },
          "metadata": {
            "needs_background": "light"
          }
        },
        {
          "output_type": "display_data",
          "data": {
            "text/plain": [
              "<Figure size 1224x72 with 1 Axes>"
            ],
            "image/png": "[encoded data removed]"
          },
          "metadata": {
            "needs_background": "light"
          }
        }
      ]
    },
    {
      "cell_type": "code",
      "source": [
        ""
      ],
      "metadata": {
        "colab": {
          "base_uri": "https://localhost:8080/"
        },
        "id": "mJcDXhD6_t7d",
        "outputId": "d4559d4f-43c0-497a-e3f6-ed2d475086ce"
      },
      "execution_count": null,
      "outputs": [
        {
          "output_type": "execute_result",
          "data": {
            "text/plain": [
              "pandas.core.frame.DataFrame"
            ]
          },
          "metadata": {},
          "execution_count": 60
        }
      ]
    },
    {
      "cell_type": "code",
      "source": [
        ""
      ],
      "metadata": {
        "id": "_h6eyFoVDnWe"
      },
      "execution_count": null,
      "outputs": []
    }
  ]
}